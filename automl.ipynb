{
 "cells": [
  {
   "cell_type": "markdown",
   "metadata": {},
   "source": [
    "# Automated ML\n",
    "\n",
    "TODO: Import Dependencies. In the cell below, import all the dependencies that you will need to complete the project."
   ]
  },
  {
   "cell_type": "code",
   "execution_count": 1,
   "metadata": {
    "gather": {
     "logged": 1598423888013
    },
    "jupyter": {
     "outputs_hidden": false,
     "source_hidden": false
    },
    "nteract": {
     "transient": {
      "deleting": false
     }
    }
   },
   "outputs": [],
   "source": [
    "from azureml.data.dataset_factory import FileDatasetFactory\n",
    "from azureml.core import Workspace, Experiment, Dataset\n",
    "from azureml.train.automl import AutoMLConfig\n",
    "from azureml.widgets import RunDetails\n",
    "from azureml.core.compute import ComputeTarget, AmlCompute\n",
    "from azureml.core.compute_target import ComputeTargetException\n",
    "\n",
    "from automl_data_utils import get_image_data_as_df"
   ]
  },
  {
   "cell_type": "markdown",
   "metadata": {},
   "source": [
    "## Dataset\n",
    "\n",
    "### Overview\n",
    "TODO: In this markdown cell, give an overview of the dataset you are using. Also mention the task you will be performing.\n",
    "\n",
    "\n",
    "TODO: Get data. In the cell below, write code to access the data you will be using in this project. Remember that the dataset needs to be external."
   ]
  },
  {
   "cell_type": "code",
   "execution_count": 4,
   "metadata": {
    "gather": {
     "logged": 1598423890461
    },
    "jupyter": {
     "outputs_hidden": false,
     "source_hidden": false
    },
    "nteract": {
     "transient": {
      "deleting": false
     }
    }
   },
   "outputs": [
    {
     "name": "stdout",
     "output_type": "stream",
     "text": [
      "Found existing cluster, using it!\n"
     ]
    }
   ],
   "source": [
    "ws = Workspace.from_config()\n",
    "\n",
    "# choose a name for experiment\n",
    "experiment_name = 'covid-pneumonia-automl'\n",
    "\n",
    "experiment=Experiment(ws, experiment_name)\n",
    "\n",
    "compute_name = \"compute-cluster1\"\n",
    "vm_size = \"STANDARD_NC6\"\n",
    "\n",
    "try:\n",
    "    compute_cluster = ComputeTarget(workspace=ws, name=compute_name)\n",
    "    print(\"Found existing cluster, using it!\")\n",
    "except ComputeTargetException:\n",
    "    compute_config = AmlCompute.provisioning_configuration(vm_size=vm_size, max_nodes=6)\n",
    "    compute_cluster = ComputeTarget.create(ws, compute_name, compute_config)\n",
    "compute_cluster.wait_for_completion()"
   ]
  },
  {
   "cell_type": "code",
   "execution_count": 5,
   "metadata": {},
   "outputs": [
    {
     "name": "stdout",
     "output_type": "stream",
     "text": [
      "Found 251 images belonging to 3 classes.\n",
      "image shape: (16, 130, 100, 1)\n",
      "label shape: (16,)\n",
      "\n",
      "image shape: (16, 130, 100, 1)\n",
      "label shape: (16,)\n",
      "\n",
      "image shape: (16, 130, 100, 1)\n",
      "label shape: (16,)\n",
      "\n",
      "image shape: (16, 130, 100, 1)\n",
      "label shape: (16,)\n",
      "\n",
      "image shape: (16, 130, 100, 1)\n",
      "label shape: (16,)\n",
      "\n",
      "image shape: (16, 130, 100, 1)\n",
      "label shape: (16,)\n",
      "\n",
      "image shape: (16, 130, 100, 1)\n",
      "label shape: (16,)\n",
      "\n",
      "image shape: (16, 130, 100, 1)\n",
      "label shape: (16,)\n",
      "\n",
      "image shape: (16, 130, 100, 1)\n",
      "label shape: (16,)\n",
      "\n",
      "image shape: (16, 130, 100, 1)\n",
      "label shape: (16,)\n",
      "\n",
      "image shape: (16, 130, 100, 1)\n",
      "label shape: (16,)\n",
      "\n",
      "image shape: (16, 130, 100, 1)\n",
      "label shape: (16,)\n",
      "\n",
      "image shape: (16, 130, 100, 1)\n",
      "label shape: (16,)\n",
      "\n",
      "image shape: (16, 130, 100, 1)\n",
      "label shape: (16,)\n",
      "\n",
      "image shape: (16, 130, 100, 1)\n",
      "label shape: (16,)\n",
      "\n",
      "image shape: (11, 130, 100, 1)\n",
      "label shape: (11,)\n",
      "\n",
      "flattened shape: (251, 13001)\n",
      "Found 66 images belonging to 3 classes.\n",
      "image shape: (16, 130, 100, 1)\n",
      "label shape: (16,)\n",
      "\n",
      "image shape: (16, 130, 100, 1)\n",
      "label shape: (16,)\n",
      "\n",
      "image shape: (16, 130, 100, 1)\n",
      "label shape: (16,)\n",
      "\n",
      "image shape: (16, 130, 100, 1)\n",
      "label shape: (16,)\n",
      "\n",
      "flattened shape: (64, 13001)\n"
     ]
    }
   ],
   "source": [
    "train_data, test_data = get_image_data_as_df(ws, './Covid19-dataset/train', './Covid19-dataset/test',\"covid-pneumonia-dataset-table\")"
   ]
  },
  {
   "cell_type": "code",
   "execution_count": 6,
   "metadata": {},
   "outputs": [
    {
     "data": {
      "text/html": [
       "<div>\n",
       "<style scoped>\n",
       "    .dataframe tbody tr th:only-of-type {\n",
       "        vertical-align: middle;\n",
       "    }\n",
       "\n",
       "    .dataframe tbody tr th {\n",
       "        vertical-align: top;\n",
       "    }\n",
       "\n",
       "    .dataframe thead th {\n",
       "        text-align: right;\n",
       "    }\n",
       "</style>\n",
       "<table border=\"1\" class=\"dataframe\">\n",
       "  <thead>\n",
       "    <tr style=\"text-align: right;\">\n",
       "      <th></th>\n",
       "      <th>0</th>\n",
       "      <th>1</th>\n",
       "      <th>2</th>\n",
       "      <th>3</th>\n",
       "      <th>4</th>\n",
       "      <th>5</th>\n",
       "      <th>6</th>\n",
       "      <th>7</th>\n",
       "      <th>8</th>\n",
       "      <th>9</th>\n",
       "      <th>...</th>\n",
       "      <th>12991</th>\n",
       "      <th>12992</th>\n",
       "      <th>12993</th>\n",
       "      <th>12994</th>\n",
       "      <th>12995</th>\n",
       "      <th>12996</th>\n",
       "      <th>12997</th>\n",
       "      <th>12998</th>\n",
       "      <th>12999</th>\n",
       "      <th>class</th>\n",
       "    </tr>\n",
       "  </thead>\n",
       "  <tbody>\n",
       "    <tr>\n",
       "      <th>0</th>\n",
       "      <td>0.000846</td>\n",
       "      <td>0.000938</td>\n",
       "      <td>0.002184</td>\n",
       "      <td>0.001569</td>\n",
       "      <td>0.001399</td>\n",
       "      <td>0.001369</td>\n",
       "      <td>0.001276</td>\n",
       "      <td>0.001707</td>\n",
       "      <td>0.001769</td>\n",
       "      <td>0.001830</td>\n",
       "      <td>...</td>\n",
       "      <td>0.002953</td>\n",
       "      <td>0.002999</td>\n",
       "      <td>0.002891</td>\n",
       "      <td>0.002907</td>\n",
       "      <td>0.002768</td>\n",
       "      <td>0.002645</td>\n",
       "      <td>0.002614</td>\n",
       "      <td>0.002614</td>\n",
       "      <td>0.002553</td>\n",
       "      <td>0</td>\n",
       "    </tr>\n",
       "    <tr>\n",
       "      <th>1</th>\n",
       "      <td>0.001630</td>\n",
       "      <td>0.002045</td>\n",
       "      <td>0.001369</td>\n",
       "      <td>0.001276</td>\n",
       "      <td>0.001138</td>\n",
       "      <td>0.000754</td>\n",
       "      <td>0.000830</td>\n",
       "      <td>0.001922</td>\n",
       "      <td>0.001815</td>\n",
       "      <td>0.001599</td>\n",
       "      <td>...</td>\n",
       "      <td>0.001492</td>\n",
       "      <td>0.002584</td>\n",
       "      <td>0.002107</td>\n",
       "      <td>0.002215</td>\n",
       "      <td>0.002553</td>\n",
       "      <td>0.003091</td>\n",
       "      <td>0.003030</td>\n",
       "      <td>0.002753</td>\n",
       "      <td>0.002461</td>\n",
       "      <td>0</td>\n",
       "    </tr>\n",
       "    <tr>\n",
       "      <th>2</th>\n",
       "      <td>0.000154</td>\n",
       "      <td>0.000200</td>\n",
       "      <td>0.000215</td>\n",
       "      <td>0.000261</td>\n",
       "      <td>0.000338</td>\n",
       "      <td>0.000723</td>\n",
       "      <td>0.000846</td>\n",
       "      <td>0.000830</td>\n",
       "      <td>0.000800</td>\n",
       "      <td>0.000846</td>\n",
       "      <td>...</td>\n",
       "      <td>0.000000</td>\n",
       "      <td>0.000000</td>\n",
       "      <td>0.000000</td>\n",
       "      <td>0.000000</td>\n",
       "      <td>0.000000</td>\n",
       "      <td>0.000000</td>\n",
       "      <td>0.000000</td>\n",
       "      <td>0.000000</td>\n",
       "      <td>0.000000</td>\n",
       "      <td>2</td>\n",
       "    </tr>\n",
       "    <tr>\n",
       "      <th>3</th>\n",
       "      <td>0.000384</td>\n",
       "      <td>0.000477</td>\n",
       "      <td>0.000415</td>\n",
       "      <td>0.000677</td>\n",
       "      <td>0.000292</td>\n",
       "      <td>0.000277</td>\n",
       "      <td>0.000292</td>\n",
       "      <td>0.000261</td>\n",
       "      <td>0.000292</td>\n",
       "      <td>0.000292</td>\n",
       "      <td>...</td>\n",
       "      <td>0.001461</td>\n",
       "      <td>0.001369</td>\n",
       "      <td>0.000877</td>\n",
       "      <td>0.000169</td>\n",
       "      <td>0.000185</td>\n",
       "      <td>0.000154</td>\n",
       "      <td>0.000154</td>\n",
       "      <td>0.000231</td>\n",
       "      <td>0.000015</td>\n",
       "      <td>0</td>\n",
       "    </tr>\n",
       "    <tr>\n",
       "      <th>4</th>\n",
       "      <td>0.000000</td>\n",
       "      <td>0.000000</td>\n",
       "      <td>0.000000</td>\n",
       "      <td>0.000261</td>\n",
       "      <td>0.000323</td>\n",
       "      <td>0.000354</td>\n",
       "      <td>0.000615</td>\n",
       "      <td>0.000677</td>\n",
       "      <td>0.000769</td>\n",
       "      <td>0.000815</td>\n",
       "      <td>...</td>\n",
       "      <td>0.000000</td>\n",
       "      <td>0.000000</td>\n",
       "      <td>0.000000</td>\n",
       "      <td>0.000000</td>\n",
       "      <td>0.000000</td>\n",
       "      <td>0.000000</td>\n",
       "      <td>0.000000</td>\n",
       "      <td>0.000000</td>\n",
       "      <td>0.000000</td>\n",
       "      <td>1</td>\n",
       "    </tr>\n",
       "  </tbody>\n",
       "</table>\n",
       "<p>5 rows × 13001 columns</p>\n",
       "</div>"
      ],
      "text/plain": [
       "          0         1         2         3         4         5         6  \\\n",
       "0  0.000846  0.000938  0.002184  0.001569  0.001399  0.001369  0.001276   \n",
       "1  0.001630  0.002045  0.001369  0.001276  0.001138  0.000754  0.000830   \n",
       "2  0.000154  0.000200  0.000215  0.000261  0.000338  0.000723  0.000846   \n",
       "3  0.000384  0.000477  0.000415  0.000677  0.000292  0.000277  0.000292   \n",
       "4  0.000000  0.000000  0.000000  0.000261  0.000323  0.000354  0.000615   \n",
       "\n",
       "          7         8         9  ...     12991     12992     12993     12994  \\\n",
       "0  0.001707  0.001769  0.001830  ...  0.002953  0.002999  0.002891  0.002907   \n",
       "1  0.001922  0.001815  0.001599  ...  0.001492  0.002584  0.002107  0.002215   \n",
       "2  0.000830  0.000800  0.000846  ...  0.000000  0.000000  0.000000  0.000000   \n",
       "3  0.000261  0.000292  0.000292  ...  0.001461  0.001369  0.000877  0.000169   \n",
       "4  0.000677  0.000769  0.000815  ...  0.000000  0.000000  0.000000  0.000000   \n",
       "\n",
       "      12995     12996     12997     12998     12999  class  \n",
       "0  0.002768  0.002645  0.002614  0.002614  0.002553      0  \n",
       "1  0.002553  0.003091  0.003030  0.002753  0.002461      0  \n",
       "2  0.000000  0.000000  0.000000  0.000000  0.000000      2  \n",
       "3  0.000185  0.000154  0.000154  0.000231  0.000015      0  \n",
       "4  0.000000  0.000000  0.000000  0.000000  0.000000      1  \n",
       "\n",
       "[5 rows x 13001 columns]"
      ]
     },
     "execution_count": 6,
     "metadata": {},
     "output_type": "execute_result"
    }
   ],
   "source": [
    "train_data.head()"
   ]
  },
  {
   "cell_type": "code",
   "execution_count": 7,
   "metadata": {},
   "outputs": [
    {
     "name": "stderr",
     "output_type": "stream",
     "text": [
      "Method register_pandas_dataframe: This is an experimental method, and may change at any time.<br/>For more information, see https://aka.ms/azuremlexperimental.\n"
     ]
    },
    {
     "name": "stdout",
     "output_type": "stream",
     "text": [
      "Validating arguments.\n",
      "Arguments validated.\n",
      "Successfully obtained datastore reference and path.\n",
      "Uploading file to managed-dataset/17e076fa-c8e3-43be-a038-d3b525f2ee62/\n",
      "Successfully uploaded file to datastore.\n",
      "Creating and registering a new dataset.\n",
      "Successfully created and registered a new dataset.\n"
     ]
    }
   ],
   "source": [
    "from azureml.data.dataset_factory import TabularDatasetFactory\n",
    "\n",
    "data_factory = TabularDatasetFactory.register_pandas_dataframe(train_data, target=ws.get_default_datastore(), name='CovidPneumoniaTable')"
   ]
  },
  {
   "cell_type": "markdown",
   "metadata": {},
   "source": [
    "## AutoML Configuration\n",
    "\n",
    "TODO: Explain why you chose the automl settings and cofiguration you used below."
   ]
  },
  {
   "cell_type": "code",
   "execution_count": 8,
   "metadata": {
    "gather": {
     "logged": 1598429217746
    },
    "jupyter": {
     "outputs_hidden": false,
     "source_hidden": false
    },
    "nteract": {
     "transient": {
      "deleting": false
     }
    }
   },
   "outputs": [],
   "source": [
    "# TODO: Put your automl settings here\n",
    "automl_settings = {\"enable_dnn\":True,\n",
    "                   \"experiment_timeout_minutes\":60,\n",
    "                   \"max_cores_per_iteration\":-1,\n",
    "                   \"enable_tf\":False,\n",
    "                   \"featurization\":\"off\"}\n",
    "\n",
    "# TODO: Put your automl config here\n",
    "automl_config = AutoMLConfig(task='classification',\n",
    "                             primary_metric='accuracy',\n",
    "                             compute_target=compute_cluster,\n",
    "                             training_data=data_factory,\n",
    "                             label_column_name='class',\n",
    "                             **automl_settings\n",
    "                             )"
   ]
  },
  {
   "cell_type": "code",
   "execution_count": 9,
   "metadata": {
    "gather": {
     "logged": 1598431107951
    },
    "jupyter": {
     "outputs_hidden": false,
     "source_hidden": false
    },
    "nteract": {
     "transient": {
      "deleting": false
     }
    }
   },
   "outputs": [
    {
     "name": "stdout",
     "output_type": "stream",
     "text": [
      "Submitting remote run.\n"
     ]
    },
    {
     "data": {
      "text/html": [
       "<table style=\"width:100%\"><tr><th>Experiment</th><th>Id</th><th>Type</th><th>Status</th><th>Details Page</th><th>Docs Page</th></tr><tr><td>covid-pneumonia-automl</td><td>AutoML_8a093984-8240-43d3-bfd7-118739acd5d4</td><td>automl</td><td>NotStarted</td><td><a href=\"https://ml.azure.com/runs/AutoML_8a093984-8240-43d3-bfd7-118739acd5d4?wsid=/subscriptions/610d6e37-4747-4a20-80eb-3aad70a55f43/resourcegroups/aml-quickstarts-142681/workspaces/quick-starts-ws-142681&amp;tid=660b3398-b80e-49d2-bc5b-ac1dc93b5254\" target=\"_blank\" rel=\"noopener\">Link to Azure Machine Learning studio</a></td><td><a href=\"https://docs.microsoft.com/en-us/python/api/overview/azure/ml/intro?view=azure-ml-py\" target=\"_blank\" rel=\"noopener\">Link to Documentation</a></td></tr></table>"
      ],
      "text/plain": [
       "<IPython.core.display.HTML object>"
      ]
     },
     "metadata": {},
     "output_type": "display_data"
    }
   ],
   "source": [
    "# TODO: Submit your experiment\n",
    "remote_run = experiment.submit(automl_config)"
   ]
  },
  {
   "cell_type": "markdown",
   "metadata": {},
   "source": [
    "## Run Details\n",
    "\n",
    "OPTIONAL: Write about the different models trained and their performance. Why do you think some models did better than others?\n",
    "\n",
    "TODO: In the cell below, use the `RunDetails` widget to show the different experiments."
   ]
  },
  {
   "cell_type": "code",
   "execution_count": 10,
   "metadata": {
    "gather": {
     "logged": 1598431121770
    },
    "jupyter": {
     "outputs_hidden": false,
     "source_hidden": false
    },
    "nteract": {
     "transient": {
      "deleting": false
     }
    }
   },
   "outputs": [
    {
     "data": {
      "application/vnd.jupyter.widget-view+json": {
       "model_id": "601833f475df4f10a62b4af85f5f90bf",
       "version_major": 2,
       "version_minor": 0
      },
      "text/plain": [
       "_AutoMLWidget(widget_settings={'childWidgetDisplay': 'popup', 'send_telemetry': False, 'log_level': 'INFO', 's…"
      ]
     },
     "metadata": {},
     "output_type": "display_data"
    },
    {
     "data": {
      "application/aml.mini.widget.v1": "{\"status\": \"Completed\", \"workbench_run_details_uri\": \"https://ml.azure.com/runs/AutoML_8a093984-8240-43d3-bfd7-118739acd5d4?wsid=/subscriptions/610d6e37-4747-4a20-80eb-3aad70a55f43/resourcegroups/aml-quickstarts-142681/workspaces/quick-starts-ws-142681&tid=660b3398-b80e-49d2-bc5b-ac1dc93b5254\", \"run_id\": \"AutoML_8a093984-8240-43d3-bfd7-118739acd5d4\", \"run_properties\": {\"run_id\": \"AutoML_8a093984-8240-43d3-bfd7-118739acd5d4\", \"created_utc\": \"2021-04-14T15:09:46.505852Z\", \"properties\": {\"num_iterations\": \"1000\", \"training_type\": \"TrainFull\", \"acquisition_function\": \"EI\", \"primary_metric\": \"accuracy\", \"train_split\": \"0\", \"acquisition_parameter\": \"0\", \"num_cross_validation\": null, \"target\": \"compute-cluster1\", \"AMLSettingsJsonString\": \"{\\\"path\\\":null,\\\"name\\\":\\\"covid-pneumonia-automl\\\",\\\"subscription_id\\\":\\\"610d6e37-4747-4a20-80eb-3aad70a55f43\\\",\\\"resource_group\\\":\\\"aml-quickstarts-142681\\\",\\\"workspace_name\\\":\\\"quick-starts-ws-142681\\\",\\\"region\\\":\\\"southcentralus\\\",\\\"compute_target\\\":\\\"compute-cluster1\\\",\\\"spark_service\\\":null,\\\"azure_service\\\":\\\"remote\\\",\\\"many_models\\\":false,\\\"pipeline_fetch_max_batch_size\\\":1,\\\"enable_batch_run\\\":false,\\\"enable_run_restructure\\\":false,\\\"iterations\\\":1000,\\\"primary_metric\\\":\\\"accuracy\\\",\\\"task_type\\\":\\\"classification\\\",\\\"data_script\\\":null,\\\"test_size\\\":0.0,\\\"validation_size\\\":0.0,\\\"n_cross_validations\\\":null,\\\"y_min\\\":null,\\\"y_max\\\":null,\\\"num_classes\\\":null,\\\"featurization\\\":\\\"auto\\\",\\\"_ignore_package_version_incompatibilities\\\":false,\\\"is_timeseries\\\":false,\\\"max_cores_per_iteration\\\":-1,\\\"max_concurrent_iterations\\\":1,\\\"iteration_timeout_minutes\\\":null,\\\"mem_in_mb\\\":null,\\\"enforce_time_on_windows\\\":false,\\\"experiment_timeout_minutes\\\":60,\\\"experiment_exit_score\\\":null,\\\"whitelist_models\\\":null,\\\"blacklist_algos\\\":[\\\"TensorFlowLinearClassifier\\\",\\\"TensorFlowDNN\\\"],\\\"supported_models\\\":[\\\"KNN\\\",\\\"ExtremeRandomTrees\\\",\\\"DecisionTree\\\",\\\"SVM\\\",\\\"MultinomialNaiveBayes\\\",\\\"BernoulliNaiveBayes\\\",\\\"SGD\\\",\\\"LinearSVM\\\",\\\"TensorFlowLinearClassifier\\\",\\\"TensorFlowDNN\\\",\\\"XGBoostClassifier\\\",\\\"AveragedPerceptronClassifier\\\",\\\"RandomForest\\\",\\\"GradientBoosting\\\",\\\"LightGBM\\\",\\\"LogisticRegression\\\"],\\\"private_models\\\":[],\\\"auto_blacklist\\\":true,\\\"blacklist_samples_reached\\\":false,\\\"exclude_nan_labels\\\":true,\\\"verbosity\\\":20,\\\"_debug_log\\\":\\\"azureml_automl.log\\\",\\\"show_warnings\\\":false,\\\"model_explainability\\\":true,\\\"service_url\\\":null,\\\"sdk_url\\\":null,\\\"sdk_packages\\\":null,\\\"enable_onnx_compatible_models\\\":false,\\\"enable_split_onnx_featurizer_estimator_models\\\":false,\\\"vm_type\\\":\\\"STANDARD_NC6\\\",\\\"telemetry_verbosity\\\":20,\\\"send_telemetry\\\":true,\\\"enable_dnn\\\":true,\\\"scenario\\\":\\\"SDK-1.13.0\\\",\\\"environment_label\\\":null,\\\"save_mlflow\\\":false,\\\"force_text_dnn\\\":false,\\\"enable_feature_sweeping\\\":true,\\\"enable_early_stopping\\\":false,\\\"early_stopping_n_iters\\\":10,\\\"metrics\\\":null,\\\"enable_metric_confidence\\\":false,\\\"enable_ensembling\\\":true,\\\"enable_stack_ensembling\\\":true,\\\"ensemble_iterations\\\":15,\\\"enable_tf\\\":false,\\\"enable_subsampling\\\":null,\\\"subsample_seed\\\":null,\\\"enable_nimbusml\\\":false,\\\"enable_streaming\\\":false,\\\"force_streaming\\\":false,\\\"track_child_runs\\\":true,\\\"allowed_private_models\\\":[],\\\"label_column_name\\\":\\\"class\\\",\\\"weight_column_name\\\":null,\\\"cv_split_column_names\\\":null,\\\"enable_local_managed\\\":false,\\\"_local_managed_run_id\\\":null,\\\"cost_mode\\\":1,\\\"lag_length\\\":0,\\\"metric_operation\\\":\\\"maximize\\\",\\\"preprocess\\\":true}\", \"DataPrepJsonString\": \"{\\\\\\\"training_data\\\\\\\": {\\\\\\\"datasetId\\\\\\\": \\\\\\\"07b38217-7805-4028-be08-d94b84995a26\\\\\\\"}, \\\\\\\"datasets\\\\\\\": 0}\", \"EnableSubsampling\": null, \"runTemplate\": \"AutoML\", \"azureml.runsource\": \"automl\", \"display_task_type\": \"classification\", \"dependencies_versions\": \"{\\\"azureml-widgets\\\": \\\"1.26.0\\\", \\\"azureml-train\\\": \\\"1.26.0\\\", \\\"azureml-train-restclients-hyperdrive\\\": \\\"1.26.0\\\", \\\"azureml-train-core\\\": \\\"1.26.0\\\", \\\"azureml-train-automl-client\\\": \\\"1.26.0\\\", \\\"azureml-tensorboard\\\": \\\"1.26.0\\\", \\\"azureml-telemetry\\\": \\\"1.26.0\\\", \\\"azureml-sdk\\\": \\\"1.26.0\\\", \\\"azureml-pipeline\\\": \\\"1.26.0\\\", \\\"azureml-pipeline-steps\\\": \\\"1.26.0\\\", \\\"azureml-pipeline-core\\\": \\\"1.26.0\\\", \\\"azureml-opendatasets\\\": \\\"1.26.0\\\", \\\"azureml-model-management-sdk\\\": \\\"1.0.1b6.post1\\\", \\\"azureml-mlflow\\\": \\\"1.26.0\\\", \\\"azureml-interpret\\\": \\\"1.26.0\\\", \\\"azureml-explain-model\\\": \\\"1.26.0\\\", \\\"azureml-defaults\\\": \\\"1.26.0\\\", \\\"azureml-dataset-runtime\\\": \\\"1.26.0\\\", \\\"azureml-dataprep\\\": \\\"2.13.2\\\", \\\"azureml-dataprep-rslex\\\": \\\"1.11.2\\\", \\\"azureml-dataprep-native\\\": \\\"32.0.0\\\", \\\"azureml-datadrift\\\": \\\"1.26.0\\\", \\\"azureml-core\\\": \\\"1.26.0\\\", \\\"azureml-contrib-services\\\": \\\"1.26.0\\\", \\\"azureml-contrib-server\\\": \\\"1.26.0\\\", \\\"azureml-contrib-reinforcementlearning\\\": \\\"1.26.0\\\", \\\"azureml-contrib-pipeline-steps\\\": \\\"1.26.0\\\", \\\"azureml-contrib-notebook\\\": \\\"1.26.0\\\", \\\"azureml-contrib-gbdt\\\": \\\"1.26.0\\\", \\\"azureml-contrib-fairness\\\": \\\"1.26.0\\\", \\\"azureml-contrib-dataset\\\": \\\"1.26.0\\\", \\\"azureml-cli-common\\\": \\\"1.26.0\\\", \\\"azureml-automl-core\\\": \\\"1.26.0\\\", \\\"azureml-accel-models\\\": \\\"1.26.0\\\"}\", \"_aml_system_scenario_identification\": \"Remote.Parent\", \"ClientType\": \"SDK\", \"environment_cpu_name\": \"AzureML-AutoML-DNN\", \"environment_cpu_label\": \"prod\", \"environment_gpu_name\": \"AzureML-AutoML-DNN-GPU\", \"environment_gpu_label\": \"prod\", \"root_attribution\": \"automl\", \"attribution\": \"AutoML\", \"Orchestrator\": \"AutoML\", \"CancelUri\": \"https://southcentralus.experiments.azureml.net/jasmine/v1.0/subscriptions/610d6e37-4747-4a20-80eb-3aad70a55f43/resourceGroups/aml-quickstarts-142681/providers/Microsoft.MachineLearningServices/workspaces/quick-starts-ws-142681/experimentids/8609b5ca-38b6-4aa8-ab86-bb66003a85f3/cancel/AutoML_8a093984-8240-43d3-bfd7-118739acd5d4\", \"azureml.git.repository_uri\": \"https://github.com/sreenithi/Covid-and-Pneumonia-XRay-Classification.git\", \"mlflow.source.git.repoURL\": \"https://github.com/sreenithi/Covid-and-Pneumonia-XRay-Classification.git\", \"azureml.git.branch\": \"main\", \"mlflow.source.git.branch\": \"main\", \"azureml.git.commit\": \"9437f4b4be80bb5a236947434e8d194b5e31c107\", \"mlflow.source.git.commit\": \"9437f4b4be80bb5a236947434e8d194b5e31c107\", \"azureml.git.dirty\": \"True\", \"ClientSdkVersion\": \"1.25.0\", \"snapshotId\": \"00000000-0000-0000-0000-000000000000\", \"SetupRunId\": \"AutoML_8a093984-8240-43d3-bfd7-118739acd5d4_setup\", \"SetupRunContainerId\": \"dcid.AutoML_8a093984-8240-43d3-bfd7-118739acd5d4_setup\", \"FeaturizationRunJsonPath\": \"featurizer_container.json\", \"FeaturizationRunId\": \"AutoML_8a093984-8240-43d3-bfd7-118739acd5d4_featurize\", \"ProblemInfoJsonString\": \"{\\\"dataset_num_categorical\\\": 0, \\\"is_sparse\\\": false, \\\"subsampling\\\": false, \\\"dataset_classes\\\": 3, \\\"dataset_features\\\": 13008, \\\"dataset_samples\\\": 251, \\\"single_frequency_class_detected\\\": false}\", \"ModelExplainRunId\": \"AutoML_8a093984-8240-43d3-bfd7-118739acd5d4_ModelExplain\"}, \"tags\": {\"model_explain_run\": \"best_run\", \"_aml_system_azureml.automlComponent\": \"AutoML\", \"is_gpu\": \"True\", \"pipeline_id\": \"\", \"score\": \"\", \"predicted_cost\": \"\", \"fit_time\": \"\", \"training_percent\": \"\", \"iteration\": \"\", \"run_preprocessor\": \"\", \"run_algorithm\": \"\", \"automl_best_child_run_id\": \"AutoML_8a093984-8240-43d3-bfd7-118739acd5d4_17\", \"model_explain_best_run_child_id\": \"AutoML_8a093984-8240-43d3-bfd7-118739acd5d4_17\"}, \"end_time_utc\": \"2021-04-14T16:49:49.102022Z\", \"status\": \"Completed\", \"log_files\": {}, \"log_groups\": [], \"run_duration\": \"1:40:02\", \"run_number\": \"1\", \"run_queued_details\": {\"status\": \"Completed\", \"details\": null}}, \"child_runs\": [{\"run_id\": \"AutoML_8a093984-8240-43d3-bfd7-118739acd5d4_0\", \"run_number\": 5, \"metric\": null, \"status\": \"Completed\", \"run_type\": \"azureml.scriptrun\", \"training_percent\": \"100\", \"start_time\": \"2021-04-14T15:44:27.853501Z\", \"end_time\": \"2021-04-14T15:51:25.965Z\", \"created_time\": \"2021-04-14T15:44:14.740255Z\", \"created_time_dt\": \"2021-04-14T15:44:14.740255Z\", \"duration\": \"0:07:11\", \"iteration\": \"0\", \"goal\": \"accuracy_max\", \"run_name\": \"MaxAbsScaler, LightGBM\", \"run_properties\": \"copy=True\", \"primary_metric\": 0.91261538, \"best_metric\": 0.91261538}, {\"run_id\": \"AutoML_8a093984-8240-43d3-bfd7-118739acd5d4_1\", \"run_number\": 6, \"metric\": null, \"status\": \"Completed\", \"run_type\": \"azureml.scriptrun\", \"training_percent\": \"100\", \"start_time\": \"2021-04-14T15:51:39.666064Z\", \"end_time\": \"2021-04-14T15:57:03.665543Z\", \"created_time\": \"2021-04-14T15:51:27.841787Z\", \"created_time_dt\": \"2021-04-14T15:51:27.841787Z\", \"duration\": \"0:05:35\", \"iteration\": \"1\", \"goal\": \"accuracy_max\", \"run_name\": \"MaxAbsScaler, XGBoostClassifier\", \"run_properties\": \"copy=True\", \"primary_metric\": 0.92815385, \"best_metric\": 0.92815385}, {\"run_id\": \"AutoML_8a093984-8240-43d3-bfd7-118739acd5d4_2\", \"run_number\": 7, \"metric\": null, \"status\": \"Completed\", \"run_type\": \"azureml.scriptrun\", \"training_percent\": \"100\", \"start_time\": \"2021-04-14T15:57:20.324577Z\", \"end_time\": \"2021-04-14T15:59:48.509673Z\", \"created_time\": \"2021-04-14T15:57:05.021846Z\", \"created_time_dt\": \"2021-04-14T15:57:05.021846Z\", \"duration\": \"0:02:43\", \"iteration\": \"2\", \"goal\": \"accuracy_max\", \"run_name\": \"MinMaxScaler, RandomForest\", \"run_properties\": \"copy=True, feature_range=(0, 1\", \"primary_metric\": 0.88846154, \"best_metric\": 0.92815385}, {\"run_id\": \"AutoML_8a093984-8240-43d3-bfd7-118739acd5d4_3\", \"run_number\": 8, \"metric\": null, \"status\": \"Completed\", \"run_type\": \"azureml.scriptrun\", \"training_percent\": \"100\", \"start_time\": \"2021-04-14T16:00:08.049082Z\", \"end_time\": \"2021-04-14T16:01:18.418508Z\", \"created_time\": \"2021-04-14T15:59:51.111542Z\", \"created_time_dt\": \"2021-04-14T15:59:51.111542Z\", \"duration\": \"0:01:27\", \"iteration\": \"3\", \"goal\": \"accuracy_max\", \"run_name\": \"MinMaxScaler, RandomForest\", \"run_properties\": \"copy=True, feature_range=(0, 1\", \"primary_metric\": 0.88030769, \"best_metric\": 0.92815385}, {\"run_id\": \"AutoML_8a093984-8240-43d3-bfd7-118739acd5d4_4\", \"run_number\": 9, \"metric\": null, \"status\": \"Completed\", \"run_type\": \"azureml.scriptrun\", \"training_percent\": \"100\", \"start_time\": \"2021-04-14T16:01:30.205137Z\", \"end_time\": \"2021-04-14T16:03:55.698089Z\", \"created_time\": \"2021-04-14T16:01:21.536168Z\", \"created_time_dt\": \"2021-04-14T16:01:21.536168Z\", \"duration\": \"0:02:34\", \"iteration\": \"4\", \"goal\": \"accuracy_max\", \"run_name\": \"MinMaxScaler, RandomForest\", \"run_properties\": \"copy=True, feature_range=(0, 1\", \"primary_metric\": 0.90476923, \"best_metric\": 0.92815385}, {\"run_id\": \"AutoML_8a093984-8240-43d3-bfd7-118739acd5d4_5\", \"run_number\": 10, \"metric\": null, \"status\": \"Completed\", \"run_type\": \"azureml.scriptrun\", \"training_percent\": \"100\", \"start_time\": \"2021-04-14T16:04:09.207984Z\", \"end_time\": \"2021-04-14T16:05:42.288432Z\", \"created_time\": \"2021-04-14T16:03:58.713954Z\", \"created_time_dt\": \"2021-04-14T16:03:58.713954Z\", \"duration\": \"0:01:43\", \"iteration\": \"5\", \"goal\": \"accuracy_max\", \"run_name\": \"MinMaxScaler, SVM\", \"run_properties\": \"copy=True, feature_range=(0, 1\", \"primary_metric\": 0.94030769, \"best_metric\": 0.94030769}, {\"run_id\": \"AutoML_8a093984-8240-43d3-bfd7-118739acd5d4_6\", \"run_number\": 11, \"metric\": null, \"status\": \"Completed\", \"run_type\": \"azureml.scriptrun\", \"training_percent\": \"100\", \"start_time\": \"2021-04-14T16:05:55.041957Z\", \"end_time\": \"2021-04-14T16:15:55.020337Z\", \"created_time\": \"2021-04-14T16:05:45.272541Z\", \"created_time_dt\": \"2021-04-14T16:05:45.272541Z\", \"duration\": \"0:10:09\", \"iteration\": \"6\", \"goal\": \"accuracy_max\", \"run_name\": \"MaxAbsScaler, GradientBoosting\", \"run_properties\": \"copy=True\", \"primary_metric\": 0.90861538, \"best_metric\": 0.94030769}, {\"run_id\": \"AutoML_8a093984-8240-43d3-bfd7-118739acd5d4_7\", \"run_number\": 12, \"metric\": null, \"status\": \"Completed\", \"run_type\": \"azureml.scriptrun\", \"training_percent\": \"100\", \"start_time\": \"2021-04-14T16:16:06.701948Z\", \"end_time\": \"2021-04-14T16:18:33.632771Z\", \"created_time\": \"2021-04-14T16:15:57.0355Z\", \"created_time_dt\": \"2021-04-14T16:15:57.0355Z\", \"duration\": \"0:02:36\", \"iteration\": \"7\", \"goal\": \"accuracy_max\", \"run_name\": \"StandardScalerWrapper, RandomForest\", \"run_properties\": \"<azureml.automl.runtime.shared.model_wrappers.StandardScalerWrapper object at 0x7f7a73527828\", \"primary_metric\": 0.84446154, \"best_metric\": 0.94030769}, {\"run_id\": \"AutoML_8a093984-8240-43d3-bfd7-118739acd5d4_8\", \"run_number\": 13, \"metric\": null, \"status\": \"Completed\", \"run_type\": \"azureml.scriptrun\", \"training_percent\": \"100\", \"start_time\": \"2021-04-14T16:18:46.842614Z\", \"end_time\": \"2021-04-14T16:20:57.964416Z\", \"created_time\": \"2021-04-14T16:18:37.893861Z\", \"created_time_dt\": \"2021-04-14T16:18:37.893861Z\", \"duration\": \"0:02:20\", \"iteration\": \"8\", \"goal\": \"accuracy_max\", \"run_name\": \"SparseNormalizer, LightGBM\", \"run_properties\": \"<azureml.automl.runtime.shared.model_wrappers.SparseNormalizer object at 0x7fcde7b209b0\", \"primary_metric\": 0.90461538, \"best_metric\": 0.94030769}, {\"run_id\": \"AutoML_8a093984-8240-43d3-bfd7-118739acd5d4_9\", \"run_number\": 14, \"metric\": null, \"status\": \"Completed\", \"run_type\": \"azureml.scriptrun\", \"training_percent\": \"100\", \"start_time\": \"2021-04-14T16:21:18.646774Z\", \"end_time\": \"2021-04-14T16:24:06.805203Z\", \"created_time\": \"2021-04-14T16:21:01.030038Z\", \"created_time_dt\": \"2021-04-14T16:21:01.030038Z\", \"duration\": \"0:03:05\", \"iteration\": \"9\", \"goal\": \"accuracy_max\", \"run_name\": \"SparseNormalizer, XGBoostClassifier\", \"run_properties\": \"<azureml.automl.runtime.shared.model_wrappers.SparseNormalizer object at 0x7f105815d2b0\", \"primary_metric\": 0.90861538, \"best_metric\": 0.94030769}, {\"run_id\": \"AutoML_8a093984-8240-43d3-bfd7-118739acd5d4_10\", \"run_number\": 15, \"metric\": null, \"status\": \"Completed\", \"run_type\": \"azureml.scriptrun\", \"training_percent\": \"100\", \"start_time\": \"2021-04-14T16:24:51.78463Z\", \"end_time\": \"2021-04-14T16:27:59.394268Z\", \"created_time\": \"2021-04-14T16:24:09.511056Z\", \"created_time_dt\": \"2021-04-14T16:24:09.511056Z\", \"duration\": \"0:03:49\", \"iteration\": \"10\", \"goal\": \"accuracy_max\", \"run_name\": \"SparseNormalizer, XGBoostClassifier\", \"run_properties\": \"<azureml.automl.runtime.shared.model_wrappers.SparseNormalizer object at 0x7f9fc0524ef0\", \"primary_metric\": 0.91246154, \"best_metric\": 0.94030769}, {\"run_id\": \"AutoML_8a093984-8240-43d3-bfd7-118739acd5d4_11\", \"run_number\": 16, \"metric\": null, \"status\": \"Completed\", \"run_type\": \"azureml.scriptrun\", \"training_percent\": \"100\", \"start_time\": \"2021-04-14T16:28:20.42922Z\", \"end_time\": \"2021-04-14T16:30:24.026283Z\", \"created_time\": \"2021-04-14T16:28:01.64444Z\", \"created_time_dt\": \"2021-04-14T16:28:01.64444Z\", \"duration\": \"0:02:22\", \"iteration\": \"11\", \"goal\": \"accuracy_max\", \"run_name\": \"MaxAbsScaler, LightGBM\", \"run_properties\": \"copy=True\", \"primary_metric\": 0.89246154, \"best_metric\": 0.94030769}, {\"run_id\": \"AutoML_8a093984-8240-43d3-bfd7-118739acd5d4_12\", \"run_number\": 17, \"metric\": null, \"status\": \"Completed\", \"run_type\": \"azureml.scriptrun\", \"training_percent\": \"100\", \"start_time\": \"2021-04-14T16:30:39.842308Z\", \"end_time\": \"2021-04-14T16:31:51.689309Z\", \"created_time\": \"2021-04-14T16:30:29.323154Z\", \"created_time_dt\": \"2021-04-14T16:30:29.323154Z\", \"duration\": \"0:01:22\", \"iteration\": \"12\", \"goal\": \"accuracy_max\", \"run_name\": \"StandardScalerWrapper, ExtremeRandomTrees\", \"run_properties\": \"<azureml.automl.runtime.shared.model_wrappers.StandardScalerWrapper object at 0x7f378a9e53c8\", \"primary_metric\": 0.89261538, \"best_metric\": 0.94030769}, {\"run_id\": \"AutoML_8a093984-8240-43d3-bfd7-118739acd5d4_13\", \"run_number\": 18, \"metric\": null, \"status\": \"Completed\", \"run_type\": \"azureml.scriptrun\", \"training_percent\": \"100\", \"start_time\": \"2021-04-14T16:32:16.592691Z\", \"end_time\": \"2021-04-14T16:33:53.410043Z\", \"created_time\": \"2021-04-14T16:31:54.936368Z\", \"created_time_dt\": \"2021-04-14T16:31:54.936368Z\", \"duration\": \"0:01:58\", \"iteration\": \"13\", \"goal\": \"accuracy_max\", \"run_name\": \"MaxAbsScaler, LightGBM\", \"run_properties\": \"copy=True\", \"primary_metric\": 0.87261538, \"best_metric\": 0.94030769}, {\"run_id\": \"AutoML_8a093984-8240-43d3-bfd7-118739acd5d4_14\", \"run_number\": 19, \"metric\": null, \"status\": \"Completed\", \"run_type\": \"azureml.scriptrun\", \"training_percent\": \"100\", \"start_time\": \"2021-04-14T16:34:11.23025Z\", \"end_time\": \"2021-04-14T16:39:47.434893Z\", \"created_time\": \"2021-04-14T16:33:57.38445Z\", \"created_time_dt\": \"2021-04-14T16:33:57.38445Z\", \"duration\": \"0:05:50\", \"iteration\": \"14\", \"goal\": \"accuracy_max\", \"run_name\": \"SparseNormalizer, XGBoostClassifier\", \"run_properties\": \"<azureml.automl.runtime.shared.model_wrappers.SparseNormalizer object at 0x7f151e204fd0\", \"primary_metric\": 0.90076923, \"best_metric\": 0.94030769}, {\"run_id\": \"AutoML_8a093984-8240-43d3-bfd7-118739acd5d4_15\", \"run_number\": 20, \"metric\": null, \"status\": \"Completed\", \"run_type\": \"azureml.scriptrun\", \"training_percent\": \"100\", \"start_time\": \"2021-04-14T16:40:04.371505Z\", \"end_time\": \"2021-04-14T16:42:35.404564Z\", \"created_time\": \"2021-04-14T16:39:49.872157Z\", \"created_time_dt\": \"2021-04-14T16:39:49.872157Z\", \"duration\": \"0:02:45\", \"iteration\": \"15\", \"goal\": \"accuracy_max\", \"run_name\": \"MinMaxScaler, LightGBM\", \"run_properties\": \"copy=True, feature_range=(0, 1\", \"primary_metric\": 0.90861538, \"best_metric\": 0.94030769}, {\"run_id\": \"AutoML_8a093984-8240-43d3-bfd7-118739acd5d4_16\", \"run_number\": 21, \"metric\": null, \"status\": \"Canceled\", \"run_type\": \"azureml.scriptrun\", \"training_percent\": \"100\", \"start_time\": \"2021-04-14T16:42:49.620314Z\", \"end_time\": \"2021-04-14T16:45:13.232456Z\", \"created_time\": \"2021-04-14T16:42:38.044133Z\", \"created_time_dt\": \"2021-04-14T16:42:38.044133Z\", \"duration\": \"0:02:35\", \"iteration\": \"16\", \"goal\": null, \"run_name\": \"SparseNormalizer, XGBoostClassifier\", \"run_properties\": null}, {\"run_id\": \"AutoML_8a093984-8240-43d3-bfd7-118739acd5d4_17\", \"run_number\": 22, \"metric\": null, \"status\": \"Completed\", \"run_type\": \"azureml.scriptrun\", \"training_percent\": \"100\", \"start_time\": \"2021-04-14T16:45:33.056159Z\", \"end_time\": \"2021-04-14T16:47:29.941185Z\", \"created_time\": \"2021-04-14T16:45:15.858553Z\", \"created_time_dt\": \"2021-04-14T16:45:15.858553Z\", \"duration\": \"0:02:14\", \"iteration\": \"17\", \"goal\": \"accuracy_max\", \"run_name\": \"VotingEnsemble\", \"run_properties\": \"classification_labels=None,\\n                              estimators=[('5',\\n                                           Pipeline(memory=None,\\n                                                    steps=[('minmaxscaler',\\n                                                            MinMaxScaler(copy=True,\\n                                                                         feature_range=(0,\\n                                                                                        1\", \"primary_metric\": 0.95630769, \"best_metric\": 0.95630769}, {\"run_id\": \"AutoML_8a093984-8240-43d3-bfd7-118739acd5d4_18\", \"run_number\": 23, \"metric\": null, \"status\": \"Completed\", \"run_type\": \"azureml.scriptrun\", \"training_percent\": \"100\", \"start_time\": \"2021-04-14T16:47:50.202599Z\", \"end_time\": \"2021-04-14T16:49:46.715177Z\", \"created_time\": \"2021-04-14T16:47:31.172218Z\", \"created_time_dt\": \"2021-04-14T16:47:31.172218Z\", \"duration\": \"0:02:15\", \"iteration\": \"18\", \"goal\": \"accuracy_max\", \"run_name\": \"StackEnsemble\", \"run_properties\": \"base_learners=[('5',\\n                                        Pipeline(memory=None,\\n                                                 steps=[('minmaxscaler',\\n                                                         MinMaxScaler(copy=True,\\n                                                                      feature_range=(0,\\n                                                                                     1\", \"primary_metric\": 0.94430769, \"best_metric\": 0.95630769}], \"children_metrics\": {\"categories\": [0], \"series\": {\"average_precision_score_macro\": [{\"categories\": [\"0\", \"1\", \"2\", \"3\", \"4\", \"5\", \"6\", \"7\", \"8\", \"9\", \"10\", \"11\", \"12\", \"13\", \"14\", \"15\", \"17\", \"18\"], \"mode\": \"markers\", \"name\": \"average_precision_score_macro\", \"stepped\": false, \"type\": \"scatter\", \"data\": [0.972052982491294, 0.9786761446826381, 0.9546671735543905, 0.9456729995157866, 0.960840650040596, 0.9860097927357542, 0.9632429850357178, 0.9359890733549575, 0.9702917580748082, 0.9697287557112106, 0.9640141964909695, 0.9682618281282117, 0.953486171985217, 0.9463715788329556, 0.975073439517433, 0.9669836001240221, 0.9834437695241265, 0.9794447014625586]}, {\"categories\": [\"0\", \"1\", \"2\", \"3\", \"4\", \"5\", \"6\", \"7\", \"8\", \"9\", \"10\", \"11\", \"12\", \"13\", \"14\", \"15\", \"17\", \"18\"], \"mode\": \"lines\", \"name\": \"average_precision_score_macro_max\", \"stepped\": true, \"type\": \"scatter\", \"data\": [0.972052982491294, 0.9786761446826381, 0.9786761446826381, 0.9786761446826381, 0.9786761446826381, 0.9860097927357542, 0.9860097927357542, 0.9860097927357542, 0.9860097927357542, 0.9860097927357542, 0.9860097927357542, 0.9860097927357542, 0.9860097927357542, 0.9860097927357542, 0.9860097927357542, 0.9860097927357542, 0.9860097927357542, 0.9860097927357542]}], \"average_precision_score_weighted\": [{\"categories\": [\"0\", \"1\", \"2\", \"3\", \"4\", \"5\", \"6\", \"7\", \"8\", \"9\", \"10\", \"11\", \"12\", \"13\", \"14\", \"15\", \"17\", \"18\"], \"mode\": \"markers\", \"name\": \"average_precision_score_weighted\", \"stepped\": false, \"type\": \"scatter\", \"data\": [0.9770788395365317, 0.9813430475507398, 0.9646483738483738, 0.9567439391428078, 0.9681737151737151, 0.9881695970695971, 0.9684384896902996, 0.9507816089893012, 0.974729675879676, 0.9735960317460318, 0.969375962925963, 0.9734505844582767, 0.963501894837189, 0.9538728706687982, 0.9782157176157176, 0.9730935564435563, 0.985922212829905, 0.9817389738466661]}, {\"categories\": [\"0\", \"1\", \"2\", \"3\", \"4\", \"5\", \"6\", \"7\", \"8\", \"9\", \"10\", \"11\", \"12\", \"13\", \"14\", \"15\", \"17\", \"18\"], \"mode\": \"lines\", \"name\": \"average_precision_score_weighted_max\", \"stepped\": true, \"type\": \"scatter\", \"data\": [0.9770788395365317, 0.9813430475507398, 0.9813430475507398, 0.9813430475507398, 0.9813430475507398, 0.9881695970695971, 0.9881695970695971, 0.9881695970695971, 0.9881695970695971, 0.9881695970695971, 0.9881695970695971, 0.9881695970695971, 0.9881695970695971, 0.9881695970695971, 0.9881695970695971, 0.9881695970695971, 0.9881695970695971, 0.9881695970695971]}], \"recall_score_weighted\": [{\"categories\": [\"0\", \"1\", \"2\", \"3\", \"4\", \"5\", \"6\", \"7\", \"8\", \"9\", \"10\", \"11\", \"12\", \"13\", \"14\", \"15\", \"17\", \"18\"], \"mode\": \"markers\", \"name\": \"recall_score_weighted\", \"stepped\": false, \"type\": \"scatter\", \"data\": [0.9126153846153846, 0.9281538461538463, 0.8884615384615383, 0.8803076923076922, 0.9047692307692309, 0.9403076923076924, 0.9086153846153847, 0.8444615384615386, 0.9046153846153848, 0.9086153846153847, 0.9124615384615385, 0.8924615384615386, 0.8926153846153847, 0.8726153846153846, 0.9007692307692308, 0.9086153846153847, 0.9563076923076924, 0.9443076923076923]}, {\"categories\": [\"0\", \"1\", \"2\", \"3\", \"4\", \"5\", \"6\", \"7\", \"8\", \"9\", \"10\", \"11\", \"12\", \"13\", \"14\", \"15\", \"17\", \"18\"], \"mode\": \"lines\", \"name\": \"recall_score_weighted_max\", \"stepped\": true, \"type\": \"scatter\", \"data\": [0.9126153846153846, 0.9281538461538463, 0.9281538461538463, 0.9281538461538463, 0.9281538461538463, 0.9403076923076924, 0.9403076923076924, 0.9403076923076924, 0.9403076923076924, 0.9403076923076924, 0.9403076923076924, 0.9403076923076924, 0.9403076923076924, 0.9403076923076924, 0.9403076923076924, 0.9403076923076924, 0.9563076923076924, 0.9563076923076924]}], \"f1_score_micro\": [{\"categories\": [\"0\", \"1\", \"2\", \"3\", \"4\", \"5\", \"6\", \"7\", \"8\", \"9\", \"10\", \"11\", \"12\", \"13\", \"14\", \"15\", \"17\", \"18\"], \"mode\": \"markers\", \"name\": \"f1_score_micro\", \"stepped\": false, \"type\": \"scatter\", \"data\": [0.9126153846153846, 0.9281538461538463, 0.8884615384615383, 0.8803076923076922, 0.9047692307692309, 0.9403076923076924, 0.9086153846153847, 0.8444615384615386, 0.9046153846153848, 0.9086153846153847, 0.9124615384615385, 0.8924615384615386, 0.8926153846153847, 0.8726153846153846, 0.9007692307692308, 0.9086153846153847, 0.9563076923076924, 0.9443076923076923]}, {\"categories\": [\"0\", \"1\", \"2\", \"3\", \"4\", \"5\", \"6\", \"7\", \"8\", \"9\", \"10\", \"11\", \"12\", \"13\", \"14\", \"15\", \"17\", \"18\"], \"mode\": \"lines\", \"name\": \"f1_score_micro_max\", \"stepped\": true, \"type\": \"scatter\", \"data\": [0.9126153846153846, 0.9281538461538463, 0.9281538461538463, 0.9281538461538463, 0.9281538461538463, 0.9403076923076924, 0.9403076923076924, 0.9403076923076924, 0.9403076923076924, 0.9403076923076924, 0.9403076923076924, 0.9403076923076924, 0.9403076923076924, 0.9403076923076924, 0.9403076923076924, 0.9403076923076924, 0.9563076923076924, 0.9563076923076924]}], \"precision_score_micro\": [{\"categories\": [\"0\", \"1\", \"2\", \"3\", \"4\", \"5\", \"6\", \"7\", \"8\", \"9\", \"10\", \"11\", \"12\", \"13\", \"14\", \"15\", \"17\", \"18\"], \"mode\": \"markers\", \"name\": \"precision_score_micro\", \"stepped\": false, \"type\": \"scatter\", \"data\": [0.9126153846153846, 0.9281538461538463, 0.8884615384615383, 0.8803076923076922, 0.9047692307692309, 0.9403076923076924, 0.9086153846153847, 0.8444615384615386, 0.9046153846153848, 0.9086153846153847, 0.9124615384615385, 0.8924615384615386, 0.8926153846153847, 0.8726153846153846, 0.9007692307692308, 0.9086153846153847, 0.9563076923076924, 0.9443076923076923]}, {\"categories\": [\"0\", \"1\", \"2\", \"3\", \"4\", \"5\", \"6\", \"7\", \"8\", \"9\", \"10\", \"11\", \"12\", \"13\", \"14\", \"15\", \"17\", \"18\"], \"mode\": \"lines\", \"name\": \"precision_score_micro_max\", \"stepped\": true, \"type\": \"scatter\", \"data\": [0.9126153846153846, 0.9281538461538463, 0.9281538461538463, 0.9281538461538463, 0.9281538461538463, 0.9403076923076924, 0.9403076923076924, 0.9403076923076924, 0.9403076923076924, 0.9403076923076924, 0.9403076923076924, 0.9403076923076924, 0.9403076923076924, 0.9403076923076924, 0.9403076923076924, 0.9403076923076924, 0.9563076923076924, 0.9563076923076924]}], \"matthews_correlation\": [{\"categories\": [\"0\", \"1\", \"2\", \"3\", \"4\", \"5\", \"6\", \"7\", \"8\", \"9\", \"10\", \"11\", \"12\", \"13\", \"14\", \"15\", \"17\", \"18\"], \"mode\": \"markers\", \"name\": \"matthews_correlation\", \"stepped\": false, \"type\": \"scatter\", \"data\": [0.8653759116745651, 0.8891102338794061, 0.8302016001527528, 0.8112781228192214, 0.8534061549089345, 0.9078421511050557, 0.8567917424072885, 0.7611203614146059, 0.8504579006277089, 0.8582170496048438, 0.8613255462074696, 0.8351343175671972, 0.8345310126711807, 0.8071053323025541, 0.8451184863699769, 0.8591357450659813, 0.9315447120071727, 0.913595186741224]}, {\"categories\": [\"0\", \"1\", \"2\", \"3\", \"4\", \"5\", \"6\", \"7\", \"8\", \"9\", \"10\", \"11\", \"12\", \"13\", \"14\", \"15\", \"17\", \"18\"], \"mode\": \"lines\", \"name\": \"matthews_correlation_max\", \"stepped\": true, \"type\": \"scatter\", \"data\": [0.8653759116745651, 0.8891102338794061, 0.8891102338794061, 0.8891102338794061, 0.8891102338794061, 0.9078421511050557, 0.9078421511050557, 0.9078421511050557, 0.9078421511050557, 0.9078421511050557, 0.9078421511050557, 0.9078421511050557, 0.9078421511050557, 0.9078421511050557, 0.9078421511050557, 0.9078421511050557, 0.9315447120071727, 0.9315447120071727]}], \"balanced_accuracy\": [{\"categories\": [\"0\", \"1\", \"2\", \"3\", \"4\", \"5\", \"6\", \"7\", \"8\", \"9\", \"10\", \"11\", \"12\", \"13\", \"14\", \"15\", \"17\", \"18\"], \"mode\": \"markers\", \"name\": \"balanced_accuracy\", \"stepped\": false, \"type\": \"scatter\", \"data\": [0.9038455988455988, 0.9244011544011543, 0.8775430125430125, 0.8567782217782218, 0.8919361194361194, 0.9382015207015207, 0.8883349983349984, 0.8380352980352981, 0.883994338994339, 0.8900557775557776, 0.890913530913531, 0.8820354645354647, 0.8806121656121656, 0.8596850371850373, 0.8744849594849594, 0.8941233766233767, 0.9471681096681097, 0.9369408369408371]}, {\"categories\": [\"0\", \"1\", \"2\", \"3\", \"4\", \"5\", \"6\", \"7\", \"8\", \"9\", \"10\", \"11\", \"12\", \"13\", \"14\", \"15\", \"17\", \"18\"], \"mode\": \"lines\", \"name\": \"balanced_accuracy_max\", \"stepped\": true, \"type\": \"scatter\", \"data\": [0.9038455988455988, 0.9244011544011543, 0.9244011544011543, 0.9244011544011543, 0.9244011544011543, 0.9382015207015207, 0.9382015207015207, 0.9382015207015207, 0.9382015207015207, 0.9382015207015207, 0.9382015207015207, 0.9382015207015207, 0.9382015207015207, 0.9382015207015207, 0.9382015207015207, 0.9382015207015207, 0.9471681096681097, 0.9471681096681097]}], \"recall_score_micro\": [{\"categories\": [\"0\", \"1\", \"2\", \"3\", \"4\", \"5\", \"6\", \"7\", \"8\", \"9\", \"10\", \"11\", \"12\", \"13\", \"14\", \"15\", \"17\", \"18\"], \"mode\": \"markers\", \"name\": \"recall_score_micro\", \"stepped\": false, \"type\": \"scatter\", \"data\": [0.9126153846153846, 0.9281538461538463, 0.8884615384615383, 0.8803076923076922, 0.9047692307692309, 0.9403076923076924, 0.9086153846153847, 0.8444615384615386, 0.9046153846153848, 0.9086153846153847, 0.9124615384615385, 0.8924615384615386, 0.8926153846153847, 0.8726153846153846, 0.9007692307692308, 0.9086153846153847, 0.9563076923076924, 0.9443076923076923]}, {\"categories\": [\"0\", \"1\", \"2\", \"3\", \"4\", \"5\", \"6\", \"7\", \"8\", \"9\", \"10\", \"11\", \"12\", \"13\", \"14\", \"15\", \"17\", \"18\"], \"mode\": \"lines\", \"name\": \"recall_score_micro_max\", \"stepped\": true, \"type\": \"scatter\", \"data\": [0.9126153846153846, 0.9281538461538463, 0.9281538461538463, 0.9281538461538463, 0.9281538461538463, 0.9403076923076924, 0.9403076923076924, 0.9403076923076924, 0.9403076923076924, 0.9403076923076924, 0.9403076923076924, 0.9403076923076924, 0.9403076923076924, 0.9403076923076924, 0.9403076923076924, 0.9403076923076924, 0.9563076923076924, 0.9563076923076924]}], \"weighted_accuracy\": [{\"categories\": [\"0\", \"1\", \"2\", \"3\", \"4\", \"5\", \"6\", \"7\", \"8\", \"9\", \"10\", \"11\", \"12\", \"13\", \"14\", \"15\", \"17\", \"18\"], \"mode\": \"markers\", \"name\": \"weighted_accuracy\", \"stepped\": false, \"type\": \"scatter\", \"data\": [0.9211537703936805, 0.9326086368663533, 0.8961267161035396, 0.8974140453188321, 0.9170292105900624, 0.9418721880431622, 0.9270076222955492, 0.8489474420443026, 0.9234898533925827, 0.9246433196758346, 0.9315618799250194, 0.9039224354962647, 0.9025445972795307, 0.8862839482402343, 0.9234621581920475, 0.922867234402519, 0.9640310048077539, 0.9505511889647218]}, {\"categories\": [\"0\", \"1\", \"2\", \"3\", \"4\", \"5\", \"6\", \"7\", \"8\", \"9\", \"10\", \"11\", \"12\", \"13\", \"14\", \"15\", \"17\", \"18\"], \"mode\": \"lines\", \"name\": \"weighted_accuracy_max\", \"stepped\": true, \"type\": \"scatter\", \"data\": [0.9211537703936805, 0.9326086368663533, 0.9326086368663533, 0.9326086368663533, 0.9326086368663533, 0.9418721880431622, 0.9418721880431622, 0.9418721880431622, 0.9418721880431622, 0.9418721880431622, 0.9418721880431622, 0.9418721880431622, 0.9418721880431622, 0.9418721880431622, 0.9418721880431622, 0.9418721880431622, 0.9640310048077539, 0.9640310048077539]}], \"accuracy\": [{\"categories\": [\"0\", \"1\", \"2\", \"3\", \"4\", \"5\", \"6\", \"7\", \"8\", \"9\", \"10\", \"11\", \"12\", \"13\", \"14\", \"15\", \"17\", \"18\"], \"mode\": \"markers\", \"name\": \"accuracy\", \"stepped\": false, \"type\": \"scatter\", \"data\": [0.9126153846153846, 0.9281538461538463, 0.8884615384615383, 0.8803076923076922, 0.9047692307692309, 0.9403076923076924, 0.9086153846153847, 0.8444615384615386, 0.9046153846153848, 0.9086153846153847, 0.9124615384615385, 0.8924615384615386, 0.8926153846153847, 0.8726153846153846, 0.9007692307692308, 0.9086153846153847, 0.9563076923076924, 0.9443076923076923]}, {\"categories\": [\"0\", \"1\", \"2\", \"3\", \"4\", \"5\", \"6\", \"7\", \"8\", \"9\", \"10\", \"11\", \"12\", \"13\", \"14\", \"15\", \"17\", \"18\"], \"mode\": \"lines\", \"name\": \"accuracy_max\", \"stepped\": true, \"type\": \"scatter\", \"data\": [0.9126153846153846, 0.9281538461538463, 0.9281538461538463, 0.9281538461538463, 0.9281538461538463, 0.9403076923076924, 0.9403076923076924, 0.9403076923076924, 0.9403076923076924, 0.9403076923076924, 0.9403076923076924, 0.9403076923076924, 0.9403076923076924, 0.9403076923076924, 0.9403076923076924, 0.9403076923076924, 0.9563076923076924, 0.9563076923076924]}], \"f1_score_macro\": [{\"categories\": [\"0\", \"1\", \"2\", \"3\", \"4\", \"5\", \"6\", \"7\", \"8\", \"9\", \"10\", \"11\", \"12\", \"13\", \"14\", \"15\", \"17\", \"18\"], \"mode\": \"markers\", \"name\": \"f1_score_macro\", \"stepped\": false, \"type\": \"scatter\", \"data\": [0.8965168150886476, 0.9215545025282956, 0.8735439213768478, 0.8560489899432046, 0.8843599995618854, 0.936279290582376, 0.8857930894387959, 0.823037242619084, 0.8820640329327171, 0.8871543115948567, 0.8931647990620875, 0.8710952682906704, 0.8733695885509724, 0.85352197411639, 0.8731242123432352, 0.8854536276051703, 0.949277379972151, 0.937223160392356]}, {\"categories\": [\"0\", \"1\", \"2\", \"3\", \"4\", \"5\", \"6\", \"7\", \"8\", \"9\", \"10\", \"11\", \"12\", \"13\", \"14\", \"15\", \"17\", \"18\"], \"mode\": \"lines\", \"name\": \"f1_score_macro_max\", \"stepped\": true, \"type\": \"scatter\", \"data\": [0.8965168150886476, 0.9215545025282956, 0.9215545025282956, 0.9215545025282956, 0.9215545025282956, 0.936279290582376, 0.936279290582376, 0.936279290582376, 0.936279290582376, 0.936279290582376, 0.936279290582376, 0.936279290582376, 0.936279290582376, 0.936279290582376, 0.936279290582376, 0.936279290582376, 0.949277379972151, 0.949277379972151]}], \"recall_score_macro\": [{\"categories\": [\"0\", \"1\", \"2\", \"3\", \"4\", \"5\", \"6\", \"7\", \"8\", \"9\", \"10\", \"11\", \"12\", \"13\", \"14\", \"15\", \"17\", \"18\"], \"mode\": \"markers\", \"name\": \"recall_score_macro\", \"stepped\": false, \"type\": \"scatter\", \"data\": [0.9038455988455988, 0.9244011544011543, 0.8775430125430125, 0.8567782217782218, 0.8919361194361194, 0.9382015207015207, 0.8883349983349984, 0.8380352980352981, 0.883994338994339, 0.8900557775557776, 0.890913530913531, 0.8820354645354647, 0.8806121656121656, 0.8596850371850373, 0.8744849594849594, 0.8941233766233767, 0.9471681096681097, 0.9369408369408371]}, {\"categories\": [\"0\", \"1\", \"2\", \"3\", \"4\", \"5\", \"6\", \"7\", \"8\", \"9\", \"10\", \"11\", \"12\", \"13\", \"14\", \"15\", \"17\", \"18\"], \"mode\": \"lines\", \"name\": \"recall_score_macro_max\", \"stepped\": true, \"type\": \"scatter\", \"data\": [0.9038455988455988, 0.9244011544011543, 0.9244011544011543, 0.9244011544011543, 0.9244011544011543, 0.9382015207015207, 0.9382015207015207, 0.9382015207015207, 0.9382015207015207, 0.9382015207015207, 0.9382015207015207, 0.9382015207015207, 0.9382015207015207, 0.9382015207015207, 0.9382015207015207, 0.9382015207015207, 0.9471681096681097, 0.9471681096681097]}], \"f1_score_weighted\": [{\"categories\": [\"0\", \"1\", \"2\", \"3\", \"4\", \"5\", \"6\", \"7\", \"8\", \"9\", \"10\", \"11\", \"12\", \"13\", \"14\", \"15\", \"17\", \"18\"], \"mode\": \"markers\", \"name\": \"f1_score_weighted\", \"stepped\": false, \"type\": \"scatter\", \"data\": [0.9096143992275849, 0.9284359882854909, 0.8897403413052295, 0.8786061787148866, 0.900554764804884, 0.9402962775199268, 0.905202784570249, 0.8461058214114126, 0.9013105126893354, 0.9072784242865459, 0.9100519501737935, 0.8909181670692016, 0.8900020702075031, 0.8697032521615927, 0.8959589156419814, 0.9057533708517738, 0.9556607057961172, 0.9432088507457967]}, {\"categories\": [\"0\", \"1\", \"2\", \"3\", \"4\", \"5\", \"6\", \"7\", \"8\", \"9\", \"10\", \"11\", \"12\", \"13\", \"14\", \"15\", \"17\", \"18\"], \"mode\": \"lines\", \"name\": \"f1_score_weighted_max\", \"stepped\": true, \"type\": \"scatter\", \"data\": [0.9096143992275849, 0.9284359882854909, 0.9284359882854909, 0.9284359882854909, 0.9284359882854909, 0.9402962775199268, 0.9402962775199268, 0.9402962775199268, 0.9402962775199268, 0.9402962775199268, 0.9402962775199268, 0.9402962775199268, 0.9402962775199268, 0.9402962775199268, 0.9402962775199268, 0.9402962775199268, 0.9556607057961172, 0.9556607057961172]}], \"norm_macro_recall\": [{\"categories\": [\"0\", \"1\", \"2\", \"3\", \"4\", \"5\", \"6\", \"7\", \"8\", \"9\", \"10\", \"11\", \"12\", \"13\", \"14\", \"15\", \"17\", \"18\"], \"mode\": \"markers\", \"name\": \"norm_macro_recall\", \"stepped\": false, \"type\": \"scatter\", \"data\": [0.8557683982683983, 0.8866017316017315, 0.8163145188145187, 0.7851673326673326, 0.8379041791541791, 0.907302281052281, 0.8325024975024974, 0.757052947052947, 0.8259915084915084, 0.8350836663336663, 0.8363702963702963, 0.8230531968031967, 0.8209182484182482, 0.7895275557775556, 0.8117274392274391, 0.8411850649350647, 0.9207521645021643, 0.9054112554112554]}, {\"categories\": [\"0\", \"1\", \"2\", \"3\", \"4\", \"5\", \"6\", \"7\", \"8\", \"9\", \"10\", \"11\", \"12\", \"13\", \"14\", \"15\", \"17\", \"18\"], \"mode\": \"lines\", \"name\": \"norm_macro_recall_max\", \"stepped\": true, \"type\": \"scatter\", \"data\": [0.8557683982683983, 0.8866017316017315, 0.8866017316017315, 0.8866017316017315, 0.8866017316017315, 0.907302281052281, 0.907302281052281, 0.907302281052281, 0.907302281052281, 0.907302281052281, 0.907302281052281, 0.907302281052281, 0.907302281052281, 0.907302281052281, 0.907302281052281, 0.907302281052281, 0.9207521645021643, 0.9207521645021643]}], \"log_loss\": [{\"categories\": [\"0\", \"1\", \"2\", \"3\", \"4\", \"5\", \"6\", \"7\", \"8\", \"9\", \"10\", \"11\", \"12\", \"13\", \"14\", \"15\", \"17\", \"18\"], \"mode\": \"markers\", \"name\": \"log_loss\", \"stepped\": false, \"type\": \"scatter\", \"data\": [0.21016375340887108, 0.1985767652427834, 0.33727282489774063, 0.3938587685245607, 0.3694196463406443, 0.17849533152930092, 0.25418092424916094, 0.34436587893918225, 0.27937007009453996, 0.2383732302179829, 0.26749758548240377, 0.46578793094745796, 0.3404377776277777, 0.6338301870459435, 0.2613427786583932, 0.442252144321239, 0.2540078090726091, 0.20112910715414517]}, {\"categories\": [\"0\", \"1\", \"2\", \"3\", \"4\", \"5\", \"6\", \"7\", \"8\", \"9\", \"10\", \"11\", \"12\", \"13\", \"14\", \"15\", \"17\", \"18\"], \"mode\": \"lines\", \"name\": \"log_loss_min\", \"stepped\": true, \"type\": \"scatter\", \"data\": [0.21016375340887108, 0.1985767652427834, 0.1985767652427834, 0.1985767652427834, 0.1985767652427834, 0.17849533152930092, 0.17849533152930092, 0.17849533152930092, 0.17849533152930092, 0.17849533152930092, 0.17849533152930092, 0.17849533152930092, 0.17849533152930092, 0.17849533152930092, 0.17849533152930092, 0.17849533152930092, 0.17849533152930092, 0.17849533152930092]}], \"average_precision_score_micro\": [{\"categories\": [\"0\", \"1\", \"2\", \"3\", \"4\", \"5\", \"6\", \"7\", \"8\", \"9\", \"10\", \"11\", \"12\", \"13\", \"14\", \"15\", \"17\", \"18\"], \"mode\": \"markers\", \"name\": \"average_precision_score_micro\", \"stepped\": false, \"type\": \"scatter\", \"data\": [0.975537071488295, 0.9780525116706162, 0.9604041822732576, 0.9522304437470342, 0.9665557063902812, 0.9867425637899009, 0.970557663932091, 0.9498200373632455, 0.9734496754056291, 0.9729318478923785, 0.9680809125815305, 0.9684337013576615, 0.9603692130374991, 0.9378547953127441, 0.9734623594207253, 0.9728900735817264, 0.98442796142745, 0.9793415998273105]}, {\"categories\": [\"0\", \"1\", \"2\", \"3\", \"4\", \"5\", \"6\", \"7\", \"8\", \"9\", \"10\", \"11\", \"12\", \"13\", \"14\", \"15\", \"17\", \"18\"], \"mode\": \"lines\", \"name\": \"average_precision_score_micro_max\", \"stepped\": true, \"type\": \"scatter\", \"data\": [0.975537071488295, 0.9780525116706162, 0.9780525116706162, 0.9780525116706162, 0.9780525116706162, 0.9867425637899009, 0.9867425637899009, 0.9867425637899009, 0.9867425637899009, 0.9867425637899009, 0.9867425637899009, 0.9867425637899009, 0.9867425637899009, 0.9867425637899009, 0.9867425637899009, 0.9867425637899009, 0.9867425637899009, 0.9867425637899009]}], \"precision_score_weighted\": [{\"categories\": [\"0\", \"1\", \"2\", \"3\", \"4\", \"5\", \"6\", \"7\", \"8\", \"9\", \"10\", \"11\", \"12\", \"13\", \"14\", \"15\", \"17\", \"18\"], \"mode\": \"markers\", \"name\": \"precision_score_weighted\", \"stepped\": false, \"type\": \"scatter\", \"data\": [0.9220100122100122, 0.9366516705516705, 0.9086506271506272, 0.8907020535020536, 0.9202054945054947, 0.9477488400488399, 0.9180607059607059, 0.8630371406371407, 0.9128253968253969, 0.9233399267399267, 0.9178062271062272, 0.9063139416139416, 0.9074538683538682, 0.89629328645211, 0.9142363858363858, 0.9202718170718172, 0.9606736263736263, 0.9490402930402929]}, {\"categories\": [\"0\", \"1\", \"2\", \"3\", \"4\", \"5\", \"6\", \"7\", \"8\", \"9\", \"10\", \"11\", \"12\", \"13\", \"14\", \"15\", \"17\", \"18\"], \"mode\": \"lines\", \"name\": \"precision_score_weighted_max\", \"stepped\": true, \"type\": \"scatter\", \"data\": [0.9220100122100122, 0.9366516705516705, 0.9366516705516705, 0.9366516705516705, 0.9366516705516705, 0.9477488400488399, 0.9477488400488399, 0.9477488400488399, 0.9477488400488399, 0.9477488400488399, 0.9477488400488399, 0.9477488400488399, 0.9477488400488399, 0.9477488400488399, 0.9477488400488399, 0.9477488400488399, 0.9606736263736263, 0.9606736263736263]}], \"AUC_micro\": [{\"categories\": [\"0\", \"1\", \"2\", \"3\", \"4\", \"5\", \"6\", \"7\", \"8\", \"9\", \"10\", \"11\", \"12\", \"13\", \"14\", \"15\", \"17\", \"18\"], \"mode\": \"markers\", \"name\": \"AUC_micro\", \"stepped\": false, \"type\": \"scatter\", \"data\": [0.985939526627219, 0.9870127810650887, 0.9756527810650887, 0.9728617751479289, 0.9799379881656805, 0.9925524260355031, 0.9829931360946744, 0.9697508875739645, 0.9845569230769231, 0.9848588165680473, 0.9815712426035503, 0.9807274556213017, 0.9767953846153846, 0.958931124260355, 0.9844753846153846, 0.9835531360946745, 0.9911727810650888, 0.9872436686390532]}, {\"categories\": [\"0\", \"1\", \"2\", \"3\", \"4\", \"5\", \"6\", \"7\", \"8\", \"9\", \"10\", \"11\", \"12\", \"13\", \"14\", \"15\", \"17\", \"18\"], \"mode\": \"lines\", \"name\": \"AUC_micro_max\", \"stepped\": true, \"type\": \"scatter\", \"data\": [0.985939526627219, 0.9870127810650887, 0.9870127810650887, 0.9870127810650887, 0.9870127810650887, 0.9925524260355031, 0.9925524260355031, 0.9925524260355031, 0.9925524260355031, 0.9925524260355031, 0.9925524260355031, 0.9925524260355031, 0.9925524260355031, 0.9925524260355031, 0.9925524260355031, 0.9925524260355031, 0.9925524260355031, 0.9925524260355031]}], \"precision_score_macro\": [{\"categories\": [\"0\", \"1\", \"2\", \"3\", \"4\", \"5\", \"6\", \"7\", \"8\", \"9\", \"10\", \"11\", \"12\", \"13\", \"14\", \"15\", \"17\", \"18\"], \"mode\": \"markers\", \"name\": \"precision_score_macro\", \"stepped\": false, \"type\": \"scatter\", \"data\": [0.9098508898508898, 0.9290067340067341, 0.8911241536241536, 0.8742853442853441, 0.9091575091575091, 0.9439367114367114, 0.9068278943278945, 0.8256337181337182, 0.9004558404558404, 0.9090140415140414, 0.9088064713064714, 0.8826591926591927, 0.8926427276427276, 0.8851926831338597, 0.9046998371998372, 0.900887075887076, 0.9591819291819291, 0.946959706959707]}, {\"categories\": [\"0\", \"1\", \"2\", \"3\", \"4\", \"5\", \"6\", \"7\", \"8\", \"9\", \"10\", \"11\", \"12\", \"13\", \"14\", \"15\", \"17\", \"18\"], \"mode\": \"lines\", \"name\": \"precision_score_macro_max\", \"stepped\": true, \"type\": \"scatter\", \"data\": [0.9098508898508898, 0.9290067340067341, 0.9290067340067341, 0.9290067340067341, 0.9290067340067341, 0.9439367114367114, 0.9439367114367114, 0.9439367114367114, 0.9439367114367114, 0.9439367114367114, 0.9439367114367114, 0.9439367114367114, 0.9439367114367114, 0.9439367114367114, 0.9439367114367114, 0.9439367114367114, 0.9591819291819291, 0.9591819291819291]}], \"AUC_weighted\": [{\"categories\": [\"0\", \"1\", \"2\", \"3\", \"4\", \"5\", \"6\", \"7\", \"8\", \"9\", \"10\", \"11\", \"12\", \"13\", \"14\", \"15\", \"17\", \"18\"], \"mode\": \"markers\", \"name\": \"AUC_weighted\", \"stepped\": false, \"type\": \"scatter\", \"data\": [0.9861581933718157, 0.9885601182443289, 0.9787311158741498, 0.973485882332322, 0.9821649383640094, 0.9929773426779619, 0.9819657941989212, 0.972857954085818, 0.9847387102749332, 0.9843209165447554, 0.9816505090025214, 0.9834964855577859, 0.9788599364172118, 0.9688982357855422, 0.986668524251806, 0.9832565153456795, 0.9917641415000549, 0.9873811996053483]}, {\"categories\": [\"0\", \"1\", \"2\", \"3\", \"4\", \"5\", \"6\", \"7\", \"8\", \"9\", \"10\", \"11\", \"12\", \"13\", \"14\", \"15\", \"17\", \"18\"], \"mode\": \"lines\", \"name\": \"AUC_weighted_max\", \"stepped\": true, \"type\": \"scatter\", \"data\": [0.9861581933718157, 0.9885601182443289, 0.9885601182443289, 0.9885601182443289, 0.9885601182443289, 0.9929773426779619, 0.9929773426779619, 0.9929773426779619, 0.9929773426779619, 0.9929773426779619, 0.9929773426779619, 0.9929773426779619, 0.9929773426779619, 0.9929773426779619, 0.9929773426779619, 0.9929773426779619, 0.9929773426779619, 0.9929773426779619]}], \"AUC_macro\": [{\"categories\": [\"0\", \"1\", \"2\", \"3\", \"4\", \"5\", \"6\", \"7\", \"8\", \"9\", \"10\", \"11\", \"12\", \"13\", \"14\", \"15\", \"17\", \"18\"], \"mode\": \"markers\", \"name\": \"AUC_macro\", \"stepped\": false, \"type\": \"scatter\", \"data\": [0.9854882400594475, 0.9881042884990254, 0.9755790033266815, 0.9712509162663961, 0.9800923642920548, 0.9929171672840404, 0.9815713819490908, 0.9703368338461218, 0.9839402871523616, 0.9839109237855368, 0.9810515238688614, 0.9823789261993596, 0.977807513493272, 0.9660970143261165, 0.986254076848504, 0.9813156971454186, 0.9916512284298662, 0.9873090956171453]}, {\"categories\": [\"0\", \"1\", \"2\", \"3\", \"4\", \"5\", \"6\", \"7\", \"8\", \"9\", \"10\", \"11\", \"12\", \"13\", \"14\", \"15\", \"17\", \"18\"], \"mode\": \"lines\", \"name\": \"AUC_macro_max\", \"stepped\": true, \"type\": \"scatter\", \"data\": [0.9854882400594475, 0.9881042884990254, 0.9881042884990254, 0.9881042884990254, 0.9881042884990254, 0.9929171672840404, 0.9929171672840404, 0.9929171672840404, 0.9929171672840404, 0.9929171672840404, 0.9929171672840404, 0.9929171672840404, 0.9929171672840404, 0.9929171672840404, 0.9929171672840404, 0.9929171672840404, 0.9929171672840404, 0.9929171672840404]}]}, \"metricName\": null, \"primaryMetricName\": \"accuracy\", \"showLegend\": false}, \"run_metrics\": [{\"name\": \"experiment_status\", \"run_id\": \"AutoML_8a093984-8240-43d3-bfd7-118739acd5d4\", \"categories\": [0, 1, 2, 3, 4, 5, 6, 7, 8, 9, 10, 11, 12, 13], \"series\": [{\"data\": [\"DatasetEvaluation\", \"FeaturesGeneration\", \"DatasetFeaturization\", \"DatasetFeaturizationCompleted\", \"DatasetCrossValidationSplit\", \"ModelSelection\", \"BestRunExplainModel\", \"ModelExplanationDataSetSetup\", \"PickSurrogateModel\", \"EngineeredFeatureExplanations\", \"EngineeredFeatureExplanations\", \"RawFeaturesExplanations\", \"RawFeaturesExplanations\", \"BestRunExplainModel\"]}]}, {\"name\": \"experiment_status_description\", \"run_id\": \"AutoML_8a093984-8240-43d3-bfd7-118739acd5d4\", \"categories\": [0, 1, 2, 3, 4, 5, 6, 7, 8, 9, 10, 11, 12, 13], \"series\": [{\"data\": [\"Gathering dataset statistics.\", \"Generating features for the dataset.\", \"Beginning to fit featurizers and featurize the dataset.\", \"Completed fit featurizers and featurizing the dataset.\", \"Generating individually featurized CV splits.\", \"Beginning model selection.\", \"Best run model explanations started\", \"Model explanations data setup completed\", \"Choosing LightGBM as the surrogate model for explanations\", \"Computation of engineered features started\", \"Computation of engineered features completed\", \"Computation of raw features started\", \"Computation of raw features completed\", \"Best run model explanations completed\"]}]}, {\"name\": \"weighted_accuracy\", \"run_id\": \"AutoML_8a093984-8240-43d3-bfd7-118739acd5d4\", \"categories\": [0], \"series\": [{\"data\": [0.9640310048077539]}]}, {\"name\": \"AUC_macro\", \"run_id\": \"AutoML_8a093984-8240-43d3-bfd7-118739acd5d4\", \"categories\": [0], \"series\": [{\"data\": [0.9916512284298662]}]}, {\"name\": \"f1_score_macro\", \"run_id\": \"AutoML_8a093984-8240-43d3-bfd7-118739acd5d4\", \"categories\": [0], \"series\": [{\"data\": [0.949277379972151]}]}, {\"name\": \"recall_score_macro\", \"run_id\": \"AutoML_8a093984-8240-43d3-bfd7-118739acd5d4\", \"categories\": [0], \"series\": [{\"data\": [0.9471681096681097]}]}, {\"name\": \"balanced_accuracy\", \"run_id\": \"AutoML_8a093984-8240-43d3-bfd7-118739acd5d4\", \"categories\": [0], \"series\": [{\"data\": [0.9471681096681097]}]}, {\"name\": \"precision_score_macro\", \"run_id\": \"AutoML_8a093984-8240-43d3-bfd7-118739acd5d4\", \"categories\": [0], \"series\": [{\"data\": [0.9591819291819291]}]}, {\"name\": \"accuracy\", \"run_id\": \"AutoML_8a093984-8240-43d3-bfd7-118739acd5d4\", \"categories\": [0], \"series\": [{\"data\": [0.9563076923076924]}]}, {\"name\": \"average_precision_score_micro\", \"run_id\": \"AutoML_8a093984-8240-43d3-bfd7-118739acd5d4\", \"categories\": [0], \"series\": [{\"data\": [0.98442796142745]}]}, {\"name\": \"recall_score_weighted\", \"run_id\": \"AutoML_8a093984-8240-43d3-bfd7-118739acd5d4\", \"categories\": [0], \"series\": [{\"data\": [0.9563076923076924]}]}, {\"name\": \"average_precision_score_macro\", \"run_id\": \"AutoML_8a093984-8240-43d3-bfd7-118739acd5d4\", \"categories\": [0], \"series\": [{\"data\": [0.9834437695241265]}]}, {\"name\": \"f1_score_weighted\", \"run_id\": \"AutoML_8a093984-8240-43d3-bfd7-118739acd5d4\", \"categories\": [0], \"series\": [{\"data\": [0.9556607057961172]}]}, {\"name\": \"f1_score_micro\", \"run_id\": \"AutoML_8a093984-8240-43d3-bfd7-118739acd5d4\", \"categories\": [0], \"series\": [{\"data\": [0.9563076923076924]}]}, {\"name\": \"log_loss\", \"run_id\": \"AutoML_8a093984-8240-43d3-bfd7-118739acd5d4\", \"categories\": [0], \"series\": [{\"data\": [0.2540078090726091]}]}, {\"name\": \"precision_score_weighted\", \"run_id\": \"AutoML_8a093984-8240-43d3-bfd7-118739acd5d4\", \"categories\": [0], \"series\": [{\"data\": [0.9606736263736263]}]}, {\"name\": \"precision_score_micro\", \"run_id\": \"AutoML_8a093984-8240-43d3-bfd7-118739acd5d4\", \"categories\": [0], \"series\": [{\"data\": [0.9563076923076924]}]}, {\"name\": \"norm_macro_recall\", \"run_id\": \"AutoML_8a093984-8240-43d3-bfd7-118739acd5d4\", \"categories\": [0], \"series\": [{\"data\": [0.9207521645021643]}]}, {\"name\": \"average_precision_score_weighted\", \"run_id\": \"AutoML_8a093984-8240-43d3-bfd7-118739acd5d4\", \"categories\": [0], \"series\": [{\"data\": [0.985922212829905]}]}, {\"name\": \"AUC_weighted\", \"run_id\": \"AutoML_8a093984-8240-43d3-bfd7-118739acd5d4\", \"categories\": [0], \"series\": [{\"data\": [0.9917641415000549]}]}, {\"name\": \"recall_score_micro\", \"run_id\": \"AutoML_8a093984-8240-43d3-bfd7-118739acd5d4\", \"categories\": [0], \"series\": [{\"data\": [0.9563076923076924]}]}, {\"name\": \"matthews_correlation\", \"run_id\": \"AutoML_8a093984-8240-43d3-bfd7-118739acd5d4\", \"categories\": [0], \"series\": [{\"data\": [0.9315447120071727]}]}, {\"name\": \"AUC_micro\", \"run_id\": \"AutoML_8a093984-8240-43d3-bfd7-118739acd5d4\", \"categories\": [0], \"series\": [{\"data\": [0.9911727810650888]}]}], \"run_logs\": \"\\nRun is completed.\", \"graph\": {}, \"widget_settings\": {\"childWidgetDisplay\": \"popup\", \"send_telemetry\": false, \"log_level\": \"INFO\", \"sdk_version\": \"1.26.0\"}, \"loading\": false}"
     },
     "metadata": {},
     "output_type": "display_data"
    },
    {
     "data": {
      "text/plain": [
       "{'runId': 'AutoML_8a093984-8240-43d3-bfd7-118739acd5d4',\n",
       " 'target': 'compute-cluster1',\n",
       " 'status': 'Completed',\n",
       " 'startTimeUtc': '2021-04-14T15:10:02.410104Z',\n",
       " 'endTimeUtc': '2021-04-14T16:49:49.102022Z',\n",
       " 'properties': {'num_iterations': '1000',\n",
       "  'training_type': 'TrainFull',\n",
       "  'acquisition_function': 'EI',\n",
       "  'primary_metric': 'accuracy',\n",
       "  'train_split': '0',\n",
       "  'acquisition_parameter': '0',\n",
       "  'num_cross_validation': None,\n",
       "  'target': 'compute-cluster1',\n",
       "  'AMLSettingsJsonString': '{\"path\":null,\"name\":\"covid-pneumonia-automl\",\"subscription_id\":\"610d6e37-4747-4a20-80eb-3aad70a55f43\",\"resource_group\":\"aml-quickstarts-142681\",\"workspace_name\":\"quick-starts-ws-142681\",\"region\":\"southcentralus\",\"compute_target\":\"compute-cluster1\",\"spark_service\":null,\"azure_service\":\"remote\",\"many_models\":false,\"pipeline_fetch_max_batch_size\":1,\"enable_batch_run\":false,\"enable_run_restructure\":false,\"iterations\":1000,\"primary_metric\":\"accuracy\",\"task_type\":\"classification\",\"data_script\":null,\"test_size\":0.0,\"validation_size\":0.0,\"n_cross_validations\":null,\"y_min\":null,\"y_max\":null,\"num_classes\":null,\"featurization\":\"auto\",\"_ignore_package_version_incompatibilities\":false,\"is_timeseries\":false,\"max_cores_per_iteration\":-1,\"max_concurrent_iterations\":1,\"iteration_timeout_minutes\":null,\"mem_in_mb\":null,\"enforce_time_on_windows\":false,\"experiment_timeout_minutes\":60,\"experiment_exit_score\":null,\"whitelist_models\":null,\"blacklist_algos\":[\"TensorFlowLinearClassifier\",\"TensorFlowDNN\"],\"supported_models\":[\"KNN\",\"ExtremeRandomTrees\",\"DecisionTree\",\"SVM\",\"MultinomialNaiveBayes\",\"BernoulliNaiveBayes\",\"SGD\",\"LinearSVM\",\"TensorFlowLinearClassifier\",\"TensorFlowDNN\",\"XGBoostClassifier\",\"AveragedPerceptronClassifier\",\"RandomForest\",\"GradientBoosting\",\"LightGBM\",\"LogisticRegression\"],\"private_models\":[],\"auto_blacklist\":true,\"blacklist_samples_reached\":false,\"exclude_nan_labels\":true,\"verbosity\":20,\"_debug_log\":\"azureml_automl.log\",\"show_warnings\":false,\"model_explainability\":true,\"service_url\":null,\"sdk_url\":null,\"sdk_packages\":null,\"enable_onnx_compatible_models\":false,\"enable_split_onnx_featurizer_estimator_models\":false,\"vm_type\":\"STANDARD_NC6\",\"telemetry_verbosity\":20,\"send_telemetry\":true,\"enable_dnn\":true,\"scenario\":\"SDK-1.13.0\",\"environment_label\":null,\"save_mlflow\":false,\"force_text_dnn\":false,\"enable_feature_sweeping\":true,\"enable_early_stopping\":false,\"early_stopping_n_iters\":10,\"metrics\":null,\"enable_metric_confidence\":false,\"enable_ensembling\":true,\"enable_stack_ensembling\":true,\"ensemble_iterations\":15,\"enable_tf\":false,\"enable_subsampling\":null,\"subsample_seed\":null,\"enable_nimbusml\":false,\"enable_streaming\":false,\"force_streaming\":false,\"track_child_runs\":true,\"allowed_private_models\":[],\"label_column_name\":\"class\",\"weight_column_name\":null,\"cv_split_column_names\":null,\"enable_local_managed\":false,\"_local_managed_run_id\":null,\"cost_mode\":1,\"lag_length\":0,\"metric_operation\":\"maximize\",\"preprocess\":true}',\n",
       "  'DataPrepJsonString': '{\\\\\"training_data\\\\\": {\\\\\"datasetId\\\\\": \\\\\"07b38217-7805-4028-be08-d94b84995a26\\\\\"}, \\\\\"datasets\\\\\": 0}',\n",
       "  'EnableSubsampling': None,\n",
       "  'runTemplate': 'AutoML',\n",
       "  'azureml.runsource': 'automl',\n",
       "  'display_task_type': 'classification',\n",
       "  'dependencies_versions': '{\"azureml-widgets\": \"1.26.0\", \"azureml-train\": \"1.26.0\", \"azureml-train-restclients-hyperdrive\": \"1.26.0\", \"azureml-train-core\": \"1.26.0\", \"azureml-train-automl-client\": \"1.26.0\", \"azureml-tensorboard\": \"1.26.0\", \"azureml-telemetry\": \"1.26.0\", \"azureml-sdk\": \"1.26.0\", \"azureml-pipeline\": \"1.26.0\", \"azureml-pipeline-steps\": \"1.26.0\", \"azureml-pipeline-core\": \"1.26.0\", \"azureml-opendatasets\": \"1.26.0\", \"azureml-model-management-sdk\": \"1.0.1b6.post1\", \"azureml-mlflow\": \"1.26.0\", \"azureml-interpret\": \"1.26.0\", \"azureml-explain-model\": \"1.26.0\", \"azureml-defaults\": \"1.26.0\", \"azureml-dataset-runtime\": \"1.26.0\", \"azureml-dataprep\": \"2.13.2\", \"azureml-dataprep-rslex\": \"1.11.2\", \"azureml-dataprep-native\": \"32.0.0\", \"azureml-datadrift\": \"1.26.0\", \"azureml-core\": \"1.26.0\", \"azureml-contrib-services\": \"1.26.0\", \"azureml-contrib-server\": \"1.26.0\", \"azureml-contrib-reinforcementlearning\": \"1.26.0\", \"azureml-contrib-pipeline-steps\": \"1.26.0\", \"azureml-contrib-notebook\": \"1.26.0\", \"azureml-contrib-gbdt\": \"1.26.0\", \"azureml-contrib-fairness\": \"1.26.0\", \"azureml-contrib-dataset\": \"1.26.0\", \"azureml-cli-common\": \"1.26.0\", \"azureml-automl-core\": \"1.26.0\", \"azureml-accel-models\": \"1.26.0\"}',\n",
       "  '_aml_system_scenario_identification': 'Remote.Parent',\n",
       "  'ClientType': 'SDK',\n",
       "  'environment_cpu_name': 'AzureML-AutoML-DNN',\n",
       "  'environment_cpu_label': 'prod',\n",
       "  'environment_gpu_name': 'AzureML-AutoML-DNN-GPU',\n",
       "  'environment_gpu_label': 'prod',\n",
       "  'root_attribution': 'automl',\n",
       "  'attribution': 'AutoML',\n",
       "  'Orchestrator': 'AutoML',\n",
       "  'CancelUri': 'https://southcentralus.experiments.azureml.net/jasmine/v1.0/subscriptions/610d6e37-4747-4a20-80eb-3aad70a55f43/resourceGroups/aml-quickstarts-142681/providers/Microsoft.MachineLearningServices/workspaces/quick-starts-ws-142681/experimentids/8609b5ca-38b6-4aa8-ab86-bb66003a85f3/cancel/AutoML_8a093984-8240-43d3-bfd7-118739acd5d4',\n",
       "  'azureml.git.repository_uri': 'https://github.com/sreenithi/Covid-and-Pneumonia-XRay-Classification.git',\n",
       "  'mlflow.source.git.repoURL': 'https://github.com/sreenithi/Covid-and-Pneumonia-XRay-Classification.git',\n",
       "  'azureml.git.branch': 'main',\n",
       "  'mlflow.source.git.branch': 'main',\n",
       "  'azureml.git.commit': '9437f4b4be80bb5a236947434e8d194b5e31c107',\n",
       "  'mlflow.source.git.commit': '9437f4b4be80bb5a236947434e8d194b5e31c107',\n",
       "  'azureml.git.dirty': 'True',\n",
       "  'ClientSdkVersion': '1.25.0',\n",
       "  'snapshotId': '00000000-0000-0000-0000-000000000000',\n",
       "  'SetupRunId': 'AutoML_8a093984-8240-43d3-bfd7-118739acd5d4_setup',\n",
       "  'SetupRunContainerId': 'dcid.AutoML_8a093984-8240-43d3-bfd7-118739acd5d4_setup',\n",
       "  'FeaturizationRunJsonPath': 'featurizer_container.json',\n",
       "  'FeaturizationRunId': 'AutoML_8a093984-8240-43d3-bfd7-118739acd5d4_featurize',\n",
       "  'ProblemInfoJsonString': '{\"dataset_num_categorical\": 0, \"is_sparse\": false, \"subsampling\": false, \"dataset_classes\": 3, \"dataset_features\": 13008, \"dataset_samples\": 251, \"single_frequency_class_detected\": false}',\n",
       "  'ModelExplainRunId': 'AutoML_8a093984-8240-43d3-bfd7-118739acd5d4_ModelExplain'},\n",
       " 'inputDatasets': [{'dataset': {'id': '07b38217-7805-4028-be08-d94b84995a26'}, 'consumptionDetails': {'type': 'RunInput', 'inputName': 'training_data', 'mechanism': 'Direct'}}],\n",
       " 'outputDatasets': [],\n",
       " 'logFiles': {},\n",
       " 'submittedBy': 'ODL_User 142681'}"
      ]
     },
     "execution_count": 10,
     "metadata": {},
     "output_type": "execute_result"
    }
   ],
   "source": [
    "RunDetails(remote_run).show()\n",
    "remote_run.wait_for_completion()"
   ]
  },
  {
   "cell_type": "markdown",
   "metadata": {},
   "source": [
    "## Best Model\n",
    "\n",
    "TODO: In the cell below, get the best model from the automl experiments and display all the properties of the model.\n",
    "\n"
   ]
  },
  {
   "cell_type": "code",
   "execution_count": 11,
   "metadata": {
    "gather": {
     "logged": 1598431425670
    },
    "jupyter": {
     "outputs_hidden": false,
     "source_hidden": false
    },
    "nteract": {
     "transient": {
      "deleting": false
     }
    }
   },
   "outputs": [
    {
     "name": "stdout",
     "output_type": "stream",
     "text": [
      "Best Run: AutoML_8a093984-8240-43d3-bfd7-118739acd5d4_17\n",
      "Algorithm: VotingEnsemble\n",
      "Metric: accuracy\n",
      "Best Score: 0.9563076923076924\n"
     ]
    }
   ],
   "source": [
    "#TODO: Save the best model\n",
    "best_run = remote_run.get_best_child()\n",
    "best_run_metrics = best_run.get_metrics()\n",
    "best_run_parameters = best_run.get_details()\n",
    "best_run_properties = best_run_parameters['properties']\n",
    "\n",
    "print(\"Best Run:\",best_run.id)\n",
    "print(\"Algorithm:\", best_run_properties['run_algorithm'])\n",
    "print(\"Metric:\", best_run_properties['primary_metric'])\n",
    "print(\"Best Score:\",best_run_properties['score'])\n"
   ]
  },
  {
   "cell_type": "code",
   "execution_count": 12,
   "metadata": {
    "gather": {
     "logged": 1598431426111
    },
    "jupyter": {
     "outputs_hidden": false,
     "source_hidden": false
    },
    "nteract": {
     "transient": {
      "deleting": false
     }
    }
   },
   "outputs": [
    {
     "data": {
      "text/plain": [
       "['accuracy_table',\n",
       " 'automl_driver.py',\n",
       " 'azureml-logs/55_azureml-execution-tvmps_54d49c49d864719ed38df96099e3f2f69d6e90d297234221517a174003a32ab7_d.txt',\n",
       " 'azureml-logs/65_job_prep-tvmps_54d49c49d864719ed38df96099e3f2f69d6e90d297234221517a174003a32ab7_d.txt',\n",
       " 'azureml-logs/70_driver_log.txt',\n",
       " 'azureml-logs/75_job_post-tvmps_54d49c49d864719ed38df96099e3f2f69d6e90d297234221517a174003a32ab7_d.txt',\n",
       " 'azureml-logs/process_info.json',\n",
       " 'azureml-logs/process_status.json',\n",
       " 'confusion_matrix',\n",
       " 'explanation/24086c11/classes.interpret.json',\n",
       " 'explanation/24086c11/eval_data_viz.interpret.json',\n",
       " 'explanation/24086c11/expected_values.interpret.json',\n",
       " 'explanation/24086c11/features.interpret.json',\n",
       " 'explanation/24086c11/global_names/0.interpret.json',\n",
       " 'explanation/24086c11/global_rank/0.interpret.json',\n",
       " 'explanation/24086c11/global_values/0.interpret.json',\n",
       " 'explanation/24086c11/local_importance_values.interpret.json',\n",
       " 'explanation/24086c11/local_importance_viz.interpret.json',\n",
       " 'explanation/24086c11/per_class_names/0.interpret.json',\n",
       " 'explanation/24086c11/per_class_rank/0.interpret.json',\n",
       " 'explanation/24086c11/per_class_values/0.interpret.json',\n",
       " 'explanation/24086c11/rich_metadata.interpret.json',\n",
       " 'explanation/24086c11/true_ys_viz.interpret.json',\n",
       " 'explanation/24086c11/visualization_dict.interpret.json',\n",
       " 'explanation/24086c11/ys_pred_proba_viz.interpret.json',\n",
       " 'explanation/24086c11/ys_pred_viz.interpret.json',\n",
       " 'explanation/d5819592/classes.interpret.json',\n",
       " 'explanation/d5819592/eval_data_viz.interpret.json',\n",
       " 'explanation/d5819592/expected_values.interpret.json',\n",
       " 'explanation/d5819592/features.interpret.json',\n",
       " 'explanation/d5819592/global_names/0.interpret.json',\n",
       " 'explanation/d5819592/global_rank/0.interpret.json',\n",
       " 'explanation/d5819592/global_values/0.interpret.json',\n",
       " 'explanation/d5819592/local_importance_values.interpret.json',\n",
       " 'explanation/d5819592/local_importance_viz.interpret.json',\n",
       " 'explanation/d5819592/per_class_names/0.interpret.json',\n",
       " 'explanation/d5819592/per_class_rank/0.interpret.json',\n",
       " 'explanation/d5819592/per_class_values/0.interpret.json',\n",
       " 'explanation/d5819592/rich_metadata.interpret.json',\n",
       " 'explanation/d5819592/true_ys_viz.interpret.json',\n",
       " 'explanation/d5819592/visualization_dict.interpret.json',\n",
       " 'logs/azureml/93_azureml.log',\n",
       " 'logs/azureml/azureml_automl.log',\n",
       " 'logs/azureml/job_prep_azureml.log',\n",
       " 'logs/azureml/job_release_azureml.log',\n",
       " 'outputs/conda_env_v_1_0_0.yml',\n",
       " 'outputs/env_dependencies.json',\n",
       " 'outputs/internal_cross_validated_models.pkl',\n",
       " 'outputs/model.pkl',\n",
       " 'outputs/pipeline_graph.json',\n",
       " 'outputs/scoring_file_v_1_0_0.py']"
      ]
     },
     "execution_count": 12,
     "metadata": {},
     "output_type": "execute_result"
    }
   ],
   "source": [
    "best_run.get_file_names()"
   ]
  },
  {
   "cell_type": "markdown",
   "metadata": {},
   "source": [
    "## Model Deployment\n",
    "\n",
    "Remember you have to deploy only one of the two models you trained.. Perform the steps in the rest of this notebook only if you wish to deploy this model.\n",
    "\n",
    "TODO: In the cell below, register the model, create an inference config and deploy the model as a web service."
   ]
  },
  {
   "cell_type": "code",
   "execution_count": 16,
   "metadata": {},
   "outputs": [
    {
     "name": "stdout",
     "output_type": "stream",
     "text": [
      "None\n"
     ]
    }
   ],
   "source": [
    "print(os.getenv('AZUREML_MODEL_DIR'))"
   ]
  },
  {
   "cell_type": "code",
   "execution_count": null,
   "metadata": {
    "gather": {
     "logged": 1598431435189
    },
    "jupyter": {
     "outputs_hidden": false,
     "source_hidden": false
    },
    "nteract": {
     "transient": {
      "deleting": false
     }
    }
   },
   "outputs": [
    {
     "name": "stdout",
     "output_type": "stream",
     "text": [
      "Tips: You can try get_logs(): https://aka.ms/debugimage#dockerlog or local deployment: https://aka.ms/debugimage#debug-locally to debug if deployment takes longer than 10 minutes.\n",
      "Running\n",
      "2021-04-14 18:17:27+00:00 Creating Container Registry if not exists..\n",
      "2021-04-14 18:17:43+00:00 Use the existing image.\n",
      "2021-04-14 18:17:44+00:00 Generating deployment configuration..\n",
      "2021-04-14 18:17:46+00:00 Submitting deployment to compute..\n",
      "2021-04-14 18:17:50+00:00 Checking the status of deployment my-service."
     ]
    }
   ],
   "source": [
    "from azureml.core import Model\n",
    "from azureml.core.environment import Environment\n",
    "from azureml.core.model import InferenceConfig\n",
    "from azureml.core.webservice import AciWebservice\n",
    "\n",
    "registered_model = best_run.register_model(model_name='covid-pneumonia-automl',\n",
    "                                            model_path='./outputs/model.pkl')\n",
    "\n",
    "\n",
    "# env = Environment.get(workspace, \"AzureML-Minimal\").clone(env_name)\n",
    "\n",
    "# for pip_package in [\"scikit-learn\"]:\n",
    "#     env.python.conda_dependencies.add_pip_package(pip_package)\n",
    "\n",
    "inference_config = InferenceConfig(entry_script='score_automl.py')#,\n",
    "#                                     environment=env)\n",
    "\n",
    "aciConfig = AciWebservice.deploy_configuration(cpu_cores=1,\n",
    "                                               auth_enabled=True, # this flag generates API keys to secure access\n",
    "                                               memory_gb=1,\n",
    "                                               tags={'name': 'covid-pneumonia', 'framework': 'Keras'},\n",
    "                                               description='Covid and Pneumonia Recognition using AutoML')\n",
    "\n",
    "service_name = \"my-service\"\n",
    "service = Model.deploy(ws, service_name, [registered_model], inference_config=inference_config, deployment_config=aciConfig)\n",
    "service.wait_for_deployment(show_output=True)"
   ]
  },
  {
   "cell_type": "markdown",
   "metadata": {
    "collapsed": true,
    "gather": {
     "logged": 1598431657736
    },
    "jupyter": {
     "outputs_hidden": false,
     "source_hidden": false
    },
    "nteract": {
     "transient": {
      "deleting": false
     }
    }
   },
   "source": [
    "TODO: In the cell below, send a request to the web service you deployed to test it."
   ]
  },
  {
   "cell_type": "code",
   "execution_count": null,
   "metadata": {
    "gather": {
     "logged": 1598432707604
    },
    "jupyter": {
     "outputs_hidden": false,
     "source_hidden": false
    },
    "nteract": {
     "transient": {
      "deleting": false
     }
    }
   },
   "outputs": [],
   "source": [
    "input_payload = json.dumps({\n",
    "    'data': test_data.tolist()\n",
    "})\n",
    "\n",
    "output = service.run(input_payload)\n",
    "\n",
    "print(output)"
   ]
  },
  {
   "cell_type": "markdown",
   "metadata": {
    "collapsed": true,
    "gather": {
     "logged": 1598432765711
    },
    "jupyter": {
     "outputs_hidden": false,
     "source_hidden": false
    },
    "nteract": {
     "transient": {
      "deleting": false
     }
    }
   },
   "source": [
    "TODO: In the cell below, print the logs of the web service and delete the service"
   ]
  },
  {
   "cell_type": "code",
   "execution_count": null,
   "metadata": {
    "jupyter": {
     "outputs_hidden": false,
     "source_hidden": false
    },
    "nteract": {
     "transient": {
      "deleting": false
     }
    }
   },
   "outputs": [],
   "source": []
  }
 ],
 "metadata": {
  "kernel_info": {
   "name": "python38-azureml"
  },
  "kernelspec": {
   "display_name": "Python 3.8 - AzureML",
   "language": "python",
   "name": "python38-azureml"
  },
  "language_info": {
   "codemirror_mode": {
    "name": "ipython",
    "version": 3
   },
   "file_extension": ".py",
   "mimetype": "text/x-python",
   "name": "python",
   "nbconvert_exporter": "python",
   "pygments_lexer": "ipython3",
   "version": "3.8.1"
  },
  "microsoft": {
   "host": {
    "AzureML": {
     "notebookHasBeenCompleted": true
    }
   }
  },
  "nteract": {
   "version": "nteract-front-end@1.0.0"
  }
 },
 "nbformat": 4,
 "nbformat_minor": 2
}
