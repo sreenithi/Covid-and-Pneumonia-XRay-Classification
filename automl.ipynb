{
 "cells": [
  {
   "cell_type": "markdown",
   "metadata": {},
   "source": [
    "# Automated ML\n",
    "\n",
    "TODO: Import Dependencies. In the cell below, import all the dependencies that you will need to complete the project."
   ]
  },
  {
   "cell_type": "code",
   "execution_count": 1,
   "metadata": {
    "gather": {
     "logged": 1598423888013
    },
    "jupyter": {
     "outputs_hidden": false,
     "source_hidden": false
    },
    "nteract": {
     "transient": {
      "deleting": false
     }
    }
   },
   "outputs": [],
   "source": [
    "from azureml.data.dataset_factory import FileDatasetFactory\n",
    "from azureml.core import Workspace, Experiment, Dataset\n",
    "from azureml.train.automl import AutoMLConfig\n",
    "from azureml.widgets import RunDetails\n",
    "from azureml.core.compute import ComputeTarget, AmlCompute\n",
    "from azureml.core.compute_target import ComputeTargetException\n",
    "\n",
    "from automl_data_utils import get_image_data_as_df"
   ]
  },
  {
   "cell_type": "markdown",
   "metadata": {},
   "source": [
    "## Dataset\n",
    "\n",
    "### Overview\n",
    "TODO: In this markdown cell, give an overview of the dataset you are using. Also mention the task you will be performing.\n",
    "\n",
    "\n",
    "TODO: Get data. In the cell below, write code to access the data you will be using in this project. Remember that the dataset needs to be external."
   ]
  },
  {
   "cell_type": "code",
   "execution_count": 2,
   "metadata": {
    "gather": {
     "logged": 1598423890461
    },
    "jupyter": {
     "outputs_hidden": false,
     "source_hidden": false
    },
    "nteract": {
     "transient": {
      "deleting": false
     }
    }
   },
   "outputs": [
    {
     "name": "stdout",
     "output_type": "stream",
     "text": [
      "Found existing cluster, using it!\n"
     ]
    }
   ],
   "source": [
    "ws = Workspace.from_config()\n",
    "\n",
    "# choose a name for experiment\n",
    "experiment_name = 'covid-pneumonia-automl'\n",
    "\n",
    "experiment=Experiment(ws, experiment_name)\n",
    "\n",
    "compute_name = \"compute-cluster\"\n",
    "vm_size = \"STANDARD_NC6\"\n",
    "\n",
    "try:\n",
    "    compute_cluster = ComputeTarget(workspace=ws, name=compute_name)\n",
    "    print(\"Found existing cluster, using it!\")\n",
    "except ComputeTargetException:\n",
    "    compute_config = AmlCompute.provisioning_configuration(vm_size=vm_size, max_nodes=6)\n",
    "    compute_cluster = ComputeTarget.create(ws, compute_name, compute_config)\n",
    "compute_cluster.wait_for_completion()"
   ]
  },
  {
   "cell_type": "code",
   "execution_count": 3,
   "metadata": {},
   "outputs": [
    {
     "name": "stdout",
     "output_type": "stream",
     "text": [
      "Found 251 images belonging to 3 classes.\n",
      "image shape: (16, 130, 100, 1)\n",
      "label shape: (16,)\n",
      "\n",
      "image shape: (16, 130, 100, 1)\n",
      "label shape: (16,)\n",
      "\n",
      "image shape: (16, 130, 100, 1)\n",
      "label shape: (16,)\n",
      "\n",
      "image shape: (16, 130, 100, 1)\n",
      "label shape: (16,)\n",
      "\n",
      "image shape: (16, 130, 100, 1)\n",
      "label shape: (16,)\n",
      "\n",
      "image shape: (16, 130, 100, 1)\n",
      "label shape: (16,)\n",
      "\n",
      "image shape: (16, 130, 100, 1)\n",
      "label shape: (16,)\n",
      "\n",
      "image shape: (16, 130, 100, 1)\n",
      "label shape: (16,)\n",
      "\n",
      "image shape: (16, 130, 100, 1)\n",
      "label shape: (16,)\n",
      "\n",
      "image shape: (16, 130, 100, 1)\n",
      "label shape: (16,)\n",
      "\n",
      "image shape: (16, 130, 100, 1)\n",
      "label shape: (16,)\n",
      "\n",
      "image shape: (16, 130, 100, 1)\n",
      "label shape: (16,)\n",
      "\n",
      "image shape: (16, 130, 100, 1)\n",
      "label shape: (16,)\n",
      "\n",
      "image shape: (16, 130, 100, 1)\n",
      "label shape: (16,)\n",
      "\n",
      "image shape: (16, 130, 100, 1)\n",
      "label shape: (16,)\n",
      "\n",
      "image shape: (11, 130, 100, 1)\n",
      "label shape: (11,)\n",
      "\n",
      "flattened shape: (251, 13001)\n",
      "Found 66 images belonging to 3 classes.\n",
      "image shape: (16, 130, 100, 1)\n",
      "label shape: (16,)\n",
      "\n",
      "image shape: (16, 130, 100, 1)\n",
      "label shape: (16,)\n",
      "\n",
      "image shape: (16, 130, 100, 1)\n",
      "label shape: (16,)\n",
      "\n",
      "image shape: (16, 130, 100, 1)\n",
      "label shape: (16,)\n",
      "\n",
      "flattened shape: (64, 13001)\n"
     ]
    }
   ],
   "source": [
    "train_data, test_data = get_image_data_as_df(ws, './Covid19-dataset/train', './Covid19-dataset/test',\"covid-pneumonia-dataset-table\")"
   ]
  },
  {
   "cell_type": "code",
   "execution_count": 4,
   "metadata": {},
   "outputs": [
    {
     "data": {
      "text/html": [
       "<div>\n",
       "<style scoped>\n",
       "    .dataframe tbody tr th:only-of-type {\n",
       "        vertical-align: middle;\n",
       "    }\n",
       "\n",
       "    .dataframe tbody tr th {\n",
       "        vertical-align: top;\n",
       "    }\n",
       "\n",
       "    .dataframe thead th {\n",
       "        text-align: right;\n",
       "    }\n",
       "</style>\n",
       "<table border=\"1\" class=\"dataframe\">\n",
       "  <thead>\n",
       "    <tr style=\"text-align: right;\">\n",
       "      <th></th>\n",
       "      <th>0</th>\n",
       "      <th>1</th>\n",
       "      <th>2</th>\n",
       "      <th>3</th>\n",
       "      <th>4</th>\n",
       "      <th>5</th>\n",
       "      <th>6</th>\n",
       "      <th>7</th>\n",
       "      <th>8</th>\n",
       "      <th>9</th>\n",
       "      <th>...</th>\n",
       "      <th>12991</th>\n",
       "      <th>12992</th>\n",
       "      <th>12993</th>\n",
       "      <th>12994</th>\n",
       "      <th>12995</th>\n",
       "      <th>12996</th>\n",
       "      <th>12997</th>\n",
       "      <th>12998</th>\n",
       "      <th>12999</th>\n",
       "      <th>class</th>\n",
       "    </tr>\n",
       "  </thead>\n",
       "  <tbody>\n",
       "    <tr>\n",
       "      <th>0</th>\n",
       "      <td>0.000369</td>\n",
       "      <td>0.000369</td>\n",
       "      <td>0.000369</td>\n",
       "      <td>0.000369</td>\n",
       "      <td>0.000369</td>\n",
       "      <td>0.000369</td>\n",
       "      <td>0.000369</td>\n",
       "      <td>0.000369</td>\n",
       "      <td>0.000369</td>\n",
       "      <td>0.000369</td>\n",
       "      <td>...</td>\n",
       "      <td>0.000200</td>\n",
       "      <td>0.000246</td>\n",
       "      <td>0.000292</td>\n",
       "      <td>0.000400</td>\n",
       "      <td>0.000292</td>\n",
       "      <td>0.000369</td>\n",
       "      <td>0.000369</td>\n",
       "      <td>0.000369</td>\n",
       "      <td>0.000369</td>\n",
       "      <td>1</td>\n",
       "    </tr>\n",
       "    <tr>\n",
       "      <th>1</th>\n",
       "      <td>0.000123</td>\n",
       "      <td>0.000123</td>\n",
       "      <td>0.000138</td>\n",
       "      <td>0.000108</td>\n",
       "      <td>0.000092</td>\n",
       "      <td>0.000108</td>\n",
       "      <td>0.000108</td>\n",
       "      <td>0.000108</td>\n",
       "      <td>0.000092</td>\n",
       "      <td>0.000123</td>\n",
       "      <td>...</td>\n",
       "      <td>0.003091</td>\n",
       "      <td>0.002814</td>\n",
       "      <td>0.002568</td>\n",
       "      <td>0.002430</td>\n",
       "      <td>0.001984</td>\n",
       "      <td>0.001707</td>\n",
       "      <td>0.000000</td>\n",
       "      <td>0.000000</td>\n",
       "      <td>0.000000</td>\n",
       "      <td>0</td>\n",
       "    </tr>\n",
       "    <tr>\n",
       "      <th>2</th>\n",
       "      <td>0.000277</td>\n",
       "      <td>0.000246</td>\n",
       "      <td>0.000277</td>\n",
       "      <td>0.000308</td>\n",
       "      <td>0.000308</td>\n",
       "      <td>0.000323</td>\n",
       "      <td>0.000323</td>\n",
       "      <td>0.000338</td>\n",
       "      <td>0.000308</td>\n",
       "      <td>0.000308</td>\n",
       "      <td>...</td>\n",
       "      <td>0.000584</td>\n",
       "      <td>0.000830</td>\n",
       "      <td>0.000984</td>\n",
       "      <td>0.001200</td>\n",
       "      <td>0.001446</td>\n",
       "      <td>0.001553</td>\n",
       "      <td>0.001646</td>\n",
       "      <td>0.001738</td>\n",
       "      <td>0.001784</td>\n",
       "      <td>0</td>\n",
       "    </tr>\n",
       "    <tr>\n",
       "      <th>3</th>\n",
       "      <td>0.001046</td>\n",
       "      <td>0.000507</td>\n",
       "      <td>0.000062</td>\n",
       "      <td>0.000569</td>\n",
       "      <td>0.000692</td>\n",
       "      <td>0.000769</td>\n",
       "      <td>0.000830</td>\n",
       "      <td>0.001000</td>\n",
       "      <td>0.001030</td>\n",
       "      <td>0.001261</td>\n",
       "      <td>...</td>\n",
       "      <td>0.000461</td>\n",
       "      <td>0.000277</td>\n",
       "      <td>0.000277</td>\n",
       "      <td>0.000277</td>\n",
       "      <td>0.000277</td>\n",
       "      <td>0.000461</td>\n",
       "      <td>0.000000</td>\n",
       "      <td>0.000000</td>\n",
       "      <td>0.000000</td>\n",
       "      <td>1</td>\n",
       "    </tr>\n",
       "    <tr>\n",
       "      <th>4</th>\n",
       "      <td>0.000277</td>\n",
       "      <td>0.000354</td>\n",
       "      <td>0.000431</td>\n",
       "      <td>0.000461</td>\n",
       "      <td>0.000477</td>\n",
       "      <td>0.000446</td>\n",
       "      <td>0.000461</td>\n",
       "      <td>0.000400</td>\n",
       "      <td>0.000369</td>\n",
       "      <td>0.000246</td>\n",
       "      <td>...</td>\n",
       "      <td>0.002322</td>\n",
       "      <td>0.001599</td>\n",
       "      <td>0.001276</td>\n",
       "      <td>0.000446</td>\n",
       "      <td>0.000123</td>\n",
       "      <td>0.000031</td>\n",
       "      <td>0.000000</td>\n",
       "      <td>0.000000</td>\n",
       "      <td>0.000000</td>\n",
       "      <td>1</td>\n",
       "    </tr>\n",
       "  </tbody>\n",
       "</table>\n",
       "<p>5 rows × 13001 columns</p>\n",
       "</div>"
      ],
      "text/plain": [
       "          0         1         2         3         4         5         6  \\\n",
       "0  0.000369  0.000369  0.000369  0.000369  0.000369  0.000369  0.000369   \n",
       "1  0.000123  0.000123  0.000138  0.000108  0.000092  0.000108  0.000108   \n",
       "2  0.000277  0.000246  0.000277  0.000308  0.000308  0.000323  0.000323   \n",
       "3  0.001046  0.000507  0.000062  0.000569  0.000692  0.000769  0.000830   \n",
       "4  0.000277  0.000354  0.000431  0.000461  0.000477  0.000446  0.000461   \n",
       "\n",
       "          7         8         9  ...     12991     12992     12993     12994  \\\n",
       "0  0.000369  0.000369  0.000369  ...  0.000200  0.000246  0.000292  0.000400   \n",
       "1  0.000108  0.000092  0.000123  ...  0.003091  0.002814  0.002568  0.002430   \n",
       "2  0.000338  0.000308  0.000308  ...  0.000584  0.000830  0.000984  0.001200   \n",
       "3  0.001000  0.001030  0.001261  ...  0.000461  0.000277  0.000277  0.000277   \n",
       "4  0.000400  0.000369  0.000246  ...  0.002322  0.001599  0.001276  0.000446   \n",
       "\n",
       "      12995     12996     12997     12998     12999  class  \n",
       "0  0.000292  0.000369  0.000369  0.000369  0.000369      1  \n",
       "1  0.001984  0.001707  0.000000  0.000000  0.000000      0  \n",
       "2  0.001446  0.001553  0.001646  0.001738  0.001784      0  \n",
       "3  0.000277  0.000461  0.000000  0.000000  0.000000      1  \n",
       "4  0.000123  0.000031  0.000000  0.000000  0.000000      1  \n",
       "\n",
       "[5 rows x 13001 columns]"
      ]
     },
     "execution_count": 4,
     "metadata": {},
     "output_type": "execute_result"
    }
   ],
   "source": [
    "train_data.head()"
   ]
  },
  {
   "cell_type": "markdown",
   "metadata": {},
   "source": [
    "## AutoML Configuration\n",
    "\n",
    "TODO: Explain why you chose the automl settings and cofiguration you used below."
   ]
  },
  {
   "cell_type": "code",
   "execution_count": 8,
   "metadata": {
    "gather": {
     "logged": 1598429217746
    },
    "jupyter": {
     "outputs_hidden": false,
     "source_hidden": false
    },
    "nteract": {
     "transient": {
      "deleting": false
     }
    }
   },
   "outputs": [],
   "source": [
    "# TODO: Put your automl settings here\n",
    "automl_settings = {\"enable_dnn\":True,\n",
    "                   \"experiment_timeout_minutes\":60,\n",
    "                   \"max_cores_per_iteration\":-1,\n",
    "                   \"enable_tf\":False,\n",
    "                   \"featurization\":\"off\"}\n",
    "\n",
    "# TODO: Put your automl config here\n",
    "automl_config = AutoMLConfig(task='classification',\n",
    "                             primary_metric='accuracy',\n",
    "                             compute_target=compute_cluster,\n",
    "                             training_data=train_data,\n",
    "                             label_column_name='class',\n",
    "                             **automl_settings\n",
    "                             )"
   ]
  },
  {
   "cell_type": "code",
   "execution_count": 9,
   "metadata": {
    "gather": {
     "logged": 1598431107951
    },
    "jupyter": {
     "outputs_hidden": false,
     "source_hidden": false
    },
    "nteract": {
     "transient": {
      "deleting": false
     }
    }
   },
   "outputs": [
    {
     "ename": "ConfigException",
     "evalue": "ConfigException:\n\tMessage: Input of type '<class 'pandas.core.frame.DataFrame'>' is not supported. Supported types: [azureml.data.tabular_dataset.TabularDataset]\n\tInnerException: None\n\tErrorResponse \n{\n    \"error\": {\n        \"code\": \"UserError\",\n        \"message\": \"Input of type '<class 'pandas.core.frame.DataFrame'>' is not supported. Supported types: [azureml.data.tabular_dataset.TabularDataset]\",\n        \"details_uri\": \"https://aka.ms/AutoMLConfig\",\n        \"target\": \"training_data\",\n        \"inner_error\": {\n            \"code\": \"BadArgument\",\n            \"inner_error\": {\n                \"code\": \"ArgumentInvalid\",\n                \"inner_error\": {\n                    \"code\": \"InvalidInputDatatype\"\n                }\n            }\n        }\n    }\n}",
     "output_type": "error",
     "traceback": [
      "\u001b[0;31m---------------------------------------------------------------------------\u001b[0m",
      "\u001b[0;31mConfigException\u001b[0m                           Traceback (most recent call last)",
      "\u001b[0;32m<ipython-input-9-2dd33d13fc7d>\u001b[0m in \u001b[0;36m<module>\u001b[0;34m\u001b[0m\n\u001b[1;32m      1\u001b[0m \u001b[0;31m# TODO: Submit your experiment\u001b[0m\u001b[0;34m\u001b[0m\u001b[0;34m\u001b[0m\u001b[0;34m\u001b[0m\u001b[0m\n\u001b[0;32m----> 2\u001b[0;31m \u001b[0mremote_run\u001b[0m \u001b[0;34m=\u001b[0m \u001b[0mexperiment\u001b[0m\u001b[0;34m.\u001b[0m\u001b[0msubmit\u001b[0m\u001b[0;34m(\u001b[0m\u001b[0mautoml_config\u001b[0m\u001b[0;34m)\u001b[0m\u001b[0;34m\u001b[0m\u001b[0;34m\u001b[0m\u001b[0m\n\u001b[0m",
      "\u001b[0;32m/anaconda/envs/azureml_py38/lib/python3.8/site-packages/azureml/_jupyter_common/__init__.py\u001b[0m in \u001b[0;36msubmit\u001b[0;34m(self, config, tags, **kwargs)\u001b[0m\n\u001b[1;32m     84\u001b[0m \u001b[0;32mdef\u001b[0m \u001b[0m_experiment_submit_notebook_decorator\u001b[0m\u001b[0;34m(\u001b[0m\u001b[0moriginal_submit\u001b[0m\u001b[0;34m)\u001b[0m\u001b[0;34m:\u001b[0m\u001b[0;34m\u001b[0m\u001b[0;34m\u001b[0m\u001b[0m\n\u001b[1;32m     85\u001b[0m     \u001b[0;32mdef\u001b[0m \u001b[0msubmit\u001b[0m\u001b[0;34m(\u001b[0m\u001b[0mself\u001b[0m\u001b[0;34m,\u001b[0m \u001b[0mconfig\u001b[0m\u001b[0;34m,\u001b[0m \u001b[0mtags\u001b[0m\u001b[0;34m=\u001b[0m\u001b[0;32mNone\u001b[0m\u001b[0;34m,\u001b[0m \u001b[0;34m**\u001b[0m\u001b[0mkwargs\u001b[0m\u001b[0;34m)\u001b[0m\u001b[0;34m:\u001b[0m\u001b[0;34m\u001b[0m\u001b[0;34m\u001b[0m\u001b[0m\n\u001b[0;32m---> 86\u001b[0;31m         \u001b[0mrun\u001b[0m \u001b[0;34m=\u001b[0m \u001b[0moriginal_submit\u001b[0m\u001b[0;34m(\u001b[0m\u001b[0mself\u001b[0m\u001b[0;34m,\u001b[0m \u001b[0mconfig\u001b[0m\u001b[0;34m,\u001b[0m \u001b[0mtags\u001b[0m\u001b[0;34m,\u001b[0m \u001b[0;34m**\u001b[0m\u001b[0mkwargs\u001b[0m\u001b[0;34m)\u001b[0m\u001b[0;34m\u001b[0m\u001b[0;34m\u001b[0m\u001b[0m\n\u001b[0m\u001b[1;32m     87\u001b[0m         \u001b[0m_update_run_created_from\u001b[0m\u001b[0;34m(\u001b[0m\u001b[0mrun\u001b[0m\u001b[0;34m)\u001b[0m\u001b[0;34m\u001b[0m\u001b[0;34m\u001b[0m\u001b[0m\n\u001b[1;32m     88\u001b[0m         \u001b[0;32mreturn\u001b[0m \u001b[0mrun\u001b[0m\u001b[0;34m\u001b[0m\u001b[0;34m\u001b[0m\u001b[0m\n",
      "\u001b[0;32m/anaconda/envs/azureml_py38/lib/python3.8/site-packages/azureml/core/experiment.py\u001b[0m in \u001b[0;36msubmit\u001b[0;34m(self, config, tags, **kwargs)\u001b[0m\n\u001b[1;32m    218\u001b[0m         \u001b[0msubmit_func\u001b[0m \u001b[0;34m=\u001b[0m \u001b[0mget_experiment_submit\u001b[0m\u001b[0;34m(\u001b[0m\u001b[0mconfig\u001b[0m\u001b[0;34m)\u001b[0m\u001b[0;34m\u001b[0m\u001b[0;34m\u001b[0m\u001b[0m\n\u001b[1;32m    219\u001b[0m         \u001b[0;32mwith\u001b[0m \u001b[0mself\u001b[0m\u001b[0;34m.\u001b[0m\u001b[0m_log_context\u001b[0m\u001b[0;34m(\u001b[0m\u001b[0;34m\"submit config {}\"\u001b[0m\u001b[0;34m.\u001b[0m\u001b[0mformat\u001b[0m\u001b[0;34m(\u001b[0m\u001b[0mconfig\u001b[0m\u001b[0;34m.\u001b[0m\u001b[0m__class__\u001b[0m\u001b[0;34m.\u001b[0m\u001b[0m__name__\u001b[0m\u001b[0;34m)\u001b[0m\u001b[0;34m)\u001b[0m\u001b[0;34m:\u001b[0m\u001b[0;34m\u001b[0m\u001b[0;34m\u001b[0m\u001b[0m\n\u001b[0;32m--> 220\u001b[0;31m             \u001b[0mrun\u001b[0m \u001b[0;34m=\u001b[0m \u001b[0msubmit_func\u001b[0m\u001b[0;34m(\u001b[0m\u001b[0mconfig\u001b[0m\u001b[0;34m,\u001b[0m \u001b[0mself\u001b[0m\u001b[0;34m.\u001b[0m\u001b[0mworkspace\u001b[0m\u001b[0;34m,\u001b[0m \u001b[0mself\u001b[0m\u001b[0;34m.\u001b[0m\u001b[0mname\u001b[0m\u001b[0;34m,\u001b[0m \u001b[0;34m**\u001b[0m\u001b[0mkwargs\u001b[0m\u001b[0;34m)\u001b[0m\u001b[0;34m\u001b[0m\u001b[0;34m\u001b[0m\u001b[0m\n\u001b[0m\u001b[1;32m    221\u001b[0m         \u001b[0;32mif\u001b[0m \u001b[0mtags\u001b[0m \u001b[0;32mis\u001b[0m \u001b[0;32mnot\u001b[0m \u001b[0;32mNone\u001b[0m\u001b[0;34m:\u001b[0m\u001b[0;34m\u001b[0m\u001b[0;34m\u001b[0m\u001b[0m\n\u001b[1;32m    222\u001b[0m             \u001b[0mrun\u001b[0m\u001b[0;34m.\u001b[0m\u001b[0mset_tags\u001b[0m\u001b[0;34m(\u001b[0m\u001b[0mtags\u001b[0m\u001b[0;34m)\u001b[0m\u001b[0;34m\u001b[0m\u001b[0;34m\u001b[0m\u001b[0m\n",
      "\u001b[0;32m/anaconda/envs/azureml_py38/lib/python3.8/site-packages/azureml/train/automl/automlconfig.py\u001b[0m in \u001b[0;36m_automl_static_submit\u001b[0;34m(automl_config_object, workspace, experiment_name, **kwargs)\u001b[0m\n\u001b[1;32m     90\u001b[0m     \u001b[0mcompute_target\u001b[0m \u001b[0;34m=\u001b[0m \u001b[0mautoml_config_object\u001b[0m\u001b[0;34m.\u001b[0m\u001b[0muser_settings\u001b[0m\u001b[0;34m.\u001b[0m\u001b[0mget\u001b[0m\u001b[0;34m(\u001b[0m\u001b[0;34m'compute_target'\u001b[0m\u001b[0;34m)\u001b[0m\u001b[0;34m\u001b[0m\u001b[0;34m\u001b[0m\u001b[0m\n\u001b[1;32m     91\u001b[0m \u001b[0;34m\u001b[0m\u001b[0m\n\u001b[0;32m---> 92\u001b[0;31m     \u001b[0mautoml_config_object\u001b[0m\u001b[0;34m.\u001b[0m\u001b[0m_validate_config_settings\u001b[0m\u001b[0;34m(\u001b[0m\u001b[0mworkspace\u001b[0m\u001b[0;34m)\u001b[0m\u001b[0;34m\u001b[0m\u001b[0;34m\u001b[0m\u001b[0m\n\u001b[0m\u001b[1;32m     93\u001b[0m     \u001b[0mfit_params\u001b[0m \u001b[0;34m=\u001b[0m \u001b[0mautoml_config_object\u001b[0m\u001b[0;34m.\u001b[0m\u001b[0m_get_fit_params\u001b[0m\u001b[0;34m(\u001b[0m\u001b[0;34m)\u001b[0m\u001b[0;34m\u001b[0m\u001b[0;34m\u001b[0m\u001b[0m\n\u001b[1;32m     94\u001b[0m \u001b[0;34m\u001b[0m\u001b[0m\n",
      "\u001b[0;32m/anaconda/envs/azureml_py38/lib/python3.8/site-packages/azureml/train/automl/automlconfig.py\u001b[0m in \u001b[0;36m_validate_config_settings\u001b[0;34m(self, workspace)\u001b[0m\n\u001b[1;32m   1990\u001b[0m                     \u001b[0mtarget\u001b[0m \u001b[0;34m=\u001b[0m \u001b[0;34m\"training_data\"\u001b[0m\u001b[0;34m\u001b[0m\u001b[0;34m\u001b[0m\u001b[0m\n\u001b[1;32m   1991\u001b[0m \u001b[0;34m\u001b[0m\u001b[0m\n\u001b[0;32m-> 1992\u001b[0;31m                 raise ConfigException._with_error(\n\u001b[0m\u001b[1;32m   1993\u001b[0m                     AzureMLError.create(\n\u001b[1;32m   1994\u001b[0m                         \u001b[0mInvalidInputDatatype\u001b[0m\u001b[0;34m,\u001b[0m \u001b[0mtarget\u001b[0m\u001b[0;34m=\u001b[0m\u001b[0mtarget\u001b[0m\u001b[0;34m,\u001b[0m \u001b[0minput_type\u001b[0m\u001b[0;34m=\u001b[0m\u001b[0minput_type\u001b[0m\u001b[0;34m,\u001b[0m\u001b[0;34m\u001b[0m\u001b[0;34m\u001b[0m\u001b[0m\n",
      "\u001b[0;31mConfigException\u001b[0m: ConfigException:\n\tMessage: Input of type '<class 'pandas.core.frame.DataFrame'>' is not supported. Supported types: [azureml.data.tabular_dataset.TabularDataset]\n\tInnerException: None\n\tErrorResponse \n{\n    \"error\": {\n        \"code\": \"UserError\",\n        \"message\": \"Input of type '<class 'pandas.core.frame.DataFrame'>' is not supported. Supported types: [azureml.data.tabular_dataset.TabularDataset]\",\n        \"details_uri\": \"https://aka.ms/AutoMLConfig\",\n        \"target\": \"training_data\",\n        \"inner_error\": {\n            \"code\": \"BadArgument\",\n            \"inner_error\": {\n                \"code\": \"ArgumentInvalid\",\n                \"inner_error\": {\n                    \"code\": \"InvalidInputDatatype\"\n                }\n            }\n        }\n    }\n}"
     ]
    }
   ],
   "source": [
    "# TODO: Submit your experiment\n",
    "remote_run = experiment.submit(automl_config)"
   ]
  },
  {
   "cell_type": "markdown",
   "metadata": {},
   "source": [
    "## Run Details\n",
    "\n",
    "OPTIONAL: Write about the different models trained and their performance. Why do you think some models did better than others?\n",
    "\n",
    "TODO: In the cell below, use the `RunDetails` widget to show the different experiments."
   ]
  },
  {
   "cell_type": "code",
   "execution_count": 9,
   "metadata": {
    "gather": {
     "logged": 1598431121770
    },
    "jupyter": {
     "outputs_hidden": false,
     "source_hidden": false
    },
    "nteract": {
     "transient": {
      "deleting": false
     }
    }
   },
   "outputs": [
    {
     "data": {
      "application/vnd.jupyter.widget-view+json": {
       "model_id": "3d147e5494624ea094766b780eb06785",
       "version_major": 2,
       "version_minor": 0
      },
      "text/plain": [
       "_AutoMLWidget(widget_settings={'childWidgetDisplay': 'popup', 'send_telemetry': False, 'log_level': 'INFO', 's…"
      ]
     },
     "metadata": {},
     "output_type": "display_data"
    },
    {
     "data": {
      "application/aml.mini.widget.v1": "{\"status\": \"Completed\", \"workbench_run_details_uri\": \"https://ml.azure.com/experiments/covid-pneumonia-automl/runs/AutoML_cb987fc2-14fd-403d-aff1-17ee0439750b?wsid=/subscriptions/510b94ba-e453-4417-988b-fbdc37b55ca7/resourcegroups/aml-quickstarts-137826/workspaces/quick-starts-ws-137826\", \"run_id\": \"AutoML_cb987fc2-14fd-403d-aff1-17ee0439750b\", \"run_properties\": {\"run_id\": \"AutoML_cb987fc2-14fd-403d-aff1-17ee0439750b\", \"created_utc\": \"2021-02-07T12:26:21.890946Z\", \"properties\": {\"num_iterations\": \"1000\", \"training_type\": \"TrainFull\", \"acquisition_function\": \"EI\", \"primary_metric\": \"accuracy\", \"train_split\": \"0\", \"acquisition_parameter\": \"0\", \"num_cross_validation\": null, \"target\": \"compute-cluster\", \"AMLSettingsJsonString\": \"{\\\"path\\\":null,\\\"name\\\":\\\"covid-pneumonia-automl\\\",\\\"subscription_id\\\":\\\"510b94ba-e453-4417-988b-fbdc37b55ca7\\\",\\\"resource_group\\\":\\\"aml-quickstarts-137826\\\",\\\"workspace_name\\\":\\\"quick-starts-ws-137826\\\",\\\"region\\\":\\\"southcentralus\\\",\\\"compute_target\\\":\\\"compute-cluster\\\",\\\"spark_service\\\":null,\\\"azure_service\\\":\\\"remote\\\",\\\"many_models\\\":false,\\\"pipeline_fetch_max_batch_size\\\":1,\\\"iterations\\\":1000,\\\"primary_metric\\\":\\\"accuracy\\\",\\\"task_type\\\":\\\"classification\\\",\\\"data_script\\\":null,\\\"validation_size\\\":0.0,\\\"n_cross_validations\\\":null,\\\"y_min\\\":null,\\\"y_max\\\":null,\\\"num_classes\\\":null,\\\"featurization\\\":\\\"auto\\\",\\\"_ignore_package_version_incompatibilities\\\":false,\\\"is_timeseries\\\":false,\\\"max_cores_per_iteration\\\":-1,\\\"max_concurrent_iterations\\\":1,\\\"iteration_timeout_minutes\\\":null,\\\"mem_in_mb\\\":null,\\\"enforce_time_on_windows\\\":false,\\\"experiment_timeout_minutes\\\":60,\\\"experiment_exit_score\\\":null,\\\"whitelist_models\\\":null,\\\"blacklist_algos\\\":[\\\"TensorFlowLinearClassifier\\\",\\\"TensorFlowDNN\\\"],\\\"supported_models\\\":[\\\"GradientBoosting\\\",\\\"TensorFlowDNN\\\",\\\"SGD\\\",\\\"KNN\\\",\\\"ExtremeRandomTrees\\\",\\\"LightGBM\\\",\\\"AveragedPerceptronClassifier\\\",\\\"SVM\\\",\\\"LogisticRegression\\\",\\\"BernoulliNaiveBayes\\\",\\\"XGBoostClassifier\\\",\\\"DecisionTree\\\",\\\"MultinomialNaiveBayes\\\",\\\"RandomForest\\\",\\\"TensorFlowLinearClassifier\\\",\\\"LinearSVM\\\"],\\\"auto_blacklist\\\":true,\\\"blacklist_samples_reached\\\":false,\\\"exclude_nan_labels\\\":true,\\\"verbosity\\\":20,\\\"_debug_log\\\":\\\"azureml_automl.log\\\",\\\"show_warnings\\\":false,\\\"model_explainability\\\":true,\\\"service_url\\\":null,\\\"sdk_url\\\":null,\\\"sdk_packages\\\":null,\\\"enable_onnx_compatible_models\\\":false,\\\"enable_split_onnx_featurizer_estimator_models\\\":false,\\\"vm_type\\\":\\\"STANDARD_NC6\\\",\\\"telemetry_verbosity\\\":20,\\\"send_telemetry\\\":true,\\\"enable_dnn\\\":true,\\\"scenario\\\":\\\"SDK-1.13.0\\\",\\\"environment_label\\\":null,\\\"force_text_dnn\\\":false,\\\"enable_feature_sweeping\\\":true,\\\"enable_early_stopping\\\":false,\\\"early_stopping_n_iters\\\":10,\\\"metrics\\\":null,\\\"enable_ensembling\\\":true,\\\"enable_stack_ensembling\\\":true,\\\"ensemble_iterations\\\":15,\\\"enable_tf\\\":false,\\\"enable_subsampling\\\":null,\\\"subsample_seed\\\":null,\\\"enable_nimbusml\\\":false,\\\"enable_streaming\\\":false,\\\"force_streaming\\\":false,\\\"track_child_runs\\\":true,\\\"allowed_private_models\\\":[],\\\"label_column_name\\\":\\\"class\\\",\\\"weight_column_name\\\":null,\\\"cv_split_column_names\\\":null,\\\"enable_local_managed\\\":false,\\\"_local_managed_run_id\\\":null,\\\"cost_mode\\\":1,\\\"lag_length\\\":0,\\\"metric_operation\\\":\\\"maximize\\\",\\\"preprocess\\\":true}\", \"DataPrepJsonString\": \"{\\\\\\\"training_data\\\\\\\": \\\\\\\"{\\\\\\\\\\\\\\\"blocks\\\\\\\\\\\\\\\": [{\\\\\\\\\\\\\\\"id\\\\\\\\\\\\\\\": \\\\\\\\\\\\\\\"58c99ddc-7339-4c97-be52-dcf26e1b4f05\\\\\\\\\\\\\\\", \\\\\\\\\\\\\\\"type\\\\\\\\\\\\\\\": \\\\\\\\\\\\\\\"Microsoft.DPrep.GetDatastoreFilesBlock\\\\\\\\\\\\\\\", \\\\\\\\\\\\\\\"arguments\\\\\\\\\\\\\\\": {\\\\\\\\\\\\\\\"datastores\\\\\\\\\\\\\\\": [{\\\\\\\\\\\\\\\"datastoreName\\\\\\\\\\\\\\\": \\\\\\\\\\\\\\\"workspaceblobstore\\\\\\\\\\\\\\\", \\\\\\\\\\\\\\\"path\\\\\\\\\\\\\\\": \\\\\\\\\\\\\\\"managed-dataset/fb991413-06e0-45a2-8d97-d6bc2bf275d3/\\\\\\\\\\\\\\\", \\\\\\\\\\\\\\\"resourceGroup\\\\\\\\\\\\\\\": \\\\\\\\\\\\\\\"aml-quickstarts-137826\\\\\\\\\\\\\\\", \\\\\\\\\\\\\\\"subscription\\\\\\\\\\\\\\\": \\\\\\\\\\\\\\\"510b94ba-e453-4417-988b-fbdc37b55ca7\\\\\\\\\\\\\\\", \\\\\\\\\\\\\\\"workspaceName\\\\\\\\\\\\\\\": \\\\\\\\\\\\\\\"quick-starts-ws-137826\\\\\\\\\\\\\\\"}]}, \\\\\\\\\\\\\\\"localData\\\\\\\\\\\\\\\": {}, \\\\\\\\\\\\\\\"isEnabled\\\\\\\\\\\\\\\": true, \\\\\\\\\\\\\\\"name\\\\\\\\\\\\\\\": null, \\\\\\\\\\\\\\\"annotation\\\\\\\\\\\\\\\": null}, {\\\\\\\\\\\\\\\"id\\\\\\\\\\\\\\\": \\\\\\\\\\\\\\\"33ef5b97-0f9a-47d5-8abd-cbaaa042a23d\\\\\\\\\\\\\\\", \\\\\\\\\\\\\\\"type\\\\\\\\\\\\\\\": \\\\\\\\\\\\\\\"Microsoft.DPrep.ReadParquetFileBlock\\\\\\\\\\\\\\\", \\\\\\\\\\\\\\\"arguments\\\\\\\\\\\\\\\": {\\\\\\\\\\\\\\\"preview\\\\\\\\\\\\\\\": false}, \\\\\\\\\\\\\\\"localData\\\\\\\\\\\\\\\": {}, \\\\\\\\\\\\\\\"isEnabled\\\\\\\\\\\\\\\": true, \\\\\\\\\\\\\\\"name\\\\\\\\\\\\\\\": null, \\\\\\\\\\\\\\\"annotation\\\\\\\\\\\\\\\": null}, {\\\\\\\\\\\\\\\"id\\\\\\\\\\\\\\\": \\\\\\\\\\\\\\\"8f55ef21-14d2-425e-8574-00979e00beb1\\\\\\\\\\\\\\\", \\\\\\\\\\\\\\\"type\\\\\\\\\\\\\\\": \\\\\\\\\\\\\\\"Microsoft.DPrep.DropColumnsBlock\\\\\\\\\\\\\\\", \\\\\\\\\\\\\\\"arguments\\\\\\\\\\\\\\\": {\\\\\\\\\\\\\\\"columns\\\\\\\\\\\\\\\": {\\\\\\\\\\\\\\\"type\\\\\\\\\\\\\\\": 0, \\\\\\\\\\\\\\\"details\\\\\\\\\\\\\\\": {\\\\\\\\\\\\\\\"selectedColumns\\\\\\\\\\\\\\\": [\\\\\\\\\\\\\\\"Path\\\\\\\\\\\\\\\"]}}}, \\\\\\\\\\\\\\\"localData\\\\\\\\\\\\\\\": {}, \\\\\\\\\\\\\\\"isEnabled\\\\\\\\\\\\\\\": true, \\\\\\\\\\\\\\\"name\\\\\\\\\\\\\\\": null, \\\\\\\\\\\\\\\"annotation\\\\\\\\\\\\\\\": null}], \\\\\\\\\\\\\\\"inspectors\\\\\\\\\\\\\\\": [], \\\\\\\\\\\\\\\"meta\\\\\\\\\\\\\\\": {\\\\\\\\\\\\\\\"savedDatasetId\\\\\\\\\\\\\\\": \\\\\\\\\\\\\\\"3d346cf4-a653-4ba7-94e3-8f7d921fe580\\\\\\\\\\\\\\\", \\\\\\\\\\\\\\\"datasetType\\\\\\\\\\\\\\\": \\\\\\\\\\\\\\\"tabular\\\\\\\\\\\\\\\", \\\\\\\\\\\\\\\"subscriptionId\\\\\\\\\\\\\\\": \\\\\\\\\\\\\\\"510b94ba-e453-4417-988b-fbdc37b55ca7\\\\\\\\\\\\\\\", \\\\\\\\\\\\\\\"workspaceId\\\\\\\\\\\\\\\": \\\\\\\\\\\\\\\"a48326ca-05cc-4987-a663-54277ee9659b\\\\\\\\\\\\\\\", \\\\\\\\\\\\\\\"workspaceLocation\\\\\\\\\\\\\\\": \\\\\\\\\\\\\\\"southcentralus\\\\\\\\\\\\\\\"}}\\\\\\\", \\\\\\\"activities\\\\\\\": 0}\", \"EnableSubsampling\": null, \"runTemplate\": \"AutoML\", \"azureml.runsource\": \"automl\", \"display_task_type\": \"classification\", \"dependencies_versions\": \"{\\\"azureml-widgets\\\": \\\"1.20.0\\\", \\\"azureml-train\\\": \\\"1.20.0\\\", \\\"azureml-train-restclients-hyperdrive\\\": \\\"1.20.0\\\", \\\"azureml-train-core\\\": \\\"1.20.0\\\", \\\"azureml-train-automl\\\": \\\"1.20.0\\\", \\\"azureml-train-automl-runtime\\\": \\\"1.20.0\\\", \\\"azureml-train-automl-client\\\": \\\"1.20.0\\\", \\\"azureml-tensorboard\\\": \\\"1.20.0\\\", \\\"azureml-telemetry\\\": \\\"1.20.0\\\", \\\"azureml-sdk\\\": \\\"1.20.0\\\", \\\"azureml-samples\\\": \\\"0+unknown\\\", \\\"azureml-pipeline\\\": \\\"1.20.0\\\", \\\"azureml-pipeline-steps\\\": \\\"1.20.0\\\", \\\"azureml-pipeline-core\\\": \\\"1.20.0\\\", \\\"azureml-opendatasets\\\": \\\"1.20.0\\\", \\\"azureml-model-management-sdk\\\": \\\"1.0.1b6.post1\\\", \\\"azureml-mlflow\\\": \\\"1.20.0.post1\\\", \\\"azureml-interpret\\\": \\\"1.20.0\\\", \\\"azureml-explain-model\\\": \\\"1.20.0\\\", \\\"azureml-defaults\\\": \\\"1.20.0\\\", \\\"azureml-dataset-runtime\\\": \\\"1.20.0\\\", \\\"azureml-dataprep\\\": \\\"2.7.3\\\", \\\"azureml-dataprep-rslex\\\": \\\"1.5.0\\\", \\\"azureml-dataprep-native\\\": \\\"27.0.0\\\", \\\"azureml-datadrift\\\": \\\"1.20.0\\\", \\\"azureml-core\\\": \\\"1.20.0\\\", \\\"azureml-contrib-services\\\": \\\"1.20.0\\\", \\\"azureml-contrib-server\\\": \\\"1.20.0\\\", \\\"azureml-contrib-reinforcementlearning\\\": \\\"1.20.0\\\", \\\"azureml-contrib-pipeline-steps\\\": \\\"1.20.0\\\", \\\"azureml-contrib-notebook\\\": \\\"1.20.0\\\", \\\"azureml-contrib-interpret\\\": \\\"1.20.0\\\", \\\"azureml-contrib-gbdt\\\": \\\"1.20.0\\\", \\\"azureml-contrib-fairness\\\": \\\"1.20.0\\\", \\\"azureml-contrib-dataset\\\": \\\"1.20.0\\\", \\\"azureml-cli-common\\\": \\\"1.20.0\\\", \\\"azureml-automl-runtime\\\": \\\"1.20.0\\\", \\\"azureml-automl-core\\\": \\\"1.20.0\\\", \\\"azureml-accel-models\\\": \\\"1.20.0\\\"}\", \"_aml_system_scenario_identification\": \"Remote.Parent\", \"ClientType\": \"SDK\", \"environment_cpu_name\": \"AzureML-AutoML-DNN\", \"environment_cpu_label\": \"prod\", \"environment_gpu_name\": \"AzureML-AutoML-DNN-GPU\", \"environment_gpu_label\": \"prod\", \"root_attribution\": \"automl\", \"attribution\": \"AutoML\", \"Orchestrator\": \"AutoML\", \"CancelUri\": \"https://southcentralus.experiments.azureml.net/jasmine/v1.0/subscriptions/510b94ba-e453-4417-988b-fbdc37b55ca7/resourceGroups/aml-quickstarts-137826/providers/Microsoft.MachineLearningServices/workspaces/quick-starts-ws-137826/experimentids/c1192670-cca0-40ed-9a85-3290017d5dd2/cancel/AutoML_cb987fc2-14fd-403d-aff1-17ee0439750b\", \"azureml.git.repository_uri\": \"https://github.com/sreenithi/Covid-and-Pneumonia-XRay-Classification.git\", \"mlflow.source.git.repoURL\": \"https://github.com/sreenithi/Covid-and-Pneumonia-XRay-Classification.git\", \"azureml.git.branch\": \"main\", \"mlflow.source.git.branch\": \"main\", \"azureml.git.commit\": \"6af7dc94a8798b0f04aed4f3b854df20938bafaa\", \"mlflow.source.git.commit\": \"6af7dc94a8798b0f04aed4f3b854df20938bafaa\", \"azureml.git.dirty\": \"True\", \"ClientSdkVersion\": \"1.21.0\", \"snapshotId\": \"00000000-0000-0000-0000-000000000000\", \"SetupRunId\": \"AutoML_cb987fc2-14fd-403d-aff1-17ee0439750b_setup\", \"SetupRunContainerId\": \"dcid.AutoML_cb987fc2-14fd-403d-aff1-17ee0439750b_setup\", \"FeaturizationRunJsonPath\": \"featurizer_container.json\", \"FeaturizationRunId\": \"AutoML_cb987fc2-14fd-403d-aff1-17ee0439750b_featurize\", \"ProblemInfoJsonString\": \"{\\\"dataset_num_categorical\\\": 0, \\\"is_sparse\\\": false, \\\"subsampling\\\": false, \\\"dataset_classes\\\": 3, \\\"dataset_features\\\": 13000, \\\"dataset_samples\\\": 251, \\\"single_frequency_class_detected\\\": false}\", \"ModelExplainRunId\": \"AutoML_cb987fc2-14fd-403d-aff1-17ee0439750b_ModelExplain\"}, \"tags\": {\"model_explain_run\": \"best_run\", \"_aml_system_azureml.automlComponent\": \"AutoML\", \"is_gpu\": \"True\", \"pipeline_id\": \"\", \"score\": \"\", \"predicted_cost\": \"\", \"fit_time\": \"\", \"training_percent\": \"\", \"iteration\": \"\", \"run_preprocessor\": \"\", \"run_algorithm\": \"\", \"automl_best_child_run_id\": \"AutoML_cb987fc2-14fd-403d-aff1-17ee0439750b_14\", \"model_explain_best_run_child_id\": \"AutoML_cb987fc2-14fd-403d-aff1-17ee0439750b_14\"}, \"end_time_utc\": \"2021-02-07T14:07:33.612458Z\", \"status\": \"Completed\", \"log_files\": {}, \"log_groups\": [], \"run_duration\": \"1:41:11\"}, \"child_runs\": [{\"run_id\": \"AutoML_cb987fc2-14fd-403d-aff1-17ee0439750b_0\", \"run_number\": 5, \"metric\": null, \"status\": \"Completed\", \"run_type\": \"azureml.scriptrun\", \"training_percent\": \"100\", \"start_time\": \"2021-02-07T12:59:16.506125Z\", \"end_time\": \"2021-02-07T13:08:18.030967Z\", \"created_time\": \"2021-02-07T12:59:04.75277Z\", \"created_time_dt\": \"2021-02-07T12:59:04.75277Z\", \"duration\": \"0:09:13\", \"iteration\": \"0\", \"goal\": \"accuracy_max\", \"run_name\": \"MaxAbsScaler, LightGBM\", \"run_properties\": \"copy=True\", \"primary_metric\": 0.92030769, \"best_metric\": 0.92030769}, {\"run_id\": \"AutoML_cb987fc2-14fd-403d-aff1-17ee0439750b_1\", \"run_number\": 6, \"metric\": null, \"status\": \"Completed\", \"run_type\": \"azureml.scriptrun\", \"training_percent\": \"100\", \"start_time\": \"2021-02-07T13:08:36.691133Z\", \"end_time\": \"2021-02-07T13:13:40.062067Z\", \"created_time\": \"2021-02-07T13:08:19.965919Z\", \"created_time_dt\": \"2021-02-07T13:08:19.965919Z\", \"duration\": \"0:05:20\", \"iteration\": \"1\", \"goal\": \"accuracy_max\", \"run_name\": \"MaxAbsScaler, XGBoostClassifier\", \"run_properties\": \"copy=True\", \"primary_metric\": 0.90830769, \"best_metric\": 0.92030769}, {\"run_id\": \"AutoML_cb987fc2-14fd-403d-aff1-17ee0439750b_2\", \"run_number\": 7, \"metric\": null, \"status\": \"Completed\", \"run_type\": \"azureml.scriptrun\", \"training_percent\": \"100\", \"start_time\": \"2021-02-07T13:13:56.870583Z\", \"end_time\": \"2021-02-07T13:15:11.54364Z\", \"created_time\": \"2021-02-07T13:13:42.581342Z\", \"created_time_dt\": \"2021-02-07T13:13:42.581342Z\", \"duration\": \"0:01:28\", \"iteration\": \"2\", \"goal\": \"accuracy_max\", \"run_name\": \"MinMaxScaler, RandomForest\", \"run_properties\": \"copy=True, feature_range=(0, 1\", \"primary_metric\": 0.88815385, \"best_metric\": 0.92030769}, {\"run_id\": \"AutoML_cb987fc2-14fd-403d-aff1-17ee0439750b_3\", \"run_number\": 8, \"metric\": null, \"status\": \"Completed\", \"run_type\": \"azureml.scriptrun\", \"training_percent\": \"100\", \"start_time\": \"2021-02-07T13:15:27.217295Z\", \"end_time\": \"2021-02-07T13:16:35.137744Z\", \"created_time\": \"2021-02-07T13:15:14.053652Z\", \"created_time_dt\": \"2021-02-07T13:15:14.053652Z\", \"duration\": \"0:01:21\", \"iteration\": \"3\", \"goal\": \"accuracy_max\", \"run_name\": \"MinMaxScaler, RandomForest\", \"run_properties\": \"copy=True, feature_range=(0, 1\", \"primary_metric\": 0.88030769, \"best_metric\": 0.92030769}, {\"run_id\": \"AutoML_cb987fc2-14fd-403d-aff1-17ee0439750b_4\", \"run_number\": 9, \"metric\": null, \"status\": \"Completed\", \"run_type\": \"azureml.scriptrun\", \"training_percent\": \"100\", \"start_time\": \"2021-02-07T13:16:52.813071Z\", \"end_time\": \"2021-02-07T13:18:08.712017Z\", \"created_time\": \"2021-02-07T13:16:37.593372Z\", \"created_time_dt\": \"2021-02-07T13:16:37.593372Z\", \"duration\": \"0:01:31\", \"iteration\": \"4\", \"goal\": \"accuracy_max\", \"run_name\": \"MinMaxScaler, RandomForest\", \"run_properties\": \"copy=True, feature_range=(0, 1\", \"primary_metric\": 0.9, \"best_metric\": 0.92030769}, {\"run_id\": \"AutoML_cb987fc2-14fd-403d-aff1-17ee0439750b_5\", \"run_number\": 10, \"metric\": null, \"status\": \"Completed\", \"run_type\": \"azureml.scriptrun\", \"training_percent\": \"100\", \"start_time\": \"2021-02-07T13:18:25.995323Z\", \"end_time\": \"2021-02-07T13:20:10.966599Z\", \"created_time\": \"2021-02-07T13:18:12.662546Z\", \"created_time_dt\": \"2021-02-07T13:18:12.662546Z\", \"duration\": \"0:01:58\", \"iteration\": \"5\", \"goal\": \"accuracy_max\", \"run_name\": \"MinMaxScaler, SVM\", \"run_properties\": \"copy=True, feature_range=(0, 1\", \"primary_metric\": 0.94, \"best_metric\": 0.94}, {\"run_id\": \"AutoML_cb987fc2-14fd-403d-aff1-17ee0439750b_6\", \"run_number\": 11, \"metric\": null, \"status\": \"Completed\", \"run_type\": \"azureml.scriptrun\", \"training_percent\": \"100\", \"start_time\": \"2021-02-07T13:20:29.607359Z\", \"end_time\": \"2021-02-07T13:31:24.49409Z\", \"created_time\": \"2021-02-07T13:20:13.646119Z\", \"created_time_dt\": \"2021-02-07T13:20:13.646119Z\", \"duration\": \"0:11:10\", \"iteration\": \"6\", \"goal\": \"accuracy_max\", \"run_name\": \"MaxAbsScaler, GradientBoosting\", \"run_properties\": \"copy=True\", \"primary_metric\": 0.88846154, \"best_metric\": 0.94}, {\"run_id\": \"AutoML_cb987fc2-14fd-403d-aff1-17ee0439750b_7\", \"run_number\": 12, \"metric\": null, \"status\": \"Completed\", \"run_type\": \"azureml.scriptrun\", \"training_percent\": \"100\", \"start_time\": \"2021-02-07T13:31:41.897708Z\", \"end_time\": \"2021-02-07T13:33:13.12638Z\", \"created_time\": \"2021-02-07T13:31:27.40988Z\", \"created_time_dt\": \"2021-02-07T13:31:27.40988Z\", \"duration\": \"0:01:45\", \"iteration\": \"7\", \"goal\": \"accuracy_max\", \"run_name\": \"StandardScalerWrapper, RandomForest\", \"run_properties\": \"<azureml.automl.runtime.shared.model_wrappers.StandardScalerWrapper object at 0x7f385b4d3128\", \"primary_metric\": 0.86815385, \"best_metric\": 0.94}, {\"run_id\": \"AutoML_cb987fc2-14fd-403d-aff1-17ee0439750b_8\", \"run_number\": 13, \"metric\": null, \"status\": \"Completed\", \"run_type\": \"azureml.scriptrun\", \"training_percent\": \"100\", \"start_time\": \"2021-02-07T13:33:27.469339Z\", \"end_time\": \"2021-02-07T13:36:43.552456Z\", \"created_time\": \"2021-02-07T13:33:14.888797Z\", \"created_time_dt\": \"2021-02-07T13:33:14.888797Z\", \"duration\": \"0:03:28\", \"iteration\": \"8\", \"goal\": \"accuracy_max\", \"run_name\": \"SparseNormalizer, XGBoostClassifier\", \"run_properties\": \"<azureml.automl.runtime.shared.model_wrappers.SparseNormalizer object at 0x7fe064bc5358\", \"primary_metric\": 0.91215385, \"best_metric\": 0.94}, {\"run_id\": \"AutoML_cb987fc2-14fd-403d-aff1-17ee0439750b_9\", \"run_number\": 14, \"metric\": null, \"status\": \"Completed\", \"run_type\": \"azureml.scriptrun\", \"training_percent\": \"100\", \"start_time\": \"2021-02-07T13:36:59.111062Z\", \"end_time\": \"2021-02-07T13:39:15.811112Z\", \"created_time\": \"2021-02-07T13:36:46.06177Z\", \"created_time_dt\": \"2021-02-07T13:36:46.06177Z\", \"duration\": \"0:02:29\", \"iteration\": \"9\", \"goal\": \"accuracy_max\", \"run_name\": \"SparseNormalizer, LightGBM\", \"run_properties\": \"<azureml.automl.runtime.shared.model_wrappers.SparseNormalizer object at 0x7f49d5ee4ba8\", \"primary_metric\": 0.92, \"best_metric\": 0.94}, {\"run_id\": \"AutoML_cb987fc2-14fd-403d-aff1-17ee0439750b_10\", \"run_number\": 15, \"metric\": null, \"status\": \"Completed\", \"run_type\": \"azureml.scriptrun\", \"training_percent\": \"100\", \"start_time\": \"2021-02-07T13:39:30.460108Z\", \"end_time\": \"2021-02-07T13:41:43.537359Z\", \"created_time\": \"2021-02-07T13:39:17.763373Z\", \"created_time_dt\": \"2021-02-07T13:39:17.763373Z\", \"duration\": \"0:02:25\", \"iteration\": \"10\", \"goal\": \"accuracy_max\", \"run_name\": \"StandardScalerWrapper, LightGBM\", \"run_properties\": \"<azureml.automl.runtime.shared.model_wrappers.StandardScalerWrapper object at 0x7fee8da9c710\", \"primary_metric\": 0.88430769, \"best_metric\": 0.94}, {\"run_id\": \"AutoML_cb987fc2-14fd-403d-aff1-17ee0439750b_11\", \"run_number\": 16, \"metric\": null, \"status\": \"Completed\", \"run_type\": \"azureml.scriptrun\", \"training_percent\": \"100\", \"start_time\": \"2021-02-07T13:41:58.496578Z\", \"end_time\": \"2021-02-07T13:55:04.252583Z\", \"created_time\": \"2021-02-07T13:41:45.645254Z\", \"created_time_dt\": \"2021-02-07T13:41:45.645254Z\", \"duration\": \"0:13:18\", \"iteration\": \"11\", \"goal\": \"accuracy_max\", \"run_name\": \"SparseNormalizer, XGBoostClassifier\", \"run_properties\": \"<azureml.automl.runtime.shared.model_wrappers.SparseNormalizer object at 0x7fccfb86a438\", \"primary_metric\": 0.90846154, \"best_metric\": 0.94}, {\"run_id\": \"AutoML_cb987fc2-14fd-403d-aff1-17ee0439750b_12\", \"run_number\": 17, \"metric\": null, \"status\": \"Completed\", \"run_type\": \"azureml.scriptrun\", \"training_percent\": \"100\", \"start_time\": \"2021-02-07T13:55:18.443351Z\", \"end_time\": \"2021-02-07T13:56:31.221585Z\", \"created_time\": \"2021-02-07T13:55:06.454968Z\", \"created_time_dt\": \"2021-02-07T13:55:06.454968Z\", \"duration\": \"0:01:24\", \"iteration\": \"12\", \"goal\": \"accuracy_max\", \"run_name\": \"RobustScaler, ExtremeRandomTrees\", \"run_properties\": \"copy=True, quantile_range=[25, 75], with_centering=True,\\n             with_scaling=False\", \"primary_metric\": 0.86846154, \"best_metric\": 0.94}, {\"run_id\": \"AutoML_cb987fc2-14fd-403d-aff1-17ee0439750b_13\", \"run_number\": 18, \"metric\": null, \"status\": \"Canceled\", \"run_type\": \"azureml.scriptrun\", \"training_percent\": \"100\", \"start_time\": \"2021-02-07T13:56:50.747502Z\", \"end_time\": \"2021-02-07T14:01:51.235748Z\", \"created_time\": \"2021-02-07T13:56:35.024336Z\", \"created_time_dt\": \"2021-02-07T13:56:35.024336Z\", \"duration\": \"0:05:16\", \"iteration\": \"13\", \"goal\": null, \"run_name\": \"SparseNormalizer, LightGBM\", \"run_properties\": null}, {\"run_id\": \"AutoML_cb987fc2-14fd-403d-aff1-17ee0439750b_14\", \"run_number\": 19, \"metric\": null, \"status\": \"Completed\", \"run_type\": \"azureml.scriptrun\", \"training_percent\": \"100\", \"start_time\": \"2021-02-07T14:02:10.951343Z\", \"end_time\": \"2021-02-07T14:04:47.90357Z\", \"created_time\": \"2021-02-07T14:01:53.164593Z\", \"created_time_dt\": \"2021-02-07T14:01:53.164593Z\", \"duration\": \"0:02:54\", \"iteration\": \"14\", \"goal\": \"accuracy_max\", \"run_name\": \"VotingEnsemble\", \"run_properties\": \"classification_labels=None,\\n                              estimators=[('5',\\n                                           Pipeline(memory=None,\\n                                                    steps=[('minmaxscaler',\\n                                                            MinMaxScaler(copy=True,\\n                                                                         feature_range=(0,\\n                                                                                        1\", \"primary_metric\": 0.94, \"best_metric\": 0.94}, {\"run_id\": \"AutoML_cb987fc2-14fd-403d-aff1-17ee0439750b_15\", \"run_number\": 20, \"metric\": null, \"status\": \"Completed\", \"run_type\": \"azureml.scriptrun\", \"training_percent\": \"100\", \"start_time\": \"2021-02-07T14:05:06.809018Z\", \"end_time\": \"2021-02-07T14:07:19.377396Z\", \"created_time\": \"2021-02-07T14:04:48.833821Z\", \"created_time_dt\": \"2021-02-07T14:04:48.833821Z\", \"duration\": \"0:02:30\", \"iteration\": \"15\", \"goal\": \"accuracy_max\", \"run_name\": \"StackEnsemble\", \"run_properties\": \"base_learners=[('5',\\n                                        Pipeline(memory=None,\\n                                                 steps=[('minmaxscaler',\\n                                                         MinMaxScaler(copy=True,\\n                                                                      feature_range=(0,\\n                                                                                     1\", \"primary_metric\": 0.936, \"best_metric\": 0.94}], \"children_metrics\": {\"categories\": [0], \"series\": {\"log_loss\": [{\"categories\": [\"0\", \"1\", \"2\", \"3\", \"4\", \"5\", \"6\", \"7\", \"8\", \"9\", \"10\", \"11\", \"12\", \"14\", \"15\"], \"mode\": \"markers\", \"name\": \"log_loss\", \"stepped\": false, \"type\": \"scatter\", \"data\": [0.2278402611739024, 0.25813456316996064, 0.32601514843979174, 0.3785207575926858, 0.36369328924139077, 0.1674661768388583, 0.25740713003680504, 0.6416865978194671, 0.23103804998993177, 0.2558255387200742, 0.317973881847994, 0.2559802565874353, 0.3717191415749669, 0.19090400786252532, 0.19559969399824484]}, {\"categories\": [\"0\", \"1\", \"2\", \"3\", \"4\", \"5\", \"6\", \"7\", \"8\", \"9\", \"10\", \"11\", \"12\", \"14\", \"15\"], \"mode\": \"lines\", \"name\": \"log_loss_min\", \"stepped\": true, \"type\": \"scatter\", \"data\": [0.2278402611739024, 0.2278402611739024, 0.2278402611739024, 0.2278402611739024, 0.2278402611739024, 0.1674661768388583, 0.1674661768388583, 0.1674661768388583, 0.1674661768388583, 0.1674661768388583, 0.1674661768388583, 0.1674661768388583, 0.1674661768388583, 0.1674661768388583, 0.1674661768388583]}], \"average_precision_score_micro\": [{\"categories\": [\"0\", \"1\", \"2\", \"3\", \"4\", \"5\", \"6\", \"7\", \"8\", \"9\", \"10\", \"11\", \"12\", \"14\", \"15\"], \"mode\": \"markers\", \"name\": \"average_precision_score_micro\", \"stepped\": false, \"type\": \"scatter\", \"data\": [0.9789283622076741, 0.9707580871366336, 0.9591922193507767, 0.9459683781520593, 0.9653455573223525, 0.9864935382853035, 0.971894204285411, 0.9400559550906913, 0.9761663701652143, 0.9755101216588737, 0.9665814879572325, 0.9710021631076788, 0.9606193237207558, 0.9861977465578177, 0.9835533466329508]}, {\"categories\": [\"0\", \"1\", \"2\", \"3\", \"4\", \"5\", \"6\", \"7\", \"8\", \"9\", \"10\", \"11\", \"12\", \"14\", \"15\"], \"mode\": \"lines\", \"name\": \"average_precision_score_micro_max\", \"stepped\": true, \"type\": \"scatter\", \"data\": [0.9789283622076741, 0.9789283622076741, 0.9789283622076741, 0.9789283622076741, 0.9789283622076741, 0.9864935382853035, 0.9864935382853035, 0.9864935382853035, 0.9864935382853035, 0.9864935382853035, 0.9864935382853035, 0.9864935382853035, 0.9864935382853035, 0.9864935382853035, 0.9864935382853035]}], \"precision_score_weighted\": [{\"categories\": [\"0\", \"1\", \"2\", \"3\", \"4\", \"5\", \"6\", \"7\", \"8\", \"9\", \"10\", \"11\", \"12\", \"14\", \"15\"], \"mode\": \"markers\", \"name\": \"precision_score_weighted\", \"stepped\": false, \"type\": \"scatter\", \"data\": [0.9289714285714286, 0.9130109668109668, 0.8992985958485958, 0.8898986568986569, 0.9062936507936508, 0.9435825396825397, 0.905278837828838, 0.8837781440781441, 0.9212628205128205, 0.9274275335775336, 0.8951907203907205, 0.9134556776556776, 0.8803290875790875, 0.9419616605616605, 0.9407743589743589]}, {\"categories\": [\"0\", \"1\", \"2\", \"3\", \"4\", \"5\", \"6\", \"7\", \"8\", \"9\", \"10\", \"11\", \"12\", \"14\", \"15\"], \"mode\": \"lines\", \"name\": \"precision_score_weighted_max\", \"stepped\": true, \"type\": \"scatter\", \"data\": [0.9289714285714286, 0.9289714285714286, 0.9289714285714286, 0.9289714285714286, 0.9289714285714286, 0.9435825396825397, 0.9435825396825397, 0.9435825396825397, 0.9435825396825397, 0.9435825396825397, 0.9435825396825397, 0.9435825396825397, 0.9435825396825397, 0.9435825396825397, 0.9435825396825397]}], \"f1_score_weighted\": [{\"categories\": [\"0\", \"1\", \"2\", \"3\", \"4\", \"5\", \"6\", \"7\", \"8\", \"9\", \"10\", \"11\", \"12\", \"14\", \"15\"], \"mode\": \"markers\", \"name\": \"f1_score_weighted\", \"stepped\": false, \"type\": \"scatter\", \"data\": [0.9182534181882789, 0.9055612335613116, 0.8873534101854161, 0.8818801289899284, 0.8993843109792496, 0.94005839616479, 0.8869941942272073, 0.8685509541305304, 0.9094550422543091, 0.9168874835943962, 0.8815158088694931, 0.9091958500284358, 0.868740064207341, 0.9366254989454988, 0.9339487546401639]}, {\"categories\": [\"0\", \"1\", \"2\", \"3\", \"4\", \"5\", \"6\", \"7\", \"8\", \"9\", \"10\", \"11\", \"12\", \"14\", \"15\"], \"mode\": \"lines\", \"name\": \"f1_score_weighted_max\", \"stepped\": true, \"type\": \"scatter\", \"data\": [0.9182534181882789, 0.9182534181882789, 0.9182534181882789, 0.9182534181882789, 0.9182534181882789, 0.94005839616479, 0.94005839616479, 0.94005839616479, 0.94005839616479, 0.94005839616479, 0.94005839616479, 0.94005839616479, 0.94005839616479, 0.94005839616479, 0.94005839616479]}], \"average_precision_score_weighted\": [{\"categories\": [\"0\", \"1\", \"2\", \"3\", \"4\", \"5\", \"6\", \"7\", \"8\", \"9\", \"10\", \"11\", \"12\", \"14\", \"15\"], \"mode\": \"markers\", \"name\": \"average_precision_score_weighted\", \"stepped\": false, \"type\": \"scatter\", \"data\": [0.9769082473082473, 0.9694070485070485, 0.955737965955613, 0.9437003094944272, 0.9636626373626374, 0.9869510378510379, 0.9752092779769249, 0.9399646861910018, 0.9765008547008547, 0.9720493062493063, 0.9638938672438673, 0.966737728937729, 0.9611368711439919, 0.9868954822954821, 0.9861583971583971]}, {\"categories\": [\"0\", \"1\", \"2\", \"3\", \"4\", \"5\", \"6\", \"7\", \"8\", \"9\", \"10\", \"11\", \"12\", \"14\", \"15\"], \"mode\": \"lines\", \"name\": \"average_precision_score_weighted_max\", \"stepped\": true, \"type\": \"scatter\", \"data\": [0.9769082473082473, 0.9769082473082473, 0.9769082473082473, 0.9769082473082473, 0.9769082473082473, 0.9869510378510379, 0.9869510378510379, 0.9869510378510379, 0.9869510378510379, 0.9869510378510379, 0.9869510378510379, 0.9869510378510379, 0.9869510378510379, 0.9869510378510379, 0.9869510378510379]}], \"precision_score_macro\": [{\"categories\": [\"0\", \"1\", \"2\", \"3\", \"4\", \"5\", \"6\", \"7\", \"8\", \"9\", \"10\", \"11\", \"12\", \"14\", \"15\"], \"mode\": \"markers\", \"name\": \"precision_score_macro\", \"stepped\": false, \"type\": \"scatter\", \"data\": [0.9168009768009767, 0.9041674991674993, 0.8892932856903444, 0.8754220779220778, 0.8946296296296297, 0.9351058201058201, 0.8944603082103082, 0.8620767195767195, 0.915338134088134, 0.9230894568394568, 0.8813227513227513, 0.8945643245643247, 0.8618488455988456, 0.9325020350020351, 0.9304517704517705]}, {\"categories\": [\"0\", \"1\", \"2\", \"3\", \"4\", \"5\", \"6\", \"7\", \"8\", \"9\", \"10\", \"11\", \"12\", \"14\", \"15\"], \"mode\": \"lines\", \"name\": \"precision_score_macro_max\", \"stepped\": true, \"type\": \"scatter\", \"data\": [0.9168009768009767, 0.9168009768009767, 0.9168009768009767, 0.9168009768009767, 0.9168009768009767, 0.9351058201058201, 0.9351058201058201, 0.9351058201058201, 0.9351058201058201, 0.9351058201058201, 0.9351058201058201, 0.9351058201058201, 0.9351058201058201, 0.9351058201058201, 0.9351058201058201]}], \"norm_macro_recall\": [{\"categories\": [\"0\", \"1\", \"2\", \"3\", \"4\", \"5\", \"6\", \"7\", \"8\", \"9\", \"10\", \"11\", \"12\", \"14\", \"15\"], \"mode\": \"markers\", \"name\": \"norm_macro_recall\", \"stepped\": false, \"type\": \"scatter\", \"data\": [0.8545220057720059, 0.830813492063492, 0.8044199346405229, 0.8043993506493505, 0.829556277056277, 0.8930537518037516, 0.801823593073593, 0.7869856124267889, 0.8347997835497833, 0.8427958152958153, 0.791031746031746, 0.8400775613275613, 0.7881219760631526, 0.8740674603174602, 0.8720436507936506]}, {\"categories\": [\"0\", \"1\", \"2\", \"3\", \"4\", \"5\", \"6\", \"7\", \"8\", \"9\", \"10\", \"11\", \"12\", \"14\", \"15\"], \"mode\": \"lines\", \"name\": \"norm_macro_recall_max\", \"stepped\": true, \"type\": \"scatter\", \"data\": [0.8545220057720059, 0.8545220057720059, 0.8545220057720059, 0.8545220057720059, 0.8545220057720059, 0.8930537518037516, 0.8930537518037516, 0.8930537518037516, 0.8930537518037516, 0.8930537518037516, 0.8930537518037516, 0.8930537518037516, 0.8930537518037516, 0.8930537518037516, 0.8930537518037516]}], \"AUC_weighted\": [{\"categories\": [\"0\", \"1\", \"2\", \"3\", \"4\", \"5\", \"6\", \"7\", \"8\", \"9\", \"10\", \"11\", \"12\", \"14\", \"15\"], \"mode\": \"markers\", \"name\": \"AUC_weighted\", \"stepped\": false, \"type\": \"scatter\", \"data\": [0.989057597046916, 0.9840698059250693, 0.974214946491417, 0.9657672412554765, 0.9799915813288876, 0.993755482786907, 0.9853116796516176, 0.9579102870297916, 0.9874924008739798, 0.9864292146278213, 0.9816723161599322, 0.9840454830515203, 0.9777144773698954, 0.993458492762827, 0.9928196038739383]}, {\"categories\": [\"0\", \"1\", \"2\", \"3\", \"4\", \"5\", \"6\", \"7\", \"8\", \"9\", \"10\", \"11\", \"12\", \"14\", \"15\"], \"mode\": \"lines\", \"name\": \"AUC_weighted_max\", \"stepped\": true, \"type\": \"scatter\", \"data\": [0.989057597046916, 0.989057597046916, 0.989057597046916, 0.989057597046916, 0.989057597046916, 0.993755482786907, 0.993755482786907, 0.993755482786907, 0.993755482786907, 0.993755482786907, 0.993755482786907, 0.993755482786907, 0.993755482786907, 0.993755482786907, 0.993755482786907]}], \"recall_score_micro\": [{\"categories\": [\"0\", \"1\", \"2\", \"3\", \"4\", \"5\", \"6\", \"7\", \"8\", \"9\", \"10\", \"11\", \"12\", \"14\", \"15\"], \"mode\": \"markers\", \"name\": \"recall_score_micro\", \"stepped\": false, \"type\": \"scatter\", \"data\": [0.9203076923076925, 0.9083076923076924, 0.8881538461538462, 0.8803076923076925, 0.9, 0.9400000000000001, 0.8884615384615385, 0.868153846153846, 0.912153846153846, 0.9199999999999999, 0.8843076923076924, 0.9084615384615384, 0.8684615384615386, 0.9400000000000001, 0.9359999999999999]}, {\"categories\": [\"0\", \"1\", \"2\", \"3\", \"4\", \"5\", \"6\", \"7\", \"8\", \"9\", \"10\", \"11\", \"12\", \"14\", \"15\"], \"mode\": \"lines\", \"name\": \"recall_score_micro_max\", \"stepped\": true, \"type\": \"scatter\", \"data\": [0.9203076923076925, 0.9203076923076925, 0.9203076923076925, 0.9203076923076925, 0.9203076923076925, 0.9400000000000001, 0.9400000000000001, 0.9400000000000001, 0.9400000000000001, 0.9400000000000001, 0.9400000000000001, 0.9400000000000001, 0.9400000000000001, 0.9400000000000001, 0.9400000000000001]}], \"AUC_macro\": [{\"categories\": [\"0\", \"1\", \"2\", \"3\", \"4\", \"5\", \"6\", \"7\", \"8\", \"9\", \"10\", \"11\", \"12\", \"14\", \"15\"], \"mode\": \"markers\", \"name\": \"AUC_macro\", \"stepped\": false, \"type\": \"scatter\", \"data\": [0.9867705828170225, 0.9818841664584699, 0.9705981453187335, 0.9602300705830118, 0.9768993780843627, 0.9923147905585985, 0.9829615764925362, 0.9530148643066599, 0.9850966455571719, 0.9836983754979112, 0.9781942371067759, 0.9808760815780941, 0.9751304894509231, 0.9921993917675032, 0.9913726721907835]}, {\"categories\": [\"0\", \"1\", \"2\", \"3\", \"4\", \"5\", \"6\", \"7\", \"8\", \"9\", \"10\", \"11\", \"12\", \"14\", \"15\"], \"mode\": \"lines\", \"name\": \"AUC_macro_max\", \"stepped\": true, \"type\": \"scatter\", \"data\": [0.9867705828170225, 0.9867705828170225, 0.9867705828170225, 0.9867705828170225, 0.9867705828170225, 0.9923147905585985, 0.9923147905585985, 0.9923147905585985, 0.9923147905585985, 0.9923147905585985, 0.9923147905585985, 0.9923147905585985, 0.9923147905585985, 0.9923147905585985, 0.9923147905585985]}], \"precision_score_micro\": [{\"categories\": [\"0\", \"1\", \"2\", \"3\", \"4\", \"5\", \"6\", \"7\", \"8\", \"9\", \"10\", \"11\", \"12\", \"14\", \"15\"], \"mode\": \"markers\", \"name\": \"precision_score_micro\", \"stepped\": false, \"type\": \"scatter\", \"data\": [0.9203076923076925, 0.9083076923076924, 0.8881538461538462, 0.8803076923076925, 0.9, 0.9400000000000001, 0.8884615384615385, 0.868153846153846, 0.912153846153846, 0.9199999999999999, 0.8843076923076924, 0.9084615384615384, 0.8684615384615386, 0.9400000000000001, 0.9359999999999999]}, {\"categories\": [\"0\", \"1\", \"2\", \"3\", \"4\", \"5\", \"6\", \"7\", \"8\", \"9\", \"10\", \"11\", \"12\", \"14\", \"15\"], \"mode\": \"lines\", \"name\": \"precision_score_micro_max\", \"stepped\": true, \"type\": \"scatter\", \"data\": [0.9203076923076925, 0.9203076923076925, 0.9203076923076925, 0.9203076923076925, 0.9203076923076925, 0.9400000000000001, 0.9400000000000001, 0.9400000000000001, 0.9400000000000001, 0.9400000000000001, 0.9400000000000001, 0.9400000000000001, 0.9400000000000001, 0.9400000000000001, 0.9400000000000001]}], \"weighted_accuracy\": [{\"categories\": [\"0\", \"1\", \"2\", \"3\", \"4\", \"5\", \"6\", \"7\", \"8\", \"9\", \"10\", \"11\", \"12\", \"14\", \"15\"], \"mode\": \"markers\", \"name\": \"weighted_accuracy\", \"stepped\": false, \"type\": \"scatter\", \"data\": [0.934351904907001, 0.925140675537466, 0.9047393802445457, 0.8899199783781577, 0.9105530492277396, 0.9487365549824954, 0.9055437642727144, 0.8755524967965551, 0.9298175720417696, 0.9398805370246734, 0.9044485507900288, 0.9218123019345719, 0.8772319751309322, 0.959047441013911, 0.9522557399694985]}, {\"categories\": [\"0\", \"1\", \"2\", \"3\", \"4\", \"5\", \"6\", \"7\", \"8\", \"9\", \"10\", \"11\", \"12\", \"14\", \"15\"], \"mode\": \"lines\", \"name\": \"weighted_accuracy_max\", \"stepped\": true, \"type\": \"scatter\", \"data\": [0.934351904907001, 0.934351904907001, 0.934351904907001, 0.934351904907001, 0.934351904907001, 0.9487365549824954, 0.9487365549824954, 0.9487365549824954, 0.9487365549824954, 0.9487365549824954, 0.9487365549824954, 0.9487365549824954, 0.9487365549824954, 0.959047441013911, 0.959047441013911]}], \"f1_score_macro\": [{\"categories\": [\"0\", \"1\", \"2\", \"3\", \"4\", \"5\", \"6\", \"7\", \"8\", \"9\", \"10\", \"11\", \"12\", \"14\", \"15\"], \"mode\": \"markers\", \"name\": \"f1_score_macro\", \"stepped\": false, \"type\": \"scatter\", \"data\": [0.901187917918568, 0.8883410577123729, 0.8709603012699569, 0.8684816393828374, 0.8857098706745361, 0.9297709328780132, 0.8674830746283743, 0.8505102667917892, 0.891791385283434, 0.8988873033545843, 0.8601019848594891, 0.8915854776383785, 0.8536977984026712, 0.917608503696739, 0.9159439187615256]}, {\"categories\": [\"0\", \"1\", \"2\", \"3\", \"4\", \"5\", \"6\", \"7\", \"8\", \"9\", \"10\", \"11\", \"12\", \"14\", \"15\"], \"mode\": \"lines\", \"name\": \"f1_score_macro_max\", \"stepped\": true, \"type\": \"scatter\", \"data\": [0.901187917918568, 0.901187917918568, 0.901187917918568, 0.901187917918568, 0.901187917918568, 0.9297709328780132, 0.9297709328780132, 0.9297709328780132, 0.9297709328780132, 0.9297709328780132, 0.9297709328780132, 0.9297709328780132, 0.9297709328780132, 0.9297709328780132, 0.9297709328780132]}], \"AUC_micro\": [{\"categories\": [\"0\", \"1\", \"2\", \"3\", \"4\", \"5\", \"6\", \"7\", \"8\", \"9\", \"10\", \"11\", \"12\", \"14\", \"15\"], \"mode\": \"markers\", \"name\": \"AUC_micro\", \"stepped\": false, \"type\": \"scatter\", \"data\": [0.9876362130177515, 0.9827441420118342, 0.976252071005917, 0.9692362130177514, 0.98064, 0.9924799999999999, 0.9830143195266274, 0.959592426035503, 0.9864181065088757, 0.9861600000000001, 0.9804603550295857, 0.9835305325443786, 0.9771908875739646, 0.99208, 0.9892799999999999]}, {\"categories\": [\"0\", \"1\", \"2\", \"3\", \"4\", \"5\", \"6\", \"7\", \"8\", \"9\", \"10\", \"11\", \"12\", \"14\", \"15\"], \"mode\": \"lines\", \"name\": \"AUC_micro_max\", \"stepped\": true, \"type\": \"scatter\", \"data\": [0.9876362130177515, 0.9876362130177515, 0.9876362130177515, 0.9876362130177515, 0.9876362130177515, 0.9924799999999999, 0.9924799999999999, 0.9924799999999999, 0.9924799999999999, 0.9924799999999999, 0.9924799999999999, 0.9924799999999999, 0.9924799999999999, 0.9924799999999999, 0.9924799999999999]}], \"balanced_accuracy\": [{\"categories\": [\"0\", \"1\", \"2\", \"3\", \"4\", \"5\", \"6\", \"7\", \"8\", \"9\", \"10\", \"11\", \"12\", \"14\", \"15\"], \"mode\": \"markers\", \"name\": \"balanced_accuracy\", \"stepped\": false, \"type\": \"scatter\", \"data\": [0.9030146705146705, 0.8872089947089947, 0.8696132897603487, 0.869599567099567, 0.8863708513708513, 0.9287025012025012, 0.8678823953823954, 0.857990408284526, 0.8898665223665223, 0.8951972101972103, 0.8606878306878307, 0.8933850408850409, 0.8587479840421018, 0.9160449735449735, 0.9146957671957672]}, {\"categories\": [\"0\", \"1\", \"2\", \"3\", \"4\", \"5\", \"6\", \"7\", \"8\", \"9\", \"10\", \"11\", \"12\", \"14\", \"15\"], \"mode\": \"lines\", \"name\": \"balanced_accuracy_max\", \"stepped\": true, \"type\": \"scatter\", \"data\": [0.9030146705146705, 0.9030146705146705, 0.9030146705146705, 0.9030146705146705, 0.9030146705146705, 0.9287025012025012, 0.9287025012025012, 0.9287025012025012, 0.9287025012025012, 0.9287025012025012, 0.9287025012025012, 0.9287025012025012, 0.9287025012025012, 0.9287025012025012, 0.9287025012025012]}], \"recall_score_weighted\": [{\"categories\": [\"0\", \"1\", \"2\", \"3\", \"4\", \"5\", \"6\", \"7\", \"8\", \"9\", \"10\", \"11\", \"12\", \"14\", \"15\"], \"mode\": \"markers\", \"name\": \"recall_score_weighted\", \"stepped\": false, \"type\": \"scatter\", \"data\": [0.9203076923076925, 0.9083076923076924, 0.8881538461538462, 0.8803076923076925, 0.9, 0.9400000000000001, 0.8884615384615385, 0.868153846153846, 0.912153846153846, 0.9199999999999999, 0.8843076923076924, 0.9084615384615384, 0.8684615384615386, 0.9400000000000001, 0.9359999999999999]}, {\"categories\": [\"0\", \"1\", \"2\", \"3\", \"4\", \"5\", \"6\", \"7\", \"8\", \"9\", \"10\", \"11\", \"12\", \"14\", \"15\"], \"mode\": \"lines\", \"name\": \"recall_score_weighted_max\", \"stepped\": true, \"type\": \"scatter\", \"data\": [0.9203076923076925, 0.9203076923076925, 0.9203076923076925, 0.9203076923076925, 0.9203076923076925, 0.9400000000000001, 0.9400000000000001, 0.9400000000000001, 0.9400000000000001, 0.9400000000000001, 0.9400000000000001, 0.9400000000000001, 0.9400000000000001, 0.9400000000000001, 0.9400000000000001]}], \"f1_score_micro\": [{\"categories\": [\"0\", \"1\", \"2\", \"3\", \"4\", \"5\", \"6\", \"7\", \"8\", \"9\", \"10\", \"11\", \"12\", \"14\", \"15\"], \"mode\": \"markers\", \"name\": \"f1_score_micro\", \"stepped\": false, \"type\": \"scatter\", \"data\": [0.9203076923076925, 0.9083076923076924, 0.8881538461538462, 0.8803076923076922, 0.9, 0.9400000000000001, 0.8884615384615385, 0.868153846153846, 0.912153846153846, 0.9199999999999999, 0.8843076923076924, 0.9084615384615384, 0.8684615384615384, 0.9400000000000001, 0.9359999999999999]}, {\"categories\": [\"0\", \"1\", \"2\", \"3\", \"4\", \"5\", \"6\", \"7\", \"8\", \"9\", \"10\", \"11\", \"12\", \"14\", \"15\"], \"mode\": \"lines\", \"name\": \"f1_score_micro_max\", \"stepped\": true, \"type\": \"scatter\", \"data\": [0.9203076923076925, 0.9203076923076925, 0.9203076923076925, 0.9203076923076925, 0.9203076923076925, 0.9400000000000001, 0.9400000000000001, 0.9400000000000001, 0.9400000000000001, 0.9400000000000001, 0.9400000000000001, 0.9400000000000001, 0.9400000000000001, 0.9400000000000001, 0.9400000000000001]}], \"average_precision_score_macro\": [{\"categories\": [\"0\", \"1\", \"2\", \"3\", \"4\", \"5\", \"6\", \"7\", \"8\", \"9\", \"10\", \"11\", \"12\", \"14\", \"15\"], \"mode\": \"markers\", \"name\": \"average_precision_score_macro\", \"stepped\": false, \"type\": \"scatter\", \"data\": [0.9708739632648362, 0.9622056272435591, 0.945880224161692, 0.9321367371398438, 0.9558240060355491, 0.9834529442118729, 0.9684604259413359, 0.9241353535188775, 0.970303330928331, 0.9633896047735334, 0.9532941466969245, 0.9580717145875877, 0.9506410398458398, 0.9834850681725682, 0.9824730431605431]}, {\"categories\": [\"0\", \"1\", \"2\", \"3\", \"4\", \"5\", \"6\", \"7\", \"8\", \"9\", \"10\", \"11\", \"12\", \"14\", \"15\"], \"mode\": \"lines\", \"name\": \"average_precision_score_macro_max\", \"stepped\": true, \"type\": \"scatter\", \"data\": [0.9708739632648362, 0.9708739632648362, 0.9708739632648362, 0.9708739632648362, 0.9708739632648362, 0.9834529442118729, 0.9834529442118729, 0.9834529442118729, 0.9834529442118729, 0.9834529442118729, 0.9834529442118729, 0.9834529442118729, 0.9834529442118729, 0.9834850681725682, 0.9834850681725682]}], \"accuracy\": [{\"categories\": [\"0\", \"1\", \"2\", \"3\", \"4\", \"5\", \"6\", \"7\", \"8\", \"9\", \"10\", \"11\", \"12\", \"14\", \"15\"], \"mode\": \"markers\", \"name\": \"accuracy\", \"stepped\": false, \"type\": \"scatter\", \"data\": [0.9203076923076925, 0.9083076923076924, 0.8881538461538462, 0.8803076923076925, 0.9, 0.9400000000000001, 0.8884615384615385, 0.868153846153846, 0.912153846153846, 0.9199999999999999, 0.8843076923076924, 0.9084615384615384, 0.8684615384615386, 0.9400000000000001, 0.9359999999999999]}, {\"categories\": [\"0\", \"1\", \"2\", \"3\", \"4\", \"5\", \"6\", \"7\", \"8\", \"9\", \"10\", \"11\", \"12\", \"14\", \"15\"], \"mode\": \"lines\", \"name\": \"accuracy_max\", \"stepped\": true, \"type\": \"scatter\", \"data\": [0.9203076923076925, 0.9203076923076925, 0.9203076923076925, 0.9203076923076925, 0.9203076923076925, 0.9400000000000001, 0.9400000000000001, 0.9400000000000001, 0.9400000000000001, 0.9400000000000001, 0.9400000000000001, 0.9400000000000001, 0.9400000000000001, 0.9400000000000001, 0.9400000000000001]}], \"matthews_correlation\": [{\"categories\": [\"0\", \"1\", \"2\", \"3\", \"4\", \"5\", \"6\", \"7\", \"8\", \"9\", \"10\", \"11\", \"12\", \"14\", \"15\"], \"mode\": \"markers\", \"name\": \"matthews_correlation\", \"stepped\": false, \"type\": \"scatter\", \"data\": [0.8758602418026513, 0.8558294116989892, 0.8255204217546694, 0.8171087248058937, 0.8450372409224928, 0.9059857348445686, 0.8294089567612752, 0.7946881121628694, 0.8621521432687344, 0.8732779867223929, 0.821415337981828, 0.8577229269970598, 0.7969534594214192, 0.9029405642985173, 0.897776463265499]}, {\"categories\": [\"0\", \"1\", \"2\", \"3\", \"4\", \"5\", \"6\", \"7\", \"8\", \"9\", \"10\", \"11\", \"12\", \"14\", \"15\"], \"mode\": \"lines\", \"name\": \"matthews_correlation_max\", \"stepped\": true, \"type\": \"scatter\", \"data\": [0.8758602418026513, 0.8758602418026513, 0.8758602418026513, 0.8758602418026513, 0.8758602418026513, 0.9059857348445686, 0.9059857348445686, 0.9059857348445686, 0.9059857348445686, 0.9059857348445686, 0.9059857348445686, 0.9059857348445686, 0.9059857348445686, 0.9059857348445686, 0.9059857348445686]}], \"recall_score_macro\": [{\"categories\": [\"0\", \"1\", \"2\", \"3\", \"4\", \"5\", \"6\", \"7\", \"8\", \"9\", \"10\", \"11\", \"12\", \"14\", \"15\"], \"mode\": \"markers\", \"name\": \"recall_score_macro\", \"stepped\": false, \"type\": \"scatter\", \"data\": [0.9030146705146705, 0.8872089947089947, 0.8696132897603487, 0.869599567099567, 0.8863708513708513, 0.9287025012025012, 0.8678823953823954, 0.857990408284526, 0.8898665223665223, 0.8951972101972103, 0.8606878306878307, 0.8933850408850409, 0.8587479840421018, 0.9160449735449735, 0.9146957671957672]}, {\"categories\": [\"0\", \"1\", \"2\", \"3\", \"4\", \"5\", \"6\", \"7\", \"8\", \"9\", \"10\", \"11\", \"12\", \"14\", \"15\"], \"mode\": \"lines\", \"name\": \"recall_score_macro_max\", \"stepped\": true, \"type\": \"scatter\", \"data\": [0.9030146705146705, 0.9030146705146705, 0.9030146705146705, 0.9030146705146705, 0.9030146705146705, 0.9287025012025012, 0.9287025012025012, 0.9287025012025012, 0.9287025012025012, 0.9287025012025012, 0.9287025012025012, 0.9287025012025012, 0.9287025012025012, 0.9287025012025012, 0.9287025012025012]}]}, \"metricName\": null, \"primaryMetricName\": \"accuracy\", \"showLegend\": false}, \"run_metrics\": [{\"name\": \"experiment_status\", \"run_id\": \"AutoML_cb987fc2-14fd-403d-aff1-17ee0439750b\", \"categories\": [0, 1, 2, 3, 4, 5, 6, 7, 8, 9, 10, 11, 12, 13], \"series\": [{\"data\": [\"DatasetEvaluation\", \"FeaturesGeneration\", \"DatasetFeaturization\", \"DatasetFeaturizationCompleted\", \"DatasetCrossValidationSplit\", \"ModelSelection\", \"BestRunExplainModel\", \"ModelExplanationDataSetSetup\", \"PickSurrogateModel\", \"EngineeredFeatureExplanations\", \"EngineeredFeatureExplanations\", \"RawFeaturesExplanations\", \"RawFeaturesExplanations\", \"BestRunExplainModel\"]}]}, {\"name\": \"experiment_status_description\", \"run_id\": \"AutoML_cb987fc2-14fd-403d-aff1-17ee0439750b\", \"categories\": [0, 1, 2, 3, 4, 5, 6, 7, 8, 9, 10, 11, 12, 13], \"series\": [{\"data\": [\"Gathering dataset statistics.\", \"Generating features for the dataset.\", \"Beginning to fit featurizers and featurize the dataset.\", \"Completed fit featurizers and featurizing the dataset.\", \"Generating individually featurized CV splits.\", \"Beginning model selection.\", \"Best run model explanations started\", \"Model explanations data setup completed\", \"Choosing LightGBM as the surrogate model for explanations\", \"Computation of engineered features started\", \"Computation of engineered features completed\", \"Computation of raw features started\", \"Computation of raw features completed\", \"Best run model explanations completed\"]}]}, {\"name\": \"precision_score_micro\", \"run_id\": \"AutoML_cb987fc2-14fd-403d-aff1-17ee0439750b\", \"categories\": [0], \"series\": [{\"data\": [0.9400000000000001]}]}, {\"name\": \"log_loss\", \"run_id\": \"AutoML_cb987fc2-14fd-403d-aff1-17ee0439750b\", \"categories\": [0], \"series\": [{\"data\": [0.19090400786252532]}]}, {\"name\": \"f1_score_weighted\", \"run_id\": \"AutoML_cb987fc2-14fd-403d-aff1-17ee0439750b\", \"categories\": [0], \"series\": [{\"data\": [0.9366254989454988]}]}, {\"name\": \"recall_score_weighted\", \"run_id\": \"AutoML_cb987fc2-14fd-403d-aff1-17ee0439750b\", \"categories\": [0], \"series\": [{\"data\": [0.9400000000000001]}]}, {\"name\": \"recall_score_macro\", \"run_id\": \"AutoML_cb987fc2-14fd-403d-aff1-17ee0439750b\", \"categories\": [0], \"series\": [{\"data\": [0.9160449735449735]}]}, {\"name\": \"norm_macro_recall\", \"run_id\": \"AutoML_cb987fc2-14fd-403d-aff1-17ee0439750b\", \"categories\": [0], \"series\": [{\"data\": [0.8740674603174602]}]}, {\"name\": \"precision_score_macro\", \"run_id\": \"AutoML_cb987fc2-14fd-403d-aff1-17ee0439750b\", \"categories\": [0], \"series\": [{\"data\": [0.9325020350020351]}]}, {\"name\": \"average_precision_score_weighted\", \"run_id\": \"AutoML_cb987fc2-14fd-403d-aff1-17ee0439750b\", \"categories\": [0], \"series\": [{\"data\": [0.9868954822954821]}]}, {\"name\": \"balanced_accuracy\", \"run_id\": \"AutoML_cb987fc2-14fd-403d-aff1-17ee0439750b\", \"categories\": [0], \"series\": [{\"data\": [0.9160449735449735]}]}, {\"name\": \"average_precision_score_micro\", \"run_id\": \"AutoML_cb987fc2-14fd-403d-aff1-17ee0439750b\", \"categories\": [0], \"series\": [{\"data\": [0.9861977465578177]}]}, {\"name\": \"precision_score_weighted\", \"run_id\": \"AutoML_cb987fc2-14fd-403d-aff1-17ee0439750b\", \"categories\": [0], \"series\": [{\"data\": [0.9419616605616605]}]}, {\"name\": \"weighted_accuracy\", \"run_id\": \"AutoML_cb987fc2-14fd-403d-aff1-17ee0439750b\", \"categories\": [0], \"series\": [{\"data\": [0.959047441013911]}]}, {\"name\": \"AUC_weighted\", \"run_id\": \"AutoML_cb987fc2-14fd-403d-aff1-17ee0439750b\", \"categories\": [0], \"series\": [{\"data\": [0.993458492762827]}]}, {\"name\": \"f1_score_macro\", \"run_id\": \"AutoML_cb987fc2-14fd-403d-aff1-17ee0439750b\", \"categories\": [0], \"series\": [{\"data\": [0.917608503696739]}]}, {\"name\": \"matthews_correlation\", \"run_id\": \"AutoML_cb987fc2-14fd-403d-aff1-17ee0439750b\", \"categories\": [0], \"series\": [{\"data\": [0.9029405642985173]}]}, {\"name\": \"recall_score_micro\", \"run_id\": \"AutoML_cb987fc2-14fd-403d-aff1-17ee0439750b\", \"categories\": [0], \"series\": [{\"data\": [0.9400000000000001]}]}, {\"name\": \"average_precision_score_macro\", \"run_id\": \"AutoML_cb987fc2-14fd-403d-aff1-17ee0439750b\", \"categories\": [0], \"series\": [{\"data\": [0.9834850681725682]}]}, {\"name\": \"f1_score_micro\", \"run_id\": \"AutoML_cb987fc2-14fd-403d-aff1-17ee0439750b\", \"categories\": [0], \"series\": [{\"data\": [0.9400000000000001]}]}, {\"name\": \"AUC_micro\", \"run_id\": \"AutoML_cb987fc2-14fd-403d-aff1-17ee0439750b\", \"categories\": [0], \"series\": [{\"data\": [0.99208]}]}, {\"name\": \"accuracy\", \"run_id\": \"AutoML_cb987fc2-14fd-403d-aff1-17ee0439750b\", \"categories\": [0], \"series\": [{\"data\": [0.9400000000000001]}]}, {\"name\": \"AUC_macro\", \"run_id\": \"AutoML_cb987fc2-14fd-403d-aff1-17ee0439750b\", \"categories\": [0], \"series\": [{\"data\": [0.9921993917675032]}]}], \"run_logs\": \"\\nRun is completed.\", \"graph\": {}, \"widget_settings\": {\"childWidgetDisplay\": \"popup\", \"send_telemetry\": false, \"log_level\": \"INFO\", \"sdk_version\": \"1.20.0\"}, \"loading\": false}"
     },
     "metadata": {},
     "output_type": "display_data"
    },
    {
     "data": {
      "text/plain": [
       "{'runId': 'AutoML_cb987fc2-14fd-403d-aff1-17ee0439750b',\n",
       " 'target': 'compute-cluster',\n",
       " 'status': 'Completed',\n",
       " 'startTimeUtc': '2021-02-07T12:26:38.791628Z',\n",
       " 'endTimeUtc': '2021-02-07T14:07:33.612458Z',\n",
       " 'properties': {'num_iterations': '1000',\n",
       "  'training_type': 'TrainFull',\n",
       "  'acquisition_function': 'EI',\n",
       "  'primary_metric': 'accuracy',\n",
       "  'train_split': '0',\n",
       "  'acquisition_parameter': '0',\n",
       "  'num_cross_validation': None,\n",
       "  'target': 'compute-cluster',\n",
       "  'AMLSettingsJsonString': '{\"path\":null,\"name\":\"covid-pneumonia-automl\",\"subscription_id\":\"510b94ba-e453-4417-988b-fbdc37b55ca7\",\"resource_group\":\"aml-quickstarts-137826\",\"workspace_name\":\"quick-starts-ws-137826\",\"region\":\"southcentralus\",\"compute_target\":\"compute-cluster\",\"spark_service\":null,\"azure_service\":\"remote\",\"many_models\":false,\"pipeline_fetch_max_batch_size\":1,\"iterations\":1000,\"primary_metric\":\"accuracy\",\"task_type\":\"classification\",\"data_script\":null,\"validation_size\":0.0,\"n_cross_validations\":null,\"y_min\":null,\"y_max\":null,\"num_classes\":null,\"featurization\":\"auto\",\"_ignore_package_version_incompatibilities\":false,\"is_timeseries\":false,\"max_cores_per_iteration\":-1,\"max_concurrent_iterations\":1,\"iteration_timeout_minutes\":null,\"mem_in_mb\":null,\"enforce_time_on_windows\":false,\"experiment_timeout_minutes\":60,\"experiment_exit_score\":null,\"whitelist_models\":null,\"blacklist_algos\":[\"TensorFlowLinearClassifier\",\"TensorFlowDNN\"],\"supported_models\":[\"GradientBoosting\",\"TensorFlowDNN\",\"SGD\",\"KNN\",\"ExtremeRandomTrees\",\"LightGBM\",\"AveragedPerceptronClassifier\",\"SVM\",\"LogisticRegression\",\"BernoulliNaiveBayes\",\"XGBoostClassifier\",\"DecisionTree\",\"MultinomialNaiveBayes\",\"RandomForest\",\"TensorFlowLinearClassifier\",\"LinearSVM\"],\"auto_blacklist\":true,\"blacklist_samples_reached\":false,\"exclude_nan_labels\":true,\"verbosity\":20,\"_debug_log\":\"azureml_automl.log\",\"show_warnings\":false,\"model_explainability\":true,\"service_url\":null,\"sdk_url\":null,\"sdk_packages\":null,\"enable_onnx_compatible_models\":false,\"enable_split_onnx_featurizer_estimator_models\":false,\"vm_type\":\"STANDARD_NC6\",\"telemetry_verbosity\":20,\"send_telemetry\":true,\"enable_dnn\":true,\"scenario\":\"SDK-1.13.0\",\"environment_label\":null,\"force_text_dnn\":false,\"enable_feature_sweeping\":true,\"enable_early_stopping\":false,\"early_stopping_n_iters\":10,\"metrics\":null,\"enable_ensembling\":true,\"enable_stack_ensembling\":true,\"ensemble_iterations\":15,\"enable_tf\":false,\"enable_subsampling\":null,\"subsample_seed\":null,\"enable_nimbusml\":false,\"enable_streaming\":false,\"force_streaming\":false,\"track_child_runs\":true,\"allowed_private_models\":[],\"label_column_name\":\"class\",\"weight_column_name\":null,\"cv_split_column_names\":null,\"enable_local_managed\":false,\"_local_managed_run_id\":null,\"cost_mode\":1,\"lag_length\":0,\"metric_operation\":\"maximize\",\"preprocess\":true}',\n",
       "  'DataPrepJsonString': '{\\\\\"training_data\\\\\": \\\\\"{\\\\\\\\\\\\\"blocks\\\\\\\\\\\\\": [{\\\\\\\\\\\\\"id\\\\\\\\\\\\\": \\\\\\\\\\\\\"58c99ddc-7339-4c97-be52-dcf26e1b4f05\\\\\\\\\\\\\", \\\\\\\\\\\\\"type\\\\\\\\\\\\\": \\\\\\\\\\\\\"Microsoft.DPrep.GetDatastoreFilesBlock\\\\\\\\\\\\\", \\\\\\\\\\\\\"arguments\\\\\\\\\\\\\": {\\\\\\\\\\\\\"datastores\\\\\\\\\\\\\": [{\\\\\\\\\\\\\"datastoreName\\\\\\\\\\\\\": \\\\\\\\\\\\\"workspaceblobstore\\\\\\\\\\\\\", \\\\\\\\\\\\\"path\\\\\\\\\\\\\": \\\\\\\\\\\\\"managed-dataset/fb991413-06e0-45a2-8d97-d6bc2bf275d3/\\\\\\\\\\\\\", \\\\\\\\\\\\\"resourceGroup\\\\\\\\\\\\\": \\\\\\\\\\\\\"aml-quickstarts-137826\\\\\\\\\\\\\", \\\\\\\\\\\\\"subscription\\\\\\\\\\\\\": \\\\\\\\\\\\\"510b94ba-e453-4417-988b-fbdc37b55ca7\\\\\\\\\\\\\", \\\\\\\\\\\\\"workspaceName\\\\\\\\\\\\\": \\\\\\\\\\\\\"quick-starts-ws-137826\\\\\\\\\\\\\"}]}, \\\\\\\\\\\\\"localData\\\\\\\\\\\\\": {}, \\\\\\\\\\\\\"isEnabled\\\\\\\\\\\\\": true, \\\\\\\\\\\\\"name\\\\\\\\\\\\\": null, \\\\\\\\\\\\\"annotation\\\\\\\\\\\\\": null}, {\\\\\\\\\\\\\"id\\\\\\\\\\\\\": \\\\\\\\\\\\\"33ef5b97-0f9a-47d5-8abd-cbaaa042a23d\\\\\\\\\\\\\", \\\\\\\\\\\\\"type\\\\\\\\\\\\\": \\\\\\\\\\\\\"Microsoft.DPrep.ReadParquetFileBlock\\\\\\\\\\\\\", \\\\\\\\\\\\\"arguments\\\\\\\\\\\\\": {\\\\\\\\\\\\\"preview\\\\\\\\\\\\\": false}, \\\\\\\\\\\\\"localData\\\\\\\\\\\\\": {}, \\\\\\\\\\\\\"isEnabled\\\\\\\\\\\\\": true, \\\\\\\\\\\\\"name\\\\\\\\\\\\\": null, \\\\\\\\\\\\\"annotation\\\\\\\\\\\\\": null}, {\\\\\\\\\\\\\"id\\\\\\\\\\\\\": \\\\\\\\\\\\\"8f55ef21-14d2-425e-8574-00979e00beb1\\\\\\\\\\\\\", \\\\\\\\\\\\\"type\\\\\\\\\\\\\": \\\\\\\\\\\\\"Microsoft.DPrep.DropColumnsBlock\\\\\\\\\\\\\", \\\\\\\\\\\\\"arguments\\\\\\\\\\\\\": {\\\\\\\\\\\\\"columns\\\\\\\\\\\\\": {\\\\\\\\\\\\\"type\\\\\\\\\\\\\": 0, \\\\\\\\\\\\\"details\\\\\\\\\\\\\": {\\\\\\\\\\\\\"selectedColumns\\\\\\\\\\\\\": [\\\\\\\\\\\\\"Path\\\\\\\\\\\\\"]}}}, \\\\\\\\\\\\\"localData\\\\\\\\\\\\\": {}, \\\\\\\\\\\\\"isEnabled\\\\\\\\\\\\\": true, \\\\\\\\\\\\\"name\\\\\\\\\\\\\": null, \\\\\\\\\\\\\"annotation\\\\\\\\\\\\\": null}], \\\\\\\\\\\\\"inspectors\\\\\\\\\\\\\": [], \\\\\\\\\\\\\"meta\\\\\\\\\\\\\": {\\\\\\\\\\\\\"savedDatasetId\\\\\\\\\\\\\": \\\\\\\\\\\\\"3d346cf4-a653-4ba7-94e3-8f7d921fe580\\\\\\\\\\\\\", \\\\\\\\\\\\\"datasetType\\\\\\\\\\\\\": \\\\\\\\\\\\\"tabular\\\\\\\\\\\\\", \\\\\\\\\\\\\"subscriptionId\\\\\\\\\\\\\": \\\\\\\\\\\\\"510b94ba-e453-4417-988b-fbdc37b55ca7\\\\\\\\\\\\\", \\\\\\\\\\\\\"workspaceId\\\\\\\\\\\\\": \\\\\\\\\\\\\"a48326ca-05cc-4987-a663-54277ee9659b\\\\\\\\\\\\\", \\\\\\\\\\\\\"workspaceLocation\\\\\\\\\\\\\": \\\\\\\\\\\\\"southcentralus\\\\\\\\\\\\\"}}\\\\\", \\\\\"activities\\\\\": 0}',\n",
       "  'EnableSubsampling': None,\n",
       "  'runTemplate': 'AutoML',\n",
       "  'azureml.runsource': 'automl',\n",
       "  'display_task_type': 'classification',\n",
       "  'dependencies_versions': '{\"azureml-widgets\": \"1.20.0\", \"azureml-train\": \"1.20.0\", \"azureml-train-restclients-hyperdrive\": \"1.20.0\", \"azureml-train-core\": \"1.20.0\", \"azureml-train-automl\": \"1.20.0\", \"azureml-train-automl-runtime\": \"1.20.0\", \"azureml-train-automl-client\": \"1.20.0\", \"azureml-tensorboard\": \"1.20.0\", \"azureml-telemetry\": \"1.20.0\", \"azureml-sdk\": \"1.20.0\", \"azureml-samples\": \"0+unknown\", \"azureml-pipeline\": \"1.20.0\", \"azureml-pipeline-steps\": \"1.20.0\", \"azureml-pipeline-core\": \"1.20.0\", \"azureml-opendatasets\": \"1.20.0\", \"azureml-model-management-sdk\": \"1.0.1b6.post1\", \"azureml-mlflow\": \"1.20.0.post1\", \"azureml-interpret\": \"1.20.0\", \"azureml-explain-model\": \"1.20.0\", \"azureml-defaults\": \"1.20.0\", \"azureml-dataset-runtime\": \"1.20.0\", \"azureml-dataprep\": \"2.7.3\", \"azureml-dataprep-rslex\": \"1.5.0\", \"azureml-dataprep-native\": \"27.0.0\", \"azureml-datadrift\": \"1.20.0\", \"azureml-core\": \"1.20.0\", \"azureml-contrib-services\": \"1.20.0\", \"azureml-contrib-server\": \"1.20.0\", \"azureml-contrib-reinforcementlearning\": \"1.20.0\", \"azureml-contrib-pipeline-steps\": \"1.20.0\", \"azureml-contrib-notebook\": \"1.20.0\", \"azureml-contrib-interpret\": \"1.20.0\", \"azureml-contrib-gbdt\": \"1.20.0\", \"azureml-contrib-fairness\": \"1.20.0\", \"azureml-contrib-dataset\": \"1.20.0\", \"azureml-cli-common\": \"1.20.0\", \"azureml-automl-runtime\": \"1.20.0\", \"azureml-automl-core\": \"1.20.0\", \"azureml-accel-models\": \"1.20.0\"}',\n",
       "  '_aml_system_scenario_identification': 'Remote.Parent',\n",
       "  'ClientType': 'SDK',\n",
       "  'environment_cpu_name': 'AzureML-AutoML-DNN',\n",
       "  'environment_cpu_label': 'prod',\n",
       "  'environment_gpu_name': 'AzureML-AutoML-DNN-GPU',\n",
       "  'environment_gpu_label': 'prod',\n",
       "  'root_attribution': 'automl',\n",
       "  'attribution': 'AutoML',\n",
       "  'Orchestrator': 'AutoML',\n",
       "  'CancelUri': 'https://southcentralus.experiments.azureml.net/jasmine/v1.0/subscriptions/510b94ba-e453-4417-988b-fbdc37b55ca7/resourceGroups/aml-quickstarts-137826/providers/Microsoft.MachineLearningServices/workspaces/quick-starts-ws-137826/experimentids/c1192670-cca0-40ed-9a85-3290017d5dd2/cancel/AutoML_cb987fc2-14fd-403d-aff1-17ee0439750b',\n",
       "  'azureml.git.repository_uri': 'https://github.com/sreenithi/Covid-and-Pneumonia-XRay-Classification.git',\n",
       "  'mlflow.source.git.repoURL': 'https://github.com/sreenithi/Covid-and-Pneumonia-XRay-Classification.git',\n",
       "  'azureml.git.branch': 'main',\n",
       "  'mlflow.source.git.branch': 'main',\n",
       "  'azureml.git.commit': '6af7dc94a8798b0f04aed4f3b854df20938bafaa',\n",
       "  'mlflow.source.git.commit': '6af7dc94a8798b0f04aed4f3b854df20938bafaa',\n",
       "  'azureml.git.dirty': 'True',\n",
       "  'ClientSdkVersion': '1.21.0',\n",
       "  'snapshotId': '00000000-0000-0000-0000-000000000000',\n",
       "  'SetupRunId': 'AutoML_cb987fc2-14fd-403d-aff1-17ee0439750b_setup',\n",
       "  'SetupRunContainerId': 'dcid.AutoML_cb987fc2-14fd-403d-aff1-17ee0439750b_setup',\n",
       "  'FeaturizationRunJsonPath': 'featurizer_container.json',\n",
       "  'FeaturizationRunId': 'AutoML_cb987fc2-14fd-403d-aff1-17ee0439750b_featurize',\n",
       "  'ProblemInfoJsonString': '{\"dataset_num_categorical\": 0, \"is_sparse\": false, \"subsampling\": false, \"dataset_classes\": 3, \"dataset_features\": 13000, \"dataset_samples\": 251, \"single_frequency_class_detected\": false}',\n",
       "  'ModelExplainRunId': 'AutoML_cb987fc2-14fd-403d-aff1-17ee0439750b_ModelExplain'},\n",
       " 'inputDatasets': [{'dataset': {'id': '3d346cf4-a653-4ba7-94e3-8f7d921fe580'}, 'consumptionDetails': {'type': 'RunInput', 'inputName': 'training_data', 'mechanism': 'Direct'}}],\n",
       " 'outputDatasets': [],\n",
       " 'logFiles': {},\n",
       " 'submittedBy': 'ODL_User 137826'}"
      ]
     },
     "execution_count": 9,
     "metadata": {},
     "output_type": "execute_result"
    }
   ],
   "source": [
    "RunDetails(remote_run).show()\n",
    "remote_run.wait_for_completion()"
   ]
  },
  {
   "cell_type": "markdown",
   "metadata": {},
   "source": [
    "## Best Model\n",
    "\n",
    "TODO: In the cell below, get the best model from the automl experiments and display all the properties of the model.\n",
    "\n"
   ]
  },
  {
   "cell_type": "code",
   "execution_count": 11,
   "metadata": {
    "gather": {
     "logged": 1598431425670
    },
    "jupyter": {
     "outputs_hidden": false,
     "source_hidden": false
    },
    "nteract": {
     "transient": {
      "deleting": false
     }
    }
   },
   "outputs": [
    {
     "name": "stdout",
     "output_type": "stream",
     "text": [
      "Best Run: AutoML_cb987fc2-14fd-403d-aff1-17ee0439750b_14\n",
      "Algorithm: VotingEnsemble\n",
      "Metric: accuracy\n",
      "Best Score: 0.9400000000000001\n"
     ]
    }
   ],
   "source": [
    "#TODO: Save the best model\n",
    "best_run = remote_run.get_best_child()\n",
    "best_run_metrics = best_run.get_metrics()\n",
    "best_run_parameters = best_run.get_details()\n",
    "best_run_properties = best_run_parameters['properties']\n",
    "\n",
    "print(\"Best Run:\",best_run.id)\n",
    "print(\"Algorithm:\", best_run_properties['run_algorithm'])\n",
    "print(\"Metric:\", best_run_properties['primary_metric'])\n",
    "print(\"Best Score:\",best_run_properties['score'])\n"
   ]
  },
  {
   "cell_type": "code",
   "execution_count": 12,
   "metadata": {
    "gather": {
     "logged": 1598431426111
    },
    "jupyter": {
     "outputs_hidden": false,
     "source_hidden": false
    },
    "nteract": {
     "transient": {
      "deleting": false
     }
    }
   },
   "outputs": [
    {
     "data": {
      "text/plain": [
       "['accuracy_table',\n",
       " 'automl_driver.py',\n",
       " 'azureml-logs/55_azureml-execution-tvmps_2ab0a904e4a8270e2643bc41efbfe119f35c445296c019fd538f1ed574fc37ec_d.txt',\n",
       " 'azureml-logs/65_job_prep-tvmps_2ab0a904e4a8270e2643bc41efbfe119f35c445296c019fd538f1ed574fc37ec_d.txt',\n",
       " 'azureml-logs/70_driver_log.txt',\n",
       " 'azureml-logs/75_job_post-tvmps_2ab0a904e4a8270e2643bc41efbfe119f35c445296c019fd538f1ed574fc37ec_d.txt',\n",
       " 'azureml-logs/process_info.json',\n",
       " 'azureml-logs/process_status.json',\n",
       " 'confusion_matrix',\n",
       " 'logs/azureml/87_azureml.log',\n",
       " 'logs/azureml/azureml_automl.log',\n",
       " 'logs/azureml/job_prep_azureml.log',\n",
       " 'logs/azureml/job_release_azureml.log',\n",
       " 'outputs/conda_env_v_1_0_0.yml',\n",
       " 'outputs/env_dependencies.json',\n",
       " 'outputs/internal_cross_validated_models.pkl',\n",
       " 'outputs/model.pkl',\n",
       " 'outputs/pipeline_graph.json',\n",
       " 'outputs/scoring_file_v_1_0_0.py']"
      ]
     },
     "execution_count": 12,
     "metadata": {},
     "output_type": "execute_result"
    }
   ],
   "source": [
    "best_run.get_file_names()"
   ]
  },
  {
   "cell_type": "markdown",
   "metadata": {},
   "source": [
    "## Model Deployment\n",
    "\n",
    "Remember you have to deploy only one of the two models you trained.. Perform the steps in the rest of this notebook only if you wish to deploy this model.\n",
    "\n",
    "TODO: In the cell below, register the model, create an inference config and deploy the model as a web service."
   ]
  },
  {
   "cell_type": "code",
   "execution_count": 13,
   "metadata": {
    "gather": {
     "logged": 1598431435189
    },
    "jupyter": {
     "outputs_hidden": false,
     "source_hidden": false
    },
    "nteract": {
     "transient": {
      "deleting": false
     }
    }
   },
   "outputs": [],
   "source": [
    "registered_model = best_run.register_model(model_name='covid-pneumonia-automl',\n",
    "                                            model_path='./outputs/model.pkl')\n"
   ]
  },
  {
   "cell_type": "markdown",
   "metadata": {
    "collapsed": true,
    "gather": {
     "logged": 1598431657736
    },
    "jupyter": {
     "outputs_hidden": false,
     "source_hidden": false
    },
    "nteract": {
     "transient": {
      "deleting": false
     }
    }
   },
   "source": [
    "TODO: In the cell below, send a request to the web service you deployed to test it."
   ]
  },
  {
   "cell_type": "code",
   "execution_count": null,
   "metadata": {
    "gather": {
     "logged": 1598432707604
    },
    "jupyter": {
     "outputs_hidden": false,
     "source_hidden": false
    },
    "nteract": {
     "transient": {
      "deleting": false
     }
    }
   },
   "outputs": [],
   "source": []
  },
  {
   "cell_type": "markdown",
   "metadata": {
    "collapsed": true,
    "gather": {
     "logged": 1598432765711
    },
    "jupyter": {
     "outputs_hidden": false,
     "source_hidden": false
    },
    "nteract": {
     "transient": {
      "deleting": false
     }
    }
   },
   "source": [
    "TODO: In the cell below, print the logs of the web service and delete the service"
   ]
  },
  {
   "cell_type": "code",
   "execution_count": null,
   "metadata": {
    "jupyter": {
     "outputs_hidden": false,
     "source_hidden": false
    },
    "nteract": {
     "transient": {
      "deleting": false
     }
    }
   },
   "outputs": [],
   "source": []
  }
 ],
 "metadata": {
  "kernel_info": {
   "name": "python3"
  },
  "kernelspec": {
   "display_name": "Python 3.8 - AzureML",
   "language": "python",
   "name": "python38-azureml"
  },
  "language_info": {
   "codemirror_mode": {
    "name": "ipython",
    "version": 3
   },
   "file_extension": ".py",
   "mimetype": "text/x-python",
   "name": "python",
   "nbconvert_exporter": "python",
   "pygments_lexer": "ipython3",
   "version": "3.8.1"
  },
  "microsoft": {
   "host": {
    "AzureML": {
     "notebookHasBeenCompleted": true
    }
   }
  },
  "nteract": {
   "version": "nteract-front-end@1.0.0"
  }
 },
 "nbformat": 4,
 "nbformat_minor": 2
}
