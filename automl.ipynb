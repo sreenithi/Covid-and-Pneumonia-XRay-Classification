{
 "cells": [
  {
   "cell_type": "markdown",
   "metadata": {},
   "source": [
    "# Automated ML\n",
    "\n",
    "TODO: Import Dependencies. In the cell below, import all the dependencies that you will need to complete the project."
   ]
  },
  {
   "cell_type": "code",
   "execution_count": 1,
   "metadata": {
    "gather": {
     "logged": 1598423888013
    },
    "jupyter": {
     "outputs_hidden": false,
     "source_hidden": false
    },
    "nteract": {
     "transient": {
      "deleting": false
     }
    }
   },
   "outputs": [],
   "source": [
    "from azureml.data.dataset_factory import FileDatasetFactory\n",
    "from azureml.core import Workspace, Experiment, Dataset\n",
    "from azureml.train.automl import AutoMLConfig\n",
    "from azureml.widgets import RunDetails\n",
    "from azureml.core.compute import ComputeTarget, AmlCompute\n",
    "from azureml.core.compute_target import ComputeTargetException\n",
    "\n",
    "from automl_data_utils import get_image_data_as_df, convert_to_table"
   ]
  },
  {
   "cell_type": "markdown",
   "metadata": {},
   "source": [
    "## Dataset\n",
    "\n",
    "### Overview\n",
    "TODO: In this markdown cell, give an overview of the dataset you are using. Also mention the task you will be performing.\n",
    "\n",
    "\n",
    "TODO: Get data. In the cell below, write code to access the data you will be using in this project. Remember that the dataset needs to be external."
   ]
  },
  {
   "cell_type": "code",
   "execution_count": 2,
   "metadata": {
    "gather": {
     "logged": 1598423890461
    },
    "jupyter": {
     "outputs_hidden": false,
     "source_hidden": false
    },
    "nteract": {
     "transient": {
      "deleting": false
     }
    }
   },
   "outputs": [
    {
     "name": "stdout",
     "output_type": "stream",
     "text": [
      "Found existing cluster, using it!\n"
     ]
    }
   ],
   "source": [
    "ws = Workspace.from_config()\n",
    "\n",
    "# choose a name for experiment\n",
    "experiment_name = 'covid-pneumonia-automl'\n",
    "\n",
    "experiment=Experiment(ws, experiment_name)\n",
    "\n",
    "compute_name = \"compute-cluster1\"\n",
    "vm_size = \"STANDARD_NC6\"\n",
    "\n",
    "try:\n",
    "    compute_cluster = ComputeTarget(workspace=ws, name=compute_name)\n",
    "    print(\"Found existing cluster, using it!\")\n",
    "except ComputeTargetException:\n",
    "    compute_config = AmlCompute.provisioning_configuration(vm_size=vm_size, max_nodes=6)\n",
    "    compute_cluster = ComputeTarget.create(ws, compute_name, compute_config)\n",
    "compute_cluster.wait_for_completion()"
   ]
  },
  {
   "cell_type": "code",
   "execution_count": 3,
   "metadata": {},
   "outputs": [
    {
     "name": "stdout",
     "output_type": "stream",
     "text": [
      "Found 66 images belonging to 3 classes.\n",
      "Type: float64\n"
     ]
    }
   ],
   "source": [
    "train_data, test_data = get_image_data_as_df(ws, './Covid19-dataset/train', './Covid19-dataset/test',\"covid-pneumonia-dataset-table\")"
   ]
  },
  {
   "cell_type": "code",
   "execution_count": 4,
   "metadata": {},
   "outputs": [
    {
     "data": {
      "text/html": [
       "<div>\n",
       "<style scoped>\n",
       "    .dataframe tbody tr th:only-of-type {\n",
       "        vertical-align: middle;\n",
       "    }\n",
       "\n",
       "    .dataframe tbody tr th {\n",
       "        vertical-align: top;\n",
       "    }\n",
       "\n",
       "    .dataframe thead th {\n",
       "        text-align: right;\n",
       "    }\n",
       "</style>\n",
       "<table border=\"1\" class=\"dataframe\">\n",
       "  <thead>\n",
       "    <tr style=\"text-align: right;\">\n",
       "      <th></th>\n",
       "      <th>0</th>\n",
       "      <th>1</th>\n",
       "      <th>2</th>\n",
       "      <th>3</th>\n",
       "      <th>4</th>\n",
       "      <th>5</th>\n",
       "      <th>6</th>\n",
       "      <th>7</th>\n",
       "      <th>8</th>\n",
       "      <th>9</th>\n",
       "      <th>...</th>\n",
       "      <th>12991</th>\n",
       "      <th>12992</th>\n",
       "      <th>12993</th>\n",
       "      <th>12994</th>\n",
       "      <th>12995</th>\n",
       "      <th>12996</th>\n",
       "      <th>12997</th>\n",
       "      <th>12998</th>\n",
       "      <th>12999</th>\n",
       "      <th>class</th>\n",
       "    </tr>\n",
       "  </thead>\n",
       "  <tbody>\n",
       "    <tr>\n",
       "      <th>0</th>\n",
       "      <td>0.000000</td>\n",
       "      <td>0.007843</td>\n",
       "      <td>0.039216</td>\n",
       "      <td>0.066667</td>\n",
       "      <td>0.078431</td>\n",
       "      <td>0.101961</td>\n",
       "      <td>0.109804</td>\n",
       "      <td>0.117647</td>\n",
       "      <td>0.125490</td>\n",
       "      <td>0.211765</td>\n",
       "      <td>...</td>\n",
       "      <td>0.396078</td>\n",
       "      <td>0.349020</td>\n",
       "      <td>0.125490</td>\n",
       "      <td>0.074510</td>\n",
       "      <td>0.007843</td>\n",
       "      <td>0.000000</td>\n",
       "      <td>0.000000</td>\n",
       "      <td>0.000000</td>\n",
       "      <td>0.023529</td>\n",
       "      <td>2</td>\n",
       "    </tr>\n",
       "    <tr>\n",
       "      <th>1</th>\n",
       "      <td>0.054902</td>\n",
       "      <td>0.054902</td>\n",
       "      <td>0.054902</td>\n",
       "      <td>0.054902</td>\n",
       "      <td>0.054902</td>\n",
       "      <td>0.054902</td>\n",
       "      <td>0.054902</td>\n",
       "      <td>0.054902</td>\n",
       "      <td>0.054902</td>\n",
       "      <td>0.054902</td>\n",
       "      <td>...</td>\n",
       "      <td>0.250980</td>\n",
       "      <td>0.184314</td>\n",
       "      <td>0.066667</td>\n",
       "      <td>0.054902</td>\n",
       "      <td>0.054902</td>\n",
       "      <td>0.054902</td>\n",
       "      <td>0.054902</td>\n",
       "      <td>0.054902</td>\n",
       "      <td>0.054902</td>\n",
       "      <td>0</td>\n",
       "    </tr>\n",
       "    <tr>\n",
       "      <th>2</th>\n",
       "      <td>0.000000</td>\n",
       "      <td>0.000000</td>\n",
       "      <td>0.000000</td>\n",
       "      <td>0.952941</td>\n",
       "      <td>0.364706</td>\n",
       "      <td>0.207843</td>\n",
       "      <td>0.231373</td>\n",
       "      <td>0.266667</td>\n",
       "      <td>0.286275</td>\n",
       "      <td>0.588235</td>\n",
       "      <td>...</td>\n",
       "      <td>0.082353</td>\n",
       "      <td>0.082353</td>\n",
       "      <td>0.082353</td>\n",
       "      <td>0.082353</td>\n",
       "      <td>0.082353</td>\n",
       "      <td>0.082353</td>\n",
       "      <td>0.000000</td>\n",
       "      <td>0.000000</td>\n",
       "      <td>0.000000</td>\n",
       "      <td>1</td>\n",
       "    </tr>\n",
       "    <tr>\n",
       "      <th>3</th>\n",
       "      <td>0.090196</td>\n",
       "      <td>0.101961</td>\n",
       "      <td>0.145098</td>\n",
       "      <td>0.168627</td>\n",
       "      <td>0.203922</td>\n",
       "      <td>0.513726</td>\n",
       "      <td>0.384314</td>\n",
       "      <td>0.372549</td>\n",
       "      <td>0.376471</td>\n",
       "      <td>0.643137</td>\n",
       "      <td>...</td>\n",
       "      <td>0.000000</td>\n",
       "      <td>0.000000</td>\n",
       "      <td>0.000000</td>\n",
       "      <td>0.011765</td>\n",
       "      <td>0.019608</td>\n",
       "      <td>0.023529</td>\n",
       "      <td>0.015686</td>\n",
       "      <td>0.023529</td>\n",
       "      <td>0.027451</td>\n",
       "      <td>1</td>\n",
       "    </tr>\n",
       "    <tr>\n",
       "      <th>4</th>\n",
       "      <td>0.031373</td>\n",
       "      <td>0.039216</td>\n",
       "      <td>0.027451</td>\n",
       "      <td>0.031373</td>\n",
       "      <td>0.023529</td>\n",
       "      <td>0.031373</td>\n",
       "      <td>0.035294</td>\n",
       "      <td>0.019608</td>\n",
       "      <td>0.019608</td>\n",
       "      <td>0.031373</td>\n",
       "      <td>...</td>\n",
       "      <td>0.462745</td>\n",
       "      <td>0.188235</td>\n",
       "      <td>0.074510</td>\n",
       "      <td>0.015686</td>\n",
       "      <td>0.023529</td>\n",
       "      <td>0.035294</td>\n",
       "      <td>0.039216</td>\n",
       "      <td>0.039216</td>\n",
       "      <td>0.043137</td>\n",
       "      <td>1</td>\n",
       "    </tr>\n",
       "  </tbody>\n",
       "</table>\n",
       "<p>5 rows × 13001 columns</p>\n",
       "</div>"
      ],
      "text/plain": [
       "          0         1         2         3         4         5         6  \\\n",
       "0  0.000000  0.007843  0.039216  0.066667  0.078431  0.101961  0.109804   \n",
       "1  0.054902  0.054902  0.054902  0.054902  0.054902  0.054902  0.054902   \n",
       "2  0.000000  0.000000  0.000000  0.952941  0.364706  0.207843  0.231373   \n",
       "3  0.090196  0.101961  0.145098  0.168627  0.203922  0.513726  0.384314   \n",
       "4  0.031373  0.039216  0.027451  0.031373  0.023529  0.031373  0.035294   \n",
       "\n",
       "          7         8         9  ...     12991     12992     12993     12994  \\\n",
       "0  0.117647  0.125490  0.211765  ...  0.396078  0.349020  0.125490  0.074510   \n",
       "1  0.054902  0.054902  0.054902  ...  0.250980  0.184314  0.066667  0.054902   \n",
       "2  0.266667  0.286275  0.588235  ...  0.082353  0.082353  0.082353  0.082353   \n",
       "3  0.372549  0.376471  0.643137  ...  0.000000  0.000000  0.000000  0.011765   \n",
       "4  0.019608  0.019608  0.031373  ...  0.462745  0.188235  0.074510  0.015686   \n",
       "\n",
       "      12995     12996     12997     12998     12999  class  \n",
       "0  0.007843  0.000000  0.000000  0.000000  0.023529      2  \n",
       "1  0.054902  0.054902  0.054902  0.054902  0.054902      0  \n",
       "2  0.082353  0.082353  0.000000  0.000000  0.000000      1  \n",
       "3  0.019608  0.023529  0.015686  0.023529  0.027451      1  \n",
       "4  0.023529  0.035294  0.039216  0.039216  0.043137      1  \n",
       "\n",
       "[5 rows x 13001 columns]"
      ]
     },
     "execution_count": 4,
     "metadata": {},
     "output_type": "execute_result"
    }
   ],
   "source": [
    "train_data.head()"
   ]
  },
  {
   "cell_type": "code",
   "execution_count": 5,
   "metadata": {},
   "outputs": [
    {
     "name": "stderr",
     "output_type": "stream",
     "text": [
      "Method register_pandas_dataframe: This is an experimental method, and may change at any time.<br/>For more information, see https://aka.ms/azuremlexperimental.\n"
     ]
    },
    {
     "name": "stdout",
     "output_type": "stream",
     "text": [
      "Validating arguments.\n",
      "Arguments validated.\n",
      "Successfully obtained datastore reference and path.\n",
      "Uploading file to managed-dataset/cd122184-bb30-4220-9254-f5949faad286/\n",
      "Successfully uploaded file to datastore.\n",
      "Creating and registering a new dataset.\n",
      "Successfully created and registered a new dataset.\n"
     ]
    }
   ],
   "source": [
    "from azureml.data.dataset_factory import TabularDatasetFactory\n",
    "\n",
    "data_factory = TabularDatasetFactory.register_pandas_dataframe(train_data, target=ws.get_default_datastore(), name='CovidPneumoniaTable')"
   ]
  },
  {
   "cell_type": "markdown",
   "metadata": {},
   "source": [
    "## AutoML Configuration\n",
    "\n",
    "TODO: Explain why you chose the automl settings and cofiguration you used below."
   ]
  },
  {
   "cell_type": "code",
   "execution_count": 6,
   "metadata": {
    "gather": {
     "logged": 1598429217746
    },
    "jupyter": {
     "outputs_hidden": false,
     "source_hidden": false
    },
    "nteract": {
     "transient": {
      "deleting": false
     }
    }
   },
   "outputs": [],
   "source": [
    "# TODO: Put your automl settings here\n",
    "automl_settings = {\"enable_dnn\":True,\n",
    "                   \"experiment_timeout_minutes\":45,\n",
    "                   \"max_cores_per_iteration\":3,\n",
    "                   \"enable_tf\":False,\n",
    "                   \"featurization\":\"off\"}\n",
    "\n",
    "# TODO: Put your automl config here\n",
    "automl_config = AutoMLConfig(task='classification',\n",
    "                             primary_metric='accuracy',\n",
    "                             compute_target=compute_cluster,\n",
    "                             training_data=data_factory,\n",
    "                             label_column_name='class',\n",
    "                             **automl_settings\n",
    "                             )"
   ]
  },
  {
   "cell_type": "code",
   "execution_count": 7,
   "metadata": {
    "gather": {
     "logged": 1598431107951
    },
    "jupyter": {
     "outputs_hidden": false,
     "source_hidden": false
    },
    "nteract": {
     "transient": {
      "deleting": false
     }
    }
   },
   "outputs": [
    {
     "name": "stdout",
     "output_type": "stream",
     "text": [
      "Submitting remote run.\n"
     ]
    },
    {
     "data": {
      "text/html": [
       "<table style=\"width:100%\"><tr><th>Experiment</th><th>Id</th><th>Type</th><th>Status</th><th>Details Page</th><th>Docs Page</th></tr><tr><td>covid-pneumonia-automl</td><td>AutoML_e7d09855-477b-43a2-b49a-7ecf9a7f8aec</td><td>automl</td><td>NotStarted</td><td><a href=\"https://ml.azure.com/runs/AutoML_e7d09855-477b-43a2-b49a-7ecf9a7f8aec?wsid=/subscriptions/aa7cf8e8-d23f-4bce-a7b9-1f0b4e0ac8ee/resourcegroups/aml-quickstarts-142902/workspaces/quick-starts-ws-142902&amp;tid=660b3398-b80e-49d2-bc5b-ac1dc93b5254\" target=\"_blank\" rel=\"noopener\">Link to Azure Machine Learning studio</a></td><td><a href=\"https://docs.microsoft.com/en-us/python/api/overview/azure/ml/intro?view=azure-ml-py\" target=\"_blank\" rel=\"noopener\">Link to Documentation</a></td></tr></table>"
      ],
      "text/plain": [
       "<IPython.core.display.HTML object>"
      ]
     },
     "metadata": {},
     "output_type": "display_data"
    }
   ],
   "source": [
    "# TODO: Submit your experiment\n",
    "remote_run = experiment.submit(automl_config)"
   ]
  },
  {
   "cell_type": "markdown",
   "metadata": {},
   "source": [
    "## Run Details\n",
    "\n",
    "OPTIONAL: Write about the different models trained and their performance. Why do you think some models did better than others?\n",
    "\n",
    "TODO: In the cell below, use the `RunDetails` widget to show the different experiments."
   ]
  },
  {
   "cell_type": "code",
   "execution_count": 8,
   "metadata": {
    "gather": {
     "logged": 1598431121770
    },
    "jupyter": {
     "outputs_hidden": false,
     "source_hidden": false
    },
    "nteract": {
     "transient": {
      "deleting": false
     }
    }
   },
   "outputs": [
    {
     "data": {
      "application/vnd.jupyter.widget-view+json": {
       "model_id": "e6a0cc23b9494fe7a86b06446a96d12a",
       "version_major": 2,
       "version_minor": 0
      },
      "text/plain": [
       "_AutoMLWidget(widget_settings={'childWidgetDisplay': 'popup', 'send_telemetry': False, 'log_level': 'INFO', 's…"
      ]
     },
     "metadata": {},
     "output_type": "display_data"
    },
    {
     "data": {
      "application/aml.mini.widget.v1": "{\"status\": \"Completed\", \"workbench_run_details_uri\": \"https://ml.azure.com/runs/AutoML_e7d09855-477b-43a2-b49a-7ecf9a7f8aec?wsid=/subscriptions/aa7cf8e8-d23f-4bce-a7b9-1f0b4e0ac8ee/resourcegroups/aml-quickstarts-142902/workspaces/quick-starts-ws-142902&tid=660b3398-b80e-49d2-bc5b-ac1dc93b5254\", \"run_id\": \"AutoML_e7d09855-477b-43a2-b49a-7ecf9a7f8aec\", \"run_properties\": {\"run_id\": \"AutoML_e7d09855-477b-43a2-b49a-7ecf9a7f8aec\", \"created_utc\": \"2021-04-17T05:16:54.752716Z\", \"properties\": {\"num_iterations\": \"1000\", \"training_type\": \"TrainFull\", \"acquisition_function\": \"EI\", \"primary_metric\": \"accuracy\", \"train_split\": \"0\", \"acquisition_parameter\": \"0\", \"num_cross_validation\": null, \"target\": \"compute-cluster1\", \"AMLSettingsJsonString\": \"{\\\"path\\\":null,\\\"name\\\":\\\"covid-pneumonia-automl\\\",\\\"subscription_id\\\":\\\"aa7cf8e8-d23f-4bce-a7b9-1f0b4e0ac8ee\\\",\\\"resource_group\\\":\\\"aml-quickstarts-142902\\\",\\\"workspace_name\\\":\\\"quick-starts-ws-142902\\\",\\\"region\\\":\\\"southcentralus\\\",\\\"compute_target\\\":\\\"compute-cluster1\\\",\\\"spark_service\\\":null,\\\"azure_service\\\":\\\"remote\\\",\\\"many_models\\\":false,\\\"pipeline_fetch_max_batch_size\\\":1,\\\"enable_batch_run\\\":false,\\\"enable_run_restructure\\\":false,\\\"iterations\\\":1000,\\\"primary_metric\\\":\\\"accuracy\\\",\\\"task_type\\\":\\\"classification\\\",\\\"data_script\\\":null,\\\"test_size\\\":0.0,\\\"validation_size\\\":0.0,\\\"n_cross_validations\\\":null,\\\"y_min\\\":null,\\\"y_max\\\":null,\\\"num_classes\\\":null,\\\"featurization\\\":\\\"auto\\\",\\\"_ignore_package_version_incompatibilities\\\":false,\\\"is_timeseries\\\":false,\\\"max_cores_per_iteration\\\":-1,\\\"max_concurrent_iterations\\\":1,\\\"iteration_timeout_minutes\\\":null,\\\"mem_in_mb\\\":null,\\\"enforce_time_on_windows\\\":false,\\\"experiment_timeout_minutes\\\":45,\\\"experiment_exit_score\\\":null,\\\"whitelist_models\\\":null,\\\"blacklist_algos\\\":[\\\"TensorFlowLinearClassifier\\\",\\\"TensorFlowDNN\\\"],\\\"supported_models\\\":[\\\"KNN\\\",\\\"RandomForest\\\",\\\"BernoulliNaiveBayes\\\",\\\"SVM\\\",\\\"XGBoostClassifier\\\",\\\"TensorFlowDNN\\\",\\\"LogisticRegression\\\",\\\"ExtremeRandomTrees\\\",\\\"MultinomialNaiveBayes\\\",\\\"LightGBM\\\",\\\"LinearSVM\\\",\\\"AveragedPerceptronClassifier\\\",\\\"TensorFlowLinearClassifier\\\",\\\"GradientBoosting\\\",\\\"DecisionTree\\\",\\\"SGD\\\"],\\\"private_models\\\":[],\\\"auto_blacklist\\\":true,\\\"blacklist_samples_reached\\\":false,\\\"exclude_nan_labels\\\":true,\\\"verbosity\\\":20,\\\"_debug_log\\\":\\\"azureml_automl.log\\\",\\\"show_warnings\\\":false,\\\"model_explainability\\\":true,\\\"service_url\\\":null,\\\"sdk_url\\\":null,\\\"sdk_packages\\\":null,\\\"enable_onnx_compatible_models\\\":false,\\\"enable_split_onnx_featurizer_estimator_models\\\":false,\\\"vm_type\\\":\\\"STANDARD_NC6\\\",\\\"telemetry_verbosity\\\":20,\\\"send_telemetry\\\":true,\\\"enable_dnn\\\":true,\\\"scenario\\\":\\\"SDK-1.13.0\\\",\\\"environment_label\\\":null,\\\"save_mlflow\\\":false,\\\"force_text_dnn\\\":false,\\\"enable_feature_sweeping\\\":true,\\\"enable_early_stopping\\\":false,\\\"early_stopping_n_iters\\\":10,\\\"metrics\\\":null,\\\"enable_metric_confidence\\\":false,\\\"enable_ensembling\\\":true,\\\"enable_stack_ensembling\\\":true,\\\"ensemble_iterations\\\":15,\\\"enable_tf\\\":false,\\\"enable_subsampling\\\":null,\\\"subsample_seed\\\":null,\\\"enable_nimbusml\\\":false,\\\"enable_streaming\\\":false,\\\"force_streaming\\\":false,\\\"track_child_runs\\\":true,\\\"allowed_private_models\\\":[],\\\"label_column_name\\\":\\\"class\\\",\\\"weight_column_name\\\":null,\\\"cv_split_column_names\\\":null,\\\"enable_local_managed\\\":false,\\\"_local_managed_run_id\\\":null,\\\"cost_mode\\\":1,\\\"lag_length\\\":0,\\\"metric_operation\\\":\\\"maximize\\\",\\\"preprocess\\\":true}\", \"DataPrepJsonString\": \"{\\\\\\\"training_data\\\\\\\": {\\\\\\\"datasetId\\\\\\\": \\\\\\\"e5545894-ff67-4d32-b14c-5f8c39e5bd7b\\\\\\\"}, \\\\\\\"datasets\\\\\\\": 0}\", \"EnableSubsampling\": null, \"runTemplate\": \"AutoML\", \"azureml.runsource\": \"automl\", \"display_task_type\": \"classification\", \"dependencies_versions\": \"{\\\"azureml-widgets\\\": \\\"1.26.0\\\", \\\"azureml-train\\\": \\\"1.26.0\\\", \\\"azureml-train-restclients-hyperdrive\\\": \\\"1.26.0\\\", \\\"azureml-train-core\\\": \\\"1.26.0\\\", \\\"azureml-train-automl-client\\\": \\\"1.26.0\\\", \\\"azureml-tensorboard\\\": \\\"1.26.0\\\", \\\"azureml-telemetry\\\": \\\"1.26.0\\\", \\\"azureml-sdk\\\": \\\"1.26.0\\\", \\\"azureml-pipeline\\\": \\\"1.26.0\\\", \\\"azureml-pipeline-steps\\\": \\\"1.26.0\\\", \\\"azureml-pipeline-core\\\": \\\"1.26.0\\\", \\\"azureml-opendatasets\\\": \\\"1.26.0\\\", \\\"azureml-model-management-sdk\\\": \\\"1.0.1b6.post1\\\", \\\"azureml-mlflow\\\": \\\"1.26.0\\\", \\\"azureml-interpret\\\": \\\"1.26.0\\\", \\\"azureml-explain-model\\\": \\\"1.26.0\\\", \\\"azureml-defaults\\\": \\\"1.26.0\\\", \\\"azureml-dataset-runtime\\\": \\\"1.26.0\\\", \\\"azureml-dataprep\\\": \\\"2.13.2\\\", \\\"azureml-dataprep-rslex\\\": \\\"1.11.2\\\", \\\"azureml-dataprep-native\\\": \\\"32.0.0\\\", \\\"azureml-datadrift\\\": \\\"1.26.0\\\", \\\"azureml-core\\\": \\\"1.26.0\\\", \\\"azureml-contrib-services\\\": \\\"1.26.0\\\", \\\"azureml-contrib-server\\\": \\\"1.26.0\\\", \\\"azureml-contrib-reinforcementlearning\\\": \\\"1.26.0\\\", \\\"azureml-contrib-pipeline-steps\\\": \\\"1.26.0\\\", \\\"azureml-contrib-notebook\\\": \\\"1.26.0\\\", \\\"azureml-contrib-gbdt\\\": \\\"1.26.0\\\", \\\"azureml-contrib-fairness\\\": \\\"1.26.0\\\", \\\"azureml-contrib-dataset\\\": \\\"1.26.0\\\", \\\"azureml-cli-common\\\": \\\"1.26.0\\\", \\\"azureml-automl-core\\\": \\\"1.26.0\\\", \\\"azureml-accel-models\\\": \\\"1.26.0\\\"}\", \"_aml_system_scenario_identification\": \"Remote.Parent\", \"ClientType\": \"SDK\", \"environment_cpu_name\": \"AzureML-AutoML-DNN\", \"environment_cpu_label\": \"prod\", \"environment_gpu_name\": \"AzureML-AutoML-DNN-GPU\", \"environment_gpu_label\": \"prod\", \"root_attribution\": \"automl\", \"attribution\": \"AutoML\", \"Orchestrator\": \"AutoML\", \"CancelUri\": \"https://southcentralus.experiments.azureml.net/jasmine/v1.0/subscriptions/aa7cf8e8-d23f-4bce-a7b9-1f0b4e0ac8ee/resourceGroups/aml-quickstarts-142902/providers/Microsoft.MachineLearningServices/workspaces/quick-starts-ws-142902/experimentids/d1b8b6e8-258f-4885-8d3c-ac27b2abe0e3/cancel/AutoML_e7d09855-477b-43a2-b49a-7ecf9a7f8aec\", \"azureml.git.repository_uri\": \"https://github.com/sreenithi/Covid-and-Pneumonia-XRay-Classification.git\", \"mlflow.source.git.repoURL\": \"https://github.com/sreenithi/Covid-and-Pneumonia-XRay-Classification.git\", \"azureml.git.branch\": \"main\", \"mlflow.source.git.branch\": \"main\", \"azureml.git.commit\": \"651b132af22981ade4b5d44b101bd1cd60606f95\", \"mlflow.source.git.commit\": \"651b132af22981ade4b5d44b101bd1cd60606f95\", \"azureml.git.dirty\": \"True\", \"ClientSdkVersion\": \"1.25.0\", \"snapshotId\": \"00000000-0000-0000-0000-000000000000\", \"SetupRunId\": \"AutoML_e7d09855-477b-43a2-b49a-7ecf9a7f8aec_setup\", \"SetupRunContainerId\": \"dcid.AutoML_e7d09855-477b-43a2-b49a-7ecf9a7f8aec_setup\", \"FeaturizationRunJsonPath\": \"featurizer_container.json\", \"FeaturizationRunId\": \"AutoML_e7d09855-477b-43a2-b49a-7ecf9a7f8aec_featurize\", \"ProblemInfoJsonString\": \"{\\\"dataset_num_categorical\\\": 0, \\\"is_sparse\\\": false, \\\"subsampling\\\": false, \\\"dataset_classes\\\": 3, \\\"dataset_features\\\": 13000, \\\"dataset_samples\\\": 251, \\\"single_frequency_class_detected\\\": false}\", \"ModelExplainRunId\": \"AutoML_e7d09855-477b-43a2-b49a-7ecf9a7f8aec_ModelExplain\"}, \"tags\": {\"model_explain_run\": \"best_run\", \"_aml_system_azureml.automlComponent\": \"AutoML\", \"is_gpu\": \"True\", \"pipeline_id\": \"\", \"score\": \"\", \"predicted_cost\": \"\", \"fit_time\": \"\", \"training_percent\": \"\", \"iteration\": \"\", \"run_preprocessor\": \"\", \"run_algorithm\": \"\", \"automl_best_child_run_id\": \"AutoML_e7d09855-477b-43a2-b49a-7ecf9a7f8aec_12\", \"model_explain_best_run_child_id\": \"AutoML_e7d09855-477b-43a2-b49a-7ecf9a7f8aec_12\"}, \"end_time_utc\": \"2021-04-17T06:41:09.833316Z\", \"status\": \"Completed\", \"log_files\": {}, \"log_groups\": [], \"run_duration\": \"1:24:15\", \"run_number\": \"1\", \"run_queued_details\": {\"status\": \"Completed\", \"details\": null}}, \"child_runs\": [{\"run_id\": \"AutoML_e7d09855-477b-43a2-b49a-7ecf9a7f8aec_0\", \"run_number\": 5, \"metric\": null, \"status\": \"Completed\", \"run_type\": \"azureml.scriptrun\", \"training_percent\": \"100\", \"start_time\": \"2021-04-17T05:50:36.781454Z\", \"end_time\": \"2021-04-17T05:57:35.665833Z\", \"created_time\": \"2021-04-17T05:50:25.725728Z\", \"created_time_dt\": \"2021-04-17T05:50:25.725728Z\", \"duration\": \"0:07:09\", \"iteration\": \"0\", \"goal\": \"accuracy_max\", \"run_name\": \"MaxAbsScaler, LightGBM\", \"run_properties\": \"copy=True\", \"primary_metric\": 0.91261538, \"best_metric\": 0.91261538}, {\"run_id\": \"AutoML_e7d09855-477b-43a2-b49a-7ecf9a7f8aec_1\", \"run_number\": 6, \"metric\": null, \"status\": \"Completed\", \"run_type\": \"azureml.scriptrun\", \"training_percent\": \"100\", \"start_time\": \"2021-04-17T05:57:57.576312Z\", \"end_time\": \"2021-04-17T06:03:25.208052Z\", \"created_time\": \"2021-04-17T05:57:37.474173Z\", \"created_time_dt\": \"2021-04-17T05:57:37.474173Z\", \"duration\": \"0:05:47\", \"iteration\": \"1\", \"goal\": \"accuracy_max\", \"run_name\": \"MaxAbsScaler, XGBoostClassifier\", \"run_properties\": \"copy=True\", \"primary_metric\": 0.89230769, \"best_metric\": 0.91261538}, {\"run_id\": \"AutoML_e7d09855-477b-43a2-b49a-7ecf9a7f8aec_2\", \"run_number\": 7, \"metric\": null, \"status\": \"Completed\", \"run_type\": \"azureml.scriptrun\", \"training_percent\": \"100\", \"start_time\": \"2021-04-17T06:03:46.844679Z\", \"end_time\": \"2021-04-17T06:04:51.220338Z\", \"created_time\": \"2021-04-17T06:03:27.563141Z\", \"created_time_dt\": \"2021-04-17T06:03:27.563141Z\", \"duration\": \"0:01:23\", \"iteration\": \"2\", \"goal\": \"accuracy_max\", \"run_name\": \"MinMaxScaler, RandomForest\", \"run_properties\": \"copy=True, feature_range=(0, 1\", \"primary_metric\": 0.90061538, \"best_metric\": 0.91261538}, {\"run_id\": \"AutoML_e7d09855-477b-43a2-b49a-7ecf9a7f8aec_3\", \"run_number\": 8, \"metric\": null, \"status\": \"Completed\", \"run_type\": \"azureml.scriptrun\", \"training_percent\": \"100\", \"start_time\": \"2021-04-17T06:05:09.676377Z\", \"end_time\": \"2021-04-17T06:06:07.222541Z\", \"created_time\": \"2021-04-17T06:04:54.060797Z\", \"created_time_dt\": \"2021-04-17T06:04:54.060797Z\", \"duration\": \"0:01:13\", \"iteration\": \"3\", \"goal\": \"accuracy_max\", \"run_name\": \"MinMaxScaler, RandomForest\", \"run_properties\": \"copy=True, feature_range=(0, 1\", \"primary_metric\": 0.86107692, \"best_metric\": 0.91261538}, {\"run_id\": \"AutoML_e7d09855-477b-43a2-b49a-7ecf9a7f8aec_4\", \"run_number\": 9, \"metric\": null, \"status\": \"Completed\", \"run_type\": \"azureml.scriptrun\", \"training_percent\": \"100\", \"start_time\": \"2021-04-17T06:06:22.505659Z\", \"end_time\": \"2021-04-17T06:07:23.553143Z\", \"created_time\": \"2021-04-17T06:06:09.382338Z\", \"created_time_dt\": \"2021-04-17T06:06:09.382338Z\", \"duration\": \"0:01:14\", \"iteration\": \"4\", \"goal\": \"accuracy_max\", \"run_name\": \"MinMaxScaler, RandomForest\", \"run_properties\": \"copy=True, feature_range=(0, 1\", \"primary_metric\": 0.90046154, \"best_metric\": 0.91261538}, {\"run_id\": \"AutoML_e7d09855-477b-43a2-b49a-7ecf9a7f8aec_5\", \"run_number\": 10, \"metric\": null, \"status\": \"Completed\", \"run_type\": \"azureml.scriptrun\", \"training_percent\": \"100\", \"start_time\": \"2021-04-17T06:07:44.045073Z\", \"end_time\": \"2021-04-17T06:09:22.754545Z\", \"created_time\": \"2021-04-17T06:07:25.403852Z\", \"created_time_dt\": \"2021-04-17T06:07:25.403852Z\", \"duration\": \"0:01:57\", \"iteration\": \"5\", \"goal\": \"accuracy_max\", \"run_name\": \"MinMaxScaler, SVM\", \"run_properties\": \"copy=True, feature_range=(0, 1\", \"primary_metric\": 0.94446154, \"best_metric\": 0.94446154}, {\"run_id\": \"AutoML_e7d09855-477b-43a2-b49a-7ecf9a7f8aec_6\", \"run_number\": 11, \"metric\": null, \"status\": \"Completed\", \"run_type\": \"azureml.scriptrun\", \"training_percent\": \"100\", \"start_time\": \"2021-04-17T06:09:38.170072Z\", \"end_time\": \"2021-04-17T06:19:32.114949Z\", \"created_time\": \"2021-04-17T06:09:24.741993Z\", \"created_time_dt\": \"2021-04-17T06:09:24.741993Z\", \"duration\": \"0:10:07\", \"iteration\": \"6\", \"goal\": \"accuracy_max\", \"run_name\": \"MaxAbsScaler, GradientBoosting\", \"run_properties\": \"copy=True\", \"primary_metric\": 0.89661538, \"best_metric\": 0.94446154}, {\"run_id\": \"AutoML_e7d09855-477b-43a2-b49a-7ecf9a7f8aec_7\", \"run_number\": 12, \"metric\": null, \"status\": \"Completed\", \"run_type\": \"azureml.scriptrun\", \"training_percent\": \"100\", \"start_time\": \"2021-04-17T06:19:50.222434Z\", \"end_time\": \"2021-04-17T06:21:04.208729Z\", \"created_time\": \"2021-04-17T06:19:36.029363Z\", \"created_time_dt\": \"2021-04-17T06:19:36.029363Z\", \"duration\": \"0:01:28\", \"iteration\": \"7\", \"goal\": \"accuracy_max\", \"run_name\": \"StandardScalerWrapper, RandomForest\", \"run_properties\": \"<azureml.automl.runtime.shared.model_wrappers.StandardScalerWrapper object at 0x7f8065b58710\", \"primary_metric\": 0.86861538, \"best_metric\": 0.94446154}, {\"run_id\": \"AutoML_e7d09855-477b-43a2-b49a-7ecf9a7f8aec_8\", \"run_number\": 13, \"metric\": null, \"status\": \"Completed\", \"run_type\": \"azureml.scriptrun\", \"training_percent\": \"100\", \"start_time\": \"2021-04-17T06:21:26.057038Z\", \"end_time\": \"2021-04-17T06:23:40.676983Z\", \"created_time\": \"2021-04-17T06:21:06.005536Z\", \"created_time_dt\": \"2021-04-17T06:21:06.005536Z\", \"duration\": \"0:02:34\", \"iteration\": \"8\", \"goal\": \"accuracy_max\", \"run_name\": \"SparseNormalizer, LightGBM\", \"run_properties\": \"<azureml.automl.runtime.shared.model_wrappers.SparseNormalizer object at 0x7fbca5f33278\", \"primary_metric\": 0.92830769, \"best_metric\": 0.94446154}, {\"run_id\": \"AutoML_e7d09855-477b-43a2-b49a-7ecf9a7f8aec_9\", \"run_number\": 14, \"metric\": null, \"status\": \"Completed\", \"run_type\": \"azureml.scriptrun\", \"training_percent\": \"100\", \"start_time\": \"2021-04-17T06:23:57.113787Z\", \"end_time\": \"2021-04-17T06:26:55.942862Z\", \"created_time\": \"2021-04-17T06:23:43.845742Z\", \"created_time_dt\": \"2021-04-17T06:23:43.845742Z\", \"duration\": \"0:03:12\", \"iteration\": \"9\", \"goal\": \"accuracy_max\", \"run_name\": \"SparseNormalizer, XGBoostClassifier\", \"run_properties\": \"<azureml.automl.runtime.shared.model_wrappers.SparseNormalizer object at 0x7f766aed3da0\", \"primary_metric\": 0.91646154, \"best_metric\": 0.94446154}, {\"run_id\": \"AutoML_e7d09855-477b-43a2-b49a-7ecf9a7f8aec_10\", \"run_number\": 15, \"metric\": null, \"status\": \"Completed\", \"run_type\": \"azureml.scriptrun\", \"training_percent\": \"100\", \"start_time\": \"2021-04-17T06:27:08.053023Z\", \"end_time\": \"2021-04-17T06:29:56.56405Z\", \"created_time\": \"2021-04-17T06:26:58.627935Z\", \"created_time_dt\": \"2021-04-17T06:26:58.627935Z\", \"duration\": \"0:02:57\", \"iteration\": \"10\", \"goal\": \"accuracy_max\", \"run_name\": \"StandardScalerWrapper, LightGBM\", \"run_properties\": \"<azureml.automl.runtime.shared.model_wrappers.StandardScalerWrapper object at 0x7f26a9845780\", \"primary_metric\": 0.90061538, \"best_metric\": 0.94446154}, {\"run_id\": \"AutoML_e7d09855-477b-43a2-b49a-7ecf9a7f8aec_11\", \"run_number\": 16, \"metric\": null, \"status\": \"Canceled\", \"run_type\": \"azureml.scriptrun\", \"training_percent\": \"100\", \"start_time\": \"2021-04-17T06:30:12.123199Z\", \"end_time\": \"2021-04-17T06:37:13.614916Z\", \"created_time\": \"2021-04-17T06:30:00.208301Z\", \"created_time_dt\": \"2021-04-17T06:30:00.208301Z\", \"duration\": \"0:07:13\", \"iteration\": \"11\", \"goal\": null, \"run_name\": \"SparseNormalizer, XGBoostClassifier\", \"run_properties\": null}, {\"run_id\": \"AutoML_e7d09855-477b-43a2-b49a-7ecf9a7f8aec_12\", \"run_number\": 17, \"metric\": null, \"status\": \"Completed\", \"run_type\": \"azureml.scriptrun\", \"training_percent\": \"100\", \"start_time\": \"2021-04-17T06:37:27.147408Z\", \"end_time\": \"2021-04-17T06:39:05.93457Z\", \"created_time\": \"2021-04-17T06:37:15.179796Z\", \"created_time_dt\": \"2021-04-17T06:37:15.179796Z\", \"duration\": \"0:01:50\", \"iteration\": \"12\", \"goal\": \"accuracy_max\", \"run_name\": \"VotingEnsemble\", \"run_properties\": \"classification_labels=None,\\n                              estimators=[('5',\\n                                           Pipeline(memory=None,\\n                                                    steps=[('minmaxscaler',\\n                                                            MinMaxScaler(copy=True,\\n                                                                         feature_range=(0,\\n                                                                                        1\", \"primary_metric\": 0.95630769, \"best_metric\": 0.95630769}, {\"run_id\": \"AutoML_e7d09855-477b-43a2-b49a-7ecf9a7f8aec_13\", \"run_number\": 18, \"metric\": null, \"status\": \"Completed\", \"run_type\": \"azureml.scriptrun\", \"training_percent\": \"100\", \"start_time\": \"2021-04-17T06:39:28.036104Z\", \"end_time\": \"2021-04-17T06:41:06.901529Z\", \"created_time\": \"2021-04-17T06:39:09.372911Z\", \"created_time_dt\": \"2021-04-17T06:39:09.372911Z\", \"duration\": \"0:01:57\", \"iteration\": \"13\", \"goal\": \"accuracy_max\", \"run_name\": \"StackEnsemble\", \"run_properties\": \"base_learners=[('5',\\n                                        Pipeline(memory=None,\\n                                                 steps=[('minmaxscaler',\\n                                                         MinMaxScaler(copy=True,\\n                                                                      feature_range=(0,\\n                                                                                     1\", \"primary_metric\": 0.94430769, \"best_metric\": 0.95630769}], \"children_metrics\": {\"categories\": [0], \"series\": {\"precision_score_macro\": [{\"categories\": [\"0\", \"1\", \"2\", \"3\", \"4\", \"5\", \"6\", \"7\", \"8\", \"9\", \"10\", \"12\", \"13\"], \"mode\": \"markers\", \"name\": \"precision_score_macro\", \"stepped\": false, \"type\": \"scatter\", \"data\": [0.9058585858585859, 0.8781084656084657, 0.9036263736263737, 0.8714416139416141, 0.8971221371221372, 0.9359432234432236, 0.8985566285566285, 0.8632069836481602, 0.9226583601583602, 0.9123697598697598, 0.887487604987605, 0.9483738483738484, 0.9380960705960707]}, {\"categories\": [\"0\", \"1\", \"2\", \"3\", \"4\", \"5\", \"6\", \"7\", \"8\", \"9\", \"10\", \"12\", \"13\"], \"mode\": \"lines\", \"name\": \"precision_score_macro_max\", \"stepped\": true, \"type\": \"scatter\", \"data\": [0.9058585858585859, 0.9058585858585859, 0.9058585858585859, 0.9058585858585859, 0.9058585858585859, 0.9359432234432236, 0.9359432234432236, 0.9359432234432236, 0.9359432234432236, 0.9359432234432236, 0.9359432234432236, 0.9483738483738484, 0.9483738483738484]}], \"average_precision_score_macro\": [{\"categories\": [\"0\", \"1\", \"2\", \"3\", \"4\", \"5\", \"6\", \"7\", \"8\", \"9\", \"10\", \"12\", \"13\"], \"mode\": \"markers\", \"name\": \"average_precision_score_macro\", \"stepped\": false, \"type\": \"scatter\", \"data\": [0.97450678422107, 0.9659999217419852, 0.9512434958119481, 0.9477933265868363, 0.960020197570748, 0.9904813612313612, 0.958699020042274, 0.9358921442604086, 0.9724000629000628, 0.9751916440408503, 0.9631334089191232, 0.9883339253339253, 0.9877783697783699]}, {\"categories\": [\"0\", \"1\", \"2\", \"3\", \"4\", \"5\", \"6\", \"7\", \"8\", \"9\", \"10\", \"12\", \"13\"], \"mode\": \"lines\", \"name\": \"average_precision_score_macro_max\", \"stepped\": true, \"type\": \"scatter\", \"data\": [0.97450678422107, 0.97450678422107, 0.97450678422107, 0.97450678422107, 0.97450678422107, 0.9904813612313612, 0.9904813612313612, 0.9904813612313612, 0.9904813612313612, 0.9904813612313612, 0.9904813612313612, 0.9904813612313612, 0.9904813612313612]}], \"precision_score_micro\": [{\"categories\": [\"0\", \"1\", \"2\", \"3\", \"4\", \"5\", \"6\", \"7\", \"8\", \"9\", \"10\", \"12\", \"13\"], \"mode\": \"markers\", \"name\": \"precision_score_micro\", \"stepped\": false, \"type\": \"scatter\", \"data\": [0.9126153846153848, 0.8923076923076924, 0.9006153846153847, 0.8610769230769231, 0.9004615384615384, 0.9444615384615384, 0.8966153846153846, 0.8686153846153847, 0.9283076923076923, 0.9164615384615384, 0.9006153846153847, 0.9563076923076924, 0.9443076923076923]}, {\"categories\": [\"0\", \"1\", \"2\", \"3\", \"4\", \"5\", \"6\", \"7\", \"8\", \"9\", \"10\", \"12\", \"13\"], \"mode\": \"lines\", \"name\": \"precision_score_micro_max\", \"stepped\": true, \"type\": \"scatter\", \"data\": [0.9126153846153848, 0.9126153846153848, 0.9126153846153848, 0.9126153846153848, 0.9126153846153848, 0.9444615384615384, 0.9444615384615384, 0.9444615384615384, 0.9444615384615384, 0.9444615384615384, 0.9444615384615384, 0.9563076923076924, 0.9563076923076924]}], \"norm_macro_recall\": [{\"categories\": [\"0\", \"1\", \"2\", \"3\", \"4\", \"5\", \"6\", \"7\", \"8\", \"9\", \"10\", \"12\", \"13\"], \"mode\": \"markers\", \"name\": \"norm_macro_recall\", \"stepped\": false, \"type\": \"scatter\", \"data\": [0.8468434343434342, 0.813435592185592, 0.848929265179265, 0.7828013653013652, 0.8430382117882116, 0.9133953546453547, 0.8147234709734708, 0.7810390997890998, 0.8849020424020424, 0.8688107725607723, 0.8264695027195026, 0.9256331168831169, 0.9112314074814074]}, {\"categories\": [\"0\", \"1\", \"2\", \"3\", \"4\", \"5\", \"6\", \"7\", \"8\", \"9\", \"10\", \"12\", \"13\"], \"mode\": \"lines\", \"name\": \"norm_macro_recall_max\", \"stepped\": true, \"type\": \"scatter\", \"data\": [0.8468434343434342, 0.8468434343434342, 0.848929265179265, 0.848929265179265, 0.848929265179265, 0.9133953546453547, 0.9133953546453547, 0.9133953546453547, 0.9133953546453547, 0.9133953546453547, 0.9133953546453547, 0.9256331168831169, 0.9256331168831169]}], \"log_loss\": [{\"categories\": [\"0\", \"1\", \"2\", \"3\", \"4\", \"5\", \"6\", \"7\", \"8\", \"9\", \"10\", \"12\", \"13\"], \"mode\": \"markers\", \"name\": \"log_loss\", \"stepped\": false, \"type\": \"scatter\", \"data\": [0.21675552798396178, 0.23955364341555185, 0.3324300246351901, 0.38974923040178655, 0.3763824626441238, 0.16734267821692483, 0.2586028236996512, 0.3629209215471049, 0.24036126079997389, 0.2062559521423178, 0.29915783829193715, 0.18208217275639224, 0.18115837787032302]}, {\"categories\": [\"0\", \"1\", \"2\", \"3\", \"4\", \"5\", \"6\", \"7\", \"8\", \"9\", \"10\", \"12\", \"13\"], \"mode\": \"lines\", \"name\": \"log_loss_min\", \"stepped\": true, \"type\": \"scatter\", \"data\": [0.21675552798396178, 0.21675552798396178, 0.21675552798396178, 0.21675552798396178, 0.21675552798396178, 0.16734267821692483, 0.16734267821692483, 0.16734267821692483, 0.16734267821692483, 0.16734267821692483, 0.16734267821692483, 0.16734267821692483, 0.16734267821692483]}], \"recall_score_macro\": [{\"categories\": [\"0\", \"1\", \"2\", \"3\", \"4\", \"5\", \"6\", \"7\", \"8\", \"9\", \"10\", \"12\", \"13\"], \"mode\": \"markers\", \"name\": \"recall_score_macro\", \"stepped\": false, \"type\": \"scatter\", \"data\": [0.8978956228956229, 0.8756237281237281, 0.8992861767861768, 0.8552009102009102, 0.895358807858808, 0.9422635697635698, 0.8764823139823139, 0.8540260665260664, 0.9232680282680283, 0.912540515040515, 0.8843130018130019, 0.9504220779220779, 0.9408209383209384]}, {\"categories\": [\"0\", \"1\", \"2\", \"3\", \"4\", \"5\", \"6\", \"7\", \"8\", \"9\", \"10\", \"12\", \"13\"], \"mode\": \"lines\", \"name\": \"recall_score_macro_max\", \"stepped\": true, \"type\": \"scatter\", \"data\": [0.8978956228956229, 0.8978956228956229, 0.8992861767861768, 0.8992861767861768, 0.8992861767861768, 0.9422635697635698, 0.9422635697635698, 0.9422635697635698, 0.9422635697635698, 0.9422635697635698, 0.9422635697635698, 0.9504220779220779, 0.9504220779220779]}], \"precision_score_weighted\": [{\"categories\": [\"0\", \"1\", \"2\", \"3\", \"4\", \"5\", \"6\", \"7\", \"8\", \"9\", \"10\", \"12\", \"13\"], \"mode\": \"markers\", \"name\": \"precision_score_weighted\", \"stepped\": false, \"type\": \"scatter\", \"data\": [0.9231589743589742, 0.9024505494505494, 0.9227744810744811, 0.8899499355345508, 0.920131186761956, 0.9518560439560438, 0.9135256521256523, 0.8804595274007039, 0.9409635919635919, 0.9307737484737485, 0.9136233211233211, 0.9618888444888445, 0.9527888444888445]}, {\"categories\": [\"0\", \"1\", \"2\", \"3\", \"4\", \"5\", \"6\", \"7\", \"8\", \"9\", \"10\", \"12\", \"13\"], \"mode\": \"lines\", \"name\": \"precision_score_weighted_max\", \"stepped\": true, \"type\": \"scatter\", \"data\": [0.9231589743589742, 0.9231589743589742, 0.9231589743589742, 0.9231589743589742, 0.9231589743589742, 0.9518560439560438, 0.9518560439560438, 0.9518560439560438, 0.9518560439560438, 0.9518560439560438, 0.9518560439560438, 0.9618888444888445, 0.9618888444888445]}], \"AUC_macro\": [{\"categories\": [\"0\", \"1\", \"2\", \"3\", \"4\", \"5\", \"6\", \"7\", \"8\", \"9\", \"10\", \"12\", \"13\"], \"mode\": \"markers\", \"name\": \"AUC_macro\", \"stepped\": false, \"type\": \"scatter\", \"data\": [0.9888561521324679, 0.984220961242633, 0.9778971436773295, 0.969151759618091, 0.9749326005378638, 0.9952342652474231, 0.9784178387402072, 0.9652212893888592, 0.9895939880696073, 0.9876783611125717, 0.9819180931154616, 0.9949929556311137, 0.9948540667422247]}, {\"categories\": [\"0\", \"1\", \"2\", \"3\", \"4\", \"5\", \"6\", \"7\", \"8\", \"9\", \"10\", \"12\", \"13\"], \"mode\": \"lines\", \"name\": \"AUC_macro_max\", \"stepped\": true, \"type\": \"scatter\", \"data\": [0.9888561521324679, 0.9888561521324679, 0.9888561521324679, 0.9888561521324679, 0.9888561521324679, 0.9952342652474231, 0.9952342652474231, 0.9952342652474231, 0.9952342652474231, 0.9952342652474231, 0.9952342652474231, 0.9952342652474231, 0.9952342652474231]}], \"matthews_correlation\": [{\"categories\": [\"0\", \"1\", \"2\", \"3\", \"4\", \"5\", \"6\", \"7\", \"8\", \"9\", \"10\", \"12\", \"13\"], \"mode\": \"markers\", \"name\": \"matthews_correlation\", \"stepped\": false, \"type\": \"scatter\", \"data\": [0.865173069237007, 0.8355393527448858, 0.8538182165766777, 0.790513310664849, 0.8515789854553356, 0.9143623752149515, 0.8425553635533476, 0.7955335472939661, 0.8932330377797155, 0.8753168654668982, 0.8471830378912582, 0.9323941953883687, 0.9154943162433131]}, {\"categories\": [\"0\", \"1\", \"2\", \"3\", \"4\", \"5\", \"6\", \"7\", \"8\", \"9\", \"10\", \"12\", \"13\"], \"mode\": \"lines\", \"name\": \"matthews_correlation_max\", \"stepped\": true, \"type\": \"scatter\", \"data\": [0.865173069237007, 0.865173069237007, 0.865173069237007, 0.865173069237007, 0.865173069237007, 0.9143623752149515, 0.9143623752149515, 0.9143623752149515, 0.9143623752149515, 0.9143623752149515, 0.9143623752149515, 0.9323941953883687, 0.9323941953883687]}], \"f1_score_micro\": [{\"categories\": [\"0\", \"1\", \"2\", \"3\", \"4\", \"5\", \"6\", \"7\", \"8\", \"9\", \"10\", \"12\", \"13\"], \"mode\": \"markers\", \"name\": \"f1_score_micro\", \"stepped\": false, \"type\": \"scatter\", \"data\": [0.9126153846153848, 0.8923076923076924, 0.9006153846153847, 0.8610769230769231, 0.9004615384615384, 0.9444615384615384, 0.8966153846153846, 0.8686153846153847, 0.9283076923076923, 0.9164615384615384, 0.9006153846153847, 0.9563076923076924, 0.9443076923076923]}, {\"categories\": [\"0\", \"1\", \"2\", \"3\", \"4\", \"5\", \"6\", \"7\", \"8\", \"9\", \"10\", \"12\", \"13\"], \"mode\": \"lines\", \"name\": \"f1_score_micro_max\", \"stepped\": true, \"type\": \"scatter\", \"data\": [0.9126153846153848, 0.9126153846153848, 0.9126153846153848, 0.9126153846153848, 0.9126153846153848, 0.9444615384615384, 0.9444615384615384, 0.9444615384615384, 0.9444615384615384, 0.9444615384615384, 0.9444615384615384, 0.9563076923076924, 0.9563076923076924]}], \"average_precision_score_weighted\": [{\"categories\": [\"0\", \"1\", \"2\", \"3\", \"4\", \"5\", \"6\", \"7\", \"8\", \"9\", \"10\", \"12\", \"13\"], \"mode\": \"markers\", \"name\": \"average_precision_score_weighted\", \"stepped\": false, \"type\": \"scatter\", \"data\": [0.9817322871572871, 0.9737770895770895, 0.9642524176678023, 0.955638579025695, 0.9655439492911629, 0.9917858363858363, 0.9677232762963532, 0.9459617338801548, 0.981636813186813, 0.9803522921522921, 0.9725443667443667, 0.9913807303807303, 0.9913210234210232]}, {\"categories\": [\"0\", \"1\", \"2\", \"3\", \"4\", \"5\", \"6\", \"7\", \"8\", \"9\", \"10\", \"12\", \"13\"], \"mode\": \"lines\", \"name\": \"average_precision_score_weighted_max\", \"stepped\": true, \"type\": \"scatter\", \"data\": [0.9817322871572871, 0.9817322871572871, 0.9817322871572871, 0.9817322871572871, 0.9817322871572871, 0.9917858363858363, 0.9917858363858363, 0.9917858363858363, 0.9917858363858363, 0.9917858363858363, 0.9917858363858363, 0.9917858363858363, 0.9917858363858363]}], \"balanced_accuracy\": [{\"categories\": [\"0\", \"1\", \"2\", \"3\", \"4\", \"5\", \"6\", \"7\", \"8\", \"9\", \"10\", \"12\", \"13\"], \"mode\": \"markers\", \"name\": \"balanced_accuracy\", \"stepped\": false, \"type\": \"scatter\", \"data\": [0.8978956228956229, 0.8756237281237281, 0.8992861767861768, 0.8552009102009102, 0.895358807858808, 0.9422635697635698, 0.8764823139823139, 0.8540260665260664, 0.9232680282680283, 0.912540515040515, 0.8843130018130019, 0.9504220779220779, 0.9408209383209384]}, {\"categories\": [\"0\", \"1\", \"2\", \"3\", \"4\", \"5\", \"6\", \"7\", \"8\", \"9\", \"10\", \"12\", \"13\"], \"mode\": \"lines\", \"name\": \"balanced_accuracy_max\", \"stepped\": true, \"type\": \"scatter\", \"data\": [0.8978956228956229, 0.8978956228956229, 0.8992861767861768, 0.8992861767861768, 0.8992861767861768, 0.9422635697635698, 0.9422635697635698, 0.9422635697635698, 0.9422635697635698, 0.9422635697635698, 0.9422635697635698, 0.9504220779220779, 0.9504220779220779]}], \"f1_score_weighted\": [{\"categories\": [\"0\", \"1\", \"2\", \"3\", \"4\", \"5\", \"6\", \"7\", \"8\", \"9\", \"10\", \"12\", \"13\"], \"mode\": \"markers\", \"name\": \"f1_score_weighted\", \"stepped\": false, \"type\": \"scatter\", \"data\": [0.9126763092456377, 0.8893677851496214, 0.9021390760220429, 0.8562868341717959, 0.9005192921386167, 0.9443865017821462, 0.8944668709117278, 0.8660198090078683, 0.9283035013517772, 0.9164649237958621, 0.8998502179994226, 0.9561065432221876, 0.9441616849981962]}, {\"categories\": [\"0\", \"1\", \"2\", \"3\", \"4\", \"5\", \"6\", \"7\", \"8\", \"9\", \"10\", \"12\", \"13\"], \"mode\": \"lines\", \"name\": \"f1_score_weighted_max\", \"stepped\": true, \"type\": \"scatter\", \"data\": [0.9126763092456377, 0.9126763092456377, 0.9126763092456377, 0.9126763092456377, 0.9126763092456377, 0.9443865017821462, 0.9443865017821462, 0.9443865017821462, 0.9443865017821462, 0.9443865017821462, 0.9443865017821462, 0.9561065432221876, 0.9561065432221876]}], \"average_precision_score_micro\": [{\"categories\": [\"0\", \"1\", \"2\", \"3\", \"4\", \"5\", \"6\", \"7\", \"8\", \"9\", \"10\", \"12\", \"13\"], \"mode\": \"markers\", \"name\": \"average_precision_score_micro\", \"stepped\": false, \"type\": \"scatter\", \"data\": [0.9790786521564903, 0.9711978140036029, 0.9662949233199116, 0.9488885751997049, 0.9584709910976459, 0.989751462735193, 0.9681434038399879, 0.9449830720593884, 0.980017434077997, 0.9802687189324905, 0.9740946859593246, 0.9891452500777609, 0.9877312260914936]}, {\"categories\": [\"0\", \"1\", \"2\", \"3\", \"4\", \"5\", \"6\", \"7\", \"8\", \"9\", \"10\", \"12\", \"13\"], \"mode\": \"lines\", \"name\": \"average_precision_score_micro_max\", \"stepped\": true, \"type\": \"scatter\", \"data\": [0.9790786521564903, 0.9790786521564903, 0.9790786521564903, 0.9790786521564903, 0.9790786521564903, 0.989751462735193, 0.989751462735193, 0.989751462735193, 0.989751462735193, 0.989751462735193, 0.989751462735193, 0.989751462735193, 0.989751462735193]}], \"weighted_accuracy\": [{\"categories\": [\"0\", \"1\", \"2\", \"3\", \"4\", \"5\", \"6\", \"7\", \"8\", \"9\", \"10\", \"12\", \"13\"], \"mode\": \"markers\", \"name\": \"weighted_accuracy\", \"stepped\": false, \"type\": \"scatter\", \"data\": [0.9260116238143231, 0.9035069696627085, 0.9029067897492581, 0.8725648034550744, 0.9085342742337941, 0.9482748319236982, 0.9095079082821854, 0.8836928541494116, 0.9323299127773094, 0.9214313433651631, 0.9138622167568737, 0.9634459651165116, 0.949222473103351]}, {\"categories\": [\"0\", \"1\", \"2\", \"3\", \"4\", \"5\", \"6\", \"7\", \"8\", \"9\", \"10\", \"12\", \"13\"], \"mode\": \"lines\", \"name\": \"weighted_accuracy_max\", \"stepped\": true, \"type\": \"scatter\", \"data\": [0.9260116238143231, 0.9260116238143231, 0.9260116238143231, 0.9260116238143231, 0.9260116238143231, 0.9482748319236982, 0.9482748319236982, 0.9482748319236982, 0.9482748319236982, 0.9482748319236982, 0.9482748319236982, 0.9634459651165116, 0.9634459651165116]}], \"recall_score_micro\": [{\"categories\": [\"0\", \"1\", \"2\", \"3\", \"4\", \"5\", \"6\", \"7\", \"8\", \"9\", \"10\", \"12\", \"13\"], \"mode\": \"markers\", \"name\": \"recall_score_micro\", \"stepped\": false, \"type\": \"scatter\", \"data\": [0.9126153846153848, 0.8923076923076924, 0.9006153846153847, 0.8610769230769231, 0.9004615384615384, 0.9444615384615384, 0.8966153846153846, 0.8686153846153847, 0.9283076923076923, 0.9164615384615384, 0.9006153846153847, 0.9563076923076924, 0.9443076923076923]}, {\"categories\": [\"0\", \"1\", \"2\", \"3\", \"4\", \"5\", \"6\", \"7\", \"8\", \"9\", \"10\", \"12\", \"13\"], \"mode\": \"lines\", \"name\": \"recall_score_micro_max\", \"stepped\": true, \"type\": \"scatter\", \"data\": [0.9126153846153848, 0.9126153846153848, 0.9126153846153848, 0.9126153846153848, 0.9126153846153848, 0.9444615384615384, 0.9444615384615384, 0.9444615384615384, 0.9444615384615384, 0.9444615384615384, 0.9444615384615384, 0.9563076923076924, 0.9563076923076924]}], \"AUC_micro\": [{\"categories\": [\"0\", \"1\", \"2\", \"3\", \"4\", \"5\", \"6\", \"7\", \"8\", \"9\", \"10\", \"12\", \"13\"], \"mode\": \"markers\", \"name\": \"AUC_micro\", \"stepped\": false, \"type\": \"scatter\", \"data\": [0.9876950295857988, 0.9833524260355031, 0.979074674556213, 0.9685885207100592, 0.9751426035502957, 0.9944165680473371, 0.9814715976331362, 0.9664112426035502, 0.9887531360946745, 0.9889026035502958, 0.9849146745562131, 0.9939546745562129, 0.9929448520710059]}, {\"categories\": [\"0\", \"1\", \"2\", \"3\", \"4\", \"5\", \"6\", \"7\", \"8\", \"9\", \"10\", \"12\", \"13\"], \"mode\": \"lines\", \"name\": \"AUC_micro_max\", \"stepped\": true, \"type\": \"scatter\", \"data\": [0.9876950295857988, 0.9876950295857988, 0.9876950295857988, 0.9876950295857988, 0.9876950295857988, 0.9944165680473371, 0.9944165680473371, 0.9944165680473371, 0.9944165680473371, 0.9944165680473371, 0.9944165680473371, 0.9944165680473371, 0.9944165680473371]}], \"AUC_weighted\": [{\"categories\": [\"0\", \"1\", \"2\", \"3\", \"4\", \"5\", \"6\", \"7\", \"8\", \"9\", \"10\", \"12\", \"13\"], \"mode\": \"markers\", \"name\": \"AUC_weighted\", \"stepped\": false, \"type\": \"scatter\", \"data\": [0.9897743394032869, 0.9851243000893156, 0.979792929533487, 0.9687203138193079, 0.9757437001594896, 0.9952229422624159, 0.9804890362561416, 0.9663971015998106, 0.9915189494458071, 0.9886458281484598, 0.9845127209048261, 0.9954396283541019, 0.9955455502100238]}, {\"categories\": [\"0\", \"1\", \"2\", \"3\", \"4\", \"5\", \"6\", \"7\", \"8\", \"9\", \"10\", \"12\", \"13\"], \"mode\": \"lines\", \"name\": \"AUC_weighted_max\", \"stepped\": true, \"type\": \"scatter\", \"data\": [0.9897743394032869, 0.9897743394032869, 0.9897743394032869, 0.9897743394032869, 0.9897743394032869, 0.9952229422624159, 0.9952229422624159, 0.9952229422624159, 0.9952229422624159, 0.9952229422624159, 0.9952229422624159, 0.9954396283541019, 0.9955455502100238]}], \"accuracy\": [{\"categories\": [\"0\", \"1\", \"2\", \"3\", \"4\", \"5\", \"6\", \"7\", \"8\", \"9\", \"10\", \"12\", \"13\"], \"mode\": \"markers\", \"name\": \"accuracy\", \"stepped\": false, \"type\": \"scatter\", \"data\": [0.9126153846153848, 0.8923076923076924, 0.9006153846153847, 0.8610769230769231, 0.9004615384615384, 0.9444615384615384, 0.8966153846153846, 0.8686153846153847, 0.9283076923076923, 0.9164615384615384, 0.9006153846153847, 0.9563076923076924, 0.9443076923076923]}, {\"categories\": [\"0\", \"1\", \"2\", \"3\", \"4\", \"5\", \"6\", \"7\", \"8\", \"9\", \"10\", \"12\", \"13\"], \"mode\": \"lines\", \"name\": \"accuracy_max\", \"stepped\": true, \"type\": \"scatter\", \"data\": [0.9126153846153848, 0.9126153846153848, 0.9126153846153848, 0.9126153846153848, 0.9126153846153848, 0.9444615384615384, 0.9444615384615384, 0.9444615384615384, 0.9444615384615384, 0.9444615384615384, 0.9444615384615384, 0.9563076923076924, 0.9563076923076924]}], \"recall_score_weighted\": [{\"categories\": [\"0\", \"1\", \"2\", \"3\", \"4\", \"5\", \"6\", \"7\", \"8\", \"9\", \"10\", \"12\", \"13\"], \"mode\": \"markers\", \"name\": \"recall_score_weighted\", \"stepped\": false, \"type\": \"scatter\", \"data\": [0.9126153846153848, 0.8923076923076924, 0.9006153846153847, 0.8610769230769231, 0.9004615384615384, 0.9444615384615384, 0.8966153846153846, 0.8686153846153847, 0.9283076923076923, 0.9164615384615384, 0.9006153846153847, 0.9563076923076924, 0.9443076923076923]}, {\"categories\": [\"0\", \"1\", \"2\", \"3\", \"4\", \"5\", \"6\", \"7\", \"8\", \"9\", \"10\", \"12\", \"13\"], \"mode\": \"lines\", \"name\": \"recall_score_weighted_max\", \"stepped\": true, \"type\": \"scatter\", \"data\": [0.9126153846153848, 0.9126153846153848, 0.9126153846153848, 0.9126153846153848, 0.9126153846153848, 0.9444615384615384, 0.9444615384615384, 0.9444615384615384, 0.9444615384615384, 0.9444615384615384, 0.9444615384615384, 0.9563076923076924, 0.9563076923076924]}], \"f1_score_macro\": [{\"categories\": [\"0\", \"1\", \"2\", \"3\", \"4\", \"5\", \"6\", \"7\", \"8\", \"9\", \"10\", \"12\", \"13\"], \"mode\": \"markers\", \"name\": \"f1_score_macro\", \"stepped\": false, \"type\": \"scatter\", \"data\": [0.8951691213382077, 0.8672286493956719, 0.8902073208142409, 0.8394554615603209, 0.8836862840445165, 0.9345146221661647, 0.8719261343978861, 0.8485337937394049, 0.9160661862615888, 0.903891961965073, 0.8771084963193786, 0.9456190486039244, 0.9342649116274966]}, {\"categories\": [\"0\", \"1\", \"2\", \"3\", \"4\", \"5\", \"6\", \"7\", \"8\", \"9\", \"10\", \"12\", \"13\"], \"mode\": \"lines\", \"name\": \"f1_score_macro_max\", \"stepped\": true, \"type\": \"scatter\", \"data\": [0.8951691213382077, 0.8951691213382077, 0.8951691213382077, 0.8951691213382077, 0.8951691213382077, 0.9345146221661647, 0.9345146221661647, 0.9345146221661647, 0.9345146221661647, 0.9345146221661647, 0.9345146221661647, 0.9456190486039244, 0.9456190486039244]}]}, \"metricName\": null, \"primaryMetricName\": \"accuracy\", \"showLegend\": false}, \"run_metrics\": [{\"name\": \"experiment_status\", \"run_id\": \"AutoML_e7d09855-477b-43a2-b49a-7ecf9a7f8aec\", \"categories\": [0, 1, 2, 3, 4, 5, 6, 7, 8, 9, 10, 11, 12, 13], \"series\": [{\"data\": [\"DatasetEvaluation\", \"FeaturesGeneration\", \"DatasetFeaturization\", \"DatasetFeaturizationCompleted\", \"DatasetCrossValidationSplit\", \"ModelSelection\", \"BestRunExplainModel\", \"ModelExplanationDataSetSetup\", \"PickSurrogateModel\", \"EngineeredFeatureExplanations\", \"EngineeredFeatureExplanations\", \"RawFeaturesExplanations\", \"RawFeaturesExplanations\", \"BestRunExplainModel\"]}]}, {\"name\": \"experiment_status_description\", \"run_id\": \"AutoML_e7d09855-477b-43a2-b49a-7ecf9a7f8aec\", \"categories\": [0, 1, 2, 3, 4, 5, 6, 7, 8, 9, 10, 11, 12, 13], \"series\": [{\"data\": [\"Gathering dataset statistics.\", \"Generating features for the dataset.\", \"Beginning to fit featurizers and featurize the dataset.\", \"Completed fit featurizers and featurizing the dataset.\", \"Generating individually featurized CV splits.\", \"Beginning model selection.\", \"Best run model explanations started\", \"Model explanations data setup completed\", \"Choosing LightGBM as the surrogate model for explanations\", \"Computation of engineered features started\", \"Computation of engineered features completed\", \"Computation of raw features started\", \"Computation of raw features completed\", \"Best run model explanations completed\"]}]}, {\"name\": \"f1_score_macro\", \"run_id\": \"AutoML_e7d09855-477b-43a2-b49a-7ecf9a7f8aec\", \"categories\": [0], \"series\": [{\"data\": [0.9456190486039244]}]}, {\"name\": \"average_precision_score_micro\", \"run_id\": \"AutoML_e7d09855-477b-43a2-b49a-7ecf9a7f8aec\", \"categories\": [0], \"series\": [{\"data\": [0.9891452500777609]}]}, {\"name\": \"f1_score_weighted\", \"run_id\": \"AutoML_e7d09855-477b-43a2-b49a-7ecf9a7f8aec\", \"categories\": [0], \"series\": [{\"data\": [0.9561065432221876]}]}, {\"name\": \"average_precision_score_macro\", \"run_id\": \"AutoML_e7d09855-477b-43a2-b49a-7ecf9a7f8aec\", \"categories\": [0], \"series\": [{\"data\": [0.9883339253339253]}]}, {\"name\": \"accuracy\", \"run_id\": \"AutoML_e7d09855-477b-43a2-b49a-7ecf9a7f8aec\", \"categories\": [0], \"series\": [{\"data\": [0.9563076923076924]}]}, {\"name\": \"AUC_weighted\", \"run_id\": \"AutoML_e7d09855-477b-43a2-b49a-7ecf9a7f8aec\", \"categories\": [0], \"series\": [{\"data\": [0.9954396283541019]}]}, {\"name\": \"matthews_correlation\", \"run_id\": \"AutoML_e7d09855-477b-43a2-b49a-7ecf9a7f8aec\", \"categories\": [0], \"series\": [{\"data\": [0.9323941953883687]}]}, {\"name\": \"precision_score_weighted\", \"run_id\": \"AutoML_e7d09855-477b-43a2-b49a-7ecf9a7f8aec\", \"categories\": [0], \"series\": [{\"data\": [0.9618888444888445]}]}, {\"name\": \"recall_score_micro\", \"run_id\": \"AutoML_e7d09855-477b-43a2-b49a-7ecf9a7f8aec\", \"categories\": [0], \"series\": [{\"data\": [0.9563076923076924]}]}, {\"name\": \"f1_score_micro\", \"run_id\": \"AutoML_e7d09855-477b-43a2-b49a-7ecf9a7f8aec\", \"categories\": [0], \"series\": [{\"data\": [0.9563076923076924]}]}, {\"name\": \"average_precision_score_weighted\", \"run_id\": \"AutoML_e7d09855-477b-43a2-b49a-7ecf9a7f8aec\", \"categories\": [0], \"series\": [{\"data\": [0.9913807303807303]}]}, {\"name\": \"precision_score_macro\", \"run_id\": \"AutoML_e7d09855-477b-43a2-b49a-7ecf9a7f8aec\", \"categories\": [0], \"series\": [{\"data\": [0.9483738483738484]}]}, {\"name\": \"log_loss\", \"run_id\": \"AutoML_e7d09855-477b-43a2-b49a-7ecf9a7f8aec\", \"categories\": [0], \"series\": [{\"data\": [0.18208217275639224]}]}, {\"name\": \"balanced_accuracy\", \"run_id\": \"AutoML_e7d09855-477b-43a2-b49a-7ecf9a7f8aec\", \"categories\": [0], \"series\": [{\"data\": [0.9504220779220779]}]}, {\"name\": \"recall_score_macro\", \"run_id\": \"AutoML_e7d09855-477b-43a2-b49a-7ecf9a7f8aec\", \"categories\": [0], \"series\": [{\"data\": [0.9504220779220779]}]}, {\"name\": \"norm_macro_recall\", \"run_id\": \"AutoML_e7d09855-477b-43a2-b49a-7ecf9a7f8aec\", \"categories\": [0], \"series\": [{\"data\": [0.9256331168831169]}]}, {\"name\": \"recall_score_weighted\", \"run_id\": \"AutoML_e7d09855-477b-43a2-b49a-7ecf9a7f8aec\", \"categories\": [0], \"series\": [{\"data\": [0.9563076923076924]}]}, {\"name\": \"AUC_macro\", \"run_id\": \"AutoML_e7d09855-477b-43a2-b49a-7ecf9a7f8aec\", \"categories\": [0], \"series\": [{\"data\": [0.9949929556311137]}]}, {\"name\": \"weighted_accuracy\", \"run_id\": \"AutoML_e7d09855-477b-43a2-b49a-7ecf9a7f8aec\", \"categories\": [0], \"series\": [{\"data\": [0.9634459651165116]}]}, {\"name\": \"precision_score_micro\", \"run_id\": \"AutoML_e7d09855-477b-43a2-b49a-7ecf9a7f8aec\", \"categories\": [0], \"series\": [{\"data\": [0.9563076923076924]}]}, {\"name\": \"AUC_micro\", \"run_id\": \"AutoML_e7d09855-477b-43a2-b49a-7ecf9a7f8aec\", \"categories\": [0], \"series\": [{\"data\": [0.9939546745562129]}]}], \"run_logs\": \"\\nRun is completed.\", \"graph\": {}, \"widget_settings\": {\"childWidgetDisplay\": \"popup\", \"send_telemetry\": false, \"log_level\": \"INFO\", \"sdk_version\": \"1.26.0\"}, \"loading\": false}"
     },
     "metadata": {},
     "output_type": "display_data"
    },
    {
     "data": {
      "text/plain": [
       "{'runId': 'AutoML_e7d09855-477b-43a2-b49a-7ecf9a7f8aec',\n",
       " 'target': 'compute-cluster1',\n",
       " 'status': 'Completed',\n",
       " 'startTimeUtc': '2021-04-17T05:17:17.456526Z',\n",
       " 'endTimeUtc': '2021-04-17T06:41:09.833316Z',\n",
       " 'properties': {'num_iterations': '1000',\n",
       "  'training_type': 'TrainFull',\n",
       "  'acquisition_function': 'EI',\n",
       "  'primary_metric': 'accuracy',\n",
       "  'train_split': '0',\n",
       "  'acquisition_parameter': '0',\n",
       "  'num_cross_validation': None,\n",
       "  'target': 'compute-cluster1',\n",
       "  'AMLSettingsJsonString': '{\"path\":null,\"name\":\"covid-pneumonia-automl\",\"subscription_id\":\"aa7cf8e8-d23f-4bce-a7b9-1f0b4e0ac8ee\",\"resource_group\":\"aml-quickstarts-142902\",\"workspace_name\":\"quick-starts-ws-142902\",\"region\":\"southcentralus\",\"compute_target\":\"compute-cluster1\",\"spark_service\":null,\"azure_service\":\"remote\",\"many_models\":false,\"pipeline_fetch_max_batch_size\":1,\"enable_batch_run\":false,\"enable_run_restructure\":false,\"iterations\":1000,\"primary_metric\":\"accuracy\",\"task_type\":\"classification\",\"data_script\":null,\"test_size\":0.0,\"validation_size\":0.0,\"n_cross_validations\":null,\"y_min\":null,\"y_max\":null,\"num_classes\":null,\"featurization\":\"auto\",\"_ignore_package_version_incompatibilities\":false,\"is_timeseries\":false,\"max_cores_per_iteration\":-1,\"max_concurrent_iterations\":1,\"iteration_timeout_minutes\":null,\"mem_in_mb\":null,\"enforce_time_on_windows\":false,\"experiment_timeout_minutes\":45,\"experiment_exit_score\":null,\"whitelist_models\":null,\"blacklist_algos\":[\"TensorFlowLinearClassifier\",\"TensorFlowDNN\"],\"supported_models\":[\"KNN\",\"RandomForest\",\"BernoulliNaiveBayes\",\"SVM\",\"XGBoostClassifier\",\"TensorFlowDNN\",\"LogisticRegression\",\"ExtremeRandomTrees\",\"MultinomialNaiveBayes\",\"LightGBM\",\"LinearSVM\",\"AveragedPerceptronClassifier\",\"TensorFlowLinearClassifier\",\"GradientBoosting\",\"DecisionTree\",\"SGD\"],\"private_models\":[],\"auto_blacklist\":true,\"blacklist_samples_reached\":false,\"exclude_nan_labels\":true,\"verbosity\":20,\"_debug_log\":\"azureml_automl.log\",\"show_warnings\":false,\"model_explainability\":true,\"service_url\":null,\"sdk_url\":null,\"sdk_packages\":null,\"enable_onnx_compatible_models\":false,\"enable_split_onnx_featurizer_estimator_models\":false,\"vm_type\":\"STANDARD_NC6\",\"telemetry_verbosity\":20,\"send_telemetry\":true,\"enable_dnn\":true,\"scenario\":\"SDK-1.13.0\",\"environment_label\":null,\"save_mlflow\":false,\"force_text_dnn\":false,\"enable_feature_sweeping\":true,\"enable_early_stopping\":false,\"early_stopping_n_iters\":10,\"metrics\":null,\"enable_metric_confidence\":false,\"enable_ensembling\":true,\"enable_stack_ensembling\":true,\"ensemble_iterations\":15,\"enable_tf\":false,\"enable_subsampling\":null,\"subsample_seed\":null,\"enable_nimbusml\":false,\"enable_streaming\":false,\"force_streaming\":false,\"track_child_runs\":true,\"allowed_private_models\":[],\"label_column_name\":\"class\",\"weight_column_name\":null,\"cv_split_column_names\":null,\"enable_local_managed\":false,\"_local_managed_run_id\":null,\"cost_mode\":1,\"lag_length\":0,\"metric_operation\":\"maximize\",\"preprocess\":true}',\n",
       "  'DataPrepJsonString': '{\\\\\"training_data\\\\\": {\\\\\"datasetId\\\\\": \\\\\"e5545894-ff67-4d32-b14c-5f8c39e5bd7b\\\\\"}, \\\\\"datasets\\\\\": 0}',\n",
       "  'EnableSubsampling': None,\n",
       "  'runTemplate': 'AutoML',\n",
       "  'azureml.runsource': 'automl',\n",
       "  'display_task_type': 'classification',\n",
       "  'dependencies_versions': '{\"azureml-widgets\": \"1.26.0\", \"azureml-train\": \"1.26.0\", \"azureml-train-restclients-hyperdrive\": \"1.26.0\", \"azureml-train-core\": \"1.26.0\", \"azureml-train-automl-client\": \"1.26.0\", \"azureml-tensorboard\": \"1.26.0\", \"azureml-telemetry\": \"1.26.0\", \"azureml-sdk\": \"1.26.0\", \"azureml-pipeline\": \"1.26.0\", \"azureml-pipeline-steps\": \"1.26.0\", \"azureml-pipeline-core\": \"1.26.0\", \"azureml-opendatasets\": \"1.26.0\", \"azureml-model-management-sdk\": \"1.0.1b6.post1\", \"azureml-mlflow\": \"1.26.0\", \"azureml-interpret\": \"1.26.0\", \"azureml-explain-model\": \"1.26.0\", \"azureml-defaults\": \"1.26.0\", \"azureml-dataset-runtime\": \"1.26.0\", \"azureml-dataprep\": \"2.13.2\", \"azureml-dataprep-rslex\": \"1.11.2\", \"azureml-dataprep-native\": \"32.0.0\", \"azureml-datadrift\": \"1.26.0\", \"azureml-core\": \"1.26.0\", \"azureml-contrib-services\": \"1.26.0\", \"azureml-contrib-server\": \"1.26.0\", \"azureml-contrib-reinforcementlearning\": \"1.26.0\", \"azureml-contrib-pipeline-steps\": \"1.26.0\", \"azureml-contrib-notebook\": \"1.26.0\", \"azureml-contrib-gbdt\": \"1.26.0\", \"azureml-contrib-fairness\": \"1.26.0\", \"azureml-contrib-dataset\": \"1.26.0\", \"azureml-cli-common\": \"1.26.0\", \"azureml-automl-core\": \"1.26.0\", \"azureml-accel-models\": \"1.26.0\"}',\n",
       "  '_aml_system_scenario_identification': 'Remote.Parent',\n",
       "  'ClientType': 'SDK',\n",
       "  'environment_cpu_name': 'AzureML-AutoML-DNN',\n",
       "  'environment_cpu_label': 'prod',\n",
       "  'environment_gpu_name': 'AzureML-AutoML-DNN-GPU',\n",
       "  'environment_gpu_label': 'prod',\n",
       "  'root_attribution': 'automl',\n",
       "  'attribution': 'AutoML',\n",
       "  'Orchestrator': 'AutoML',\n",
       "  'CancelUri': 'https://southcentralus.experiments.azureml.net/jasmine/v1.0/subscriptions/aa7cf8e8-d23f-4bce-a7b9-1f0b4e0ac8ee/resourceGroups/aml-quickstarts-142902/providers/Microsoft.MachineLearningServices/workspaces/quick-starts-ws-142902/experimentids/d1b8b6e8-258f-4885-8d3c-ac27b2abe0e3/cancel/AutoML_e7d09855-477b-43a2-b49a-7ecf9a7f8aec',\n",
       "  'azureml.git.repository_uri': 'https://github.com/sreenithi/Covid-and-Pneumonia-XRay-Classification.git',\n",
       "  'mlflow.source.git.repoURL': 'https://github.com/sreenithi/Covid-and-Pneumonia-XRay-Classification.git',\n",
       "  'azureml.git.branch': 'main',\n",
       "  'mlflow.source.git.branch': 'main',\n",
       "  'azureml.git.commit': '651b132af22981ade4b5d44b101bd1cd60606f95',\n",
       "  'mlflow.source.git.commit': '651b132af22981ade4b5d44b101bd1cd60606f95',\n",
       "  'azureml.git.dirty': 'True',\n",
       "  'ClientSdkVersion': '1.25.0',\n",
       "  'snapshotId': '00000000-0000-0000-0000-000000000000',\n",
       "  'SetupRunId': 'AutoML_e7d09855-477b-43a2-b49a-7ecf9a7f8aec_setup',\n",
       "  'SetupRunContainerId': 'dcid.AutoML_e7d09855-477b-43a2-b49a-7ecf9a7f8aec_setup',\n",
       "  'FeaturizationRunJsonPath': 'featurizer_container.json',\n",
       "  'FeaturizationRunId': 'AutoML_e7d09855-477b-43a2-b49a-7ecf9a7f8aec_featurize',\n",
       "  'ProblemInfoJsonString': '{\"dataset_num_categorical\": 0, \"is_sparse\": false, \"subsampling\": false, \"dataset_classes\": 3, \"dataset_features\": 13000, \"dataset_samples\": 251, \"single_frequency_class_detected\": false}',\n",
       "  'ModelExplainRunId': 'AutoML_e7d09855-477b-43a2-b49a-7ecf9a7f8aec_ModelExplain'},\n",
       " 'inputDatasets': [{'dataset': {'id': 'e5545894-ff67-4d32-b14c-5f8c39e5bd7b'}, 'consumptionDetails': {'type': 'RunInput', 'inputName': 'training_data', 'mechanism': 'Direct'}}],\n",
       " 'outputDatasets': [],\n",
       " 'logFiles': {},\n",
       " 'submittedBy': 'ODL_User 142902'}"
      ]
     },
     "execution_count": 8,
     "metadata": {},
     "output_type": "execute_result"
    }
   ],
   "source": [
    "RunDetails(remote_run).show()\n",
    "remote_run.wait_for_completion()"
   ]
  },
  {
   "cell_type": "markdown",
   "metadata": {},
   "source": [
    "## Best Model\n",
    "\n",
    "TODO: In the cell below, get the best model from the automl experiments and display all the properties of the model.\n",
    "\n"
   ]
  },
  {
   "cell_type": "code",
   "execution_count": 9,
   "metadata": {
    "gather": {
     "logged": 1598431425670
    },
    "jupyter": {
     "outputs_hidden": false,
     "source_hidden": false
    },
    "nteract": {
     "transient": {
      "deleting": false
     }
    }
   },
   "outputs": [
    {
     "name": "stdout",
     "output_type": "stream",
     "text": [
      "Best Run: AutoML_e7d09855-477b-43a2-b49a-7ecf9a7f8aec_12\n",
      "Algorithm: VotingEnsemble\n",
      "Metric: accuracy\n",
      "Best Score: 0.9563076923076924\n"
     ]
    }
   ],
   "source": [
    "#TODO: Save the best model\n",
    "best_run = remote_run.get_best_child()\n",
    "best_run_metrics = best_run.get_metrics()\n",
    "best_run_parameters = best_run.get_details()\n",
    "best_run_properties = best_run_parameters['properties']\n",
    "\n",
    "print(\"Best Run:\",best_run.id)\n",
    "print(\"Algorithm:\", best_run_properties['run_algorithm'])\n",
    "print(\"Metric:\", best_run_properties['primary_metric'])\n",
    "print(\"Best Score:\",best_run_properties['score'])\n"
   ]
  },
  {
   "cell_type": "code",
   "execution_count": 10,
   "metadata": {
    "gather": {
     "logged": 1598431426111
    },
    "jupyter": {
     "outputs_hidden": false,
     "source_hidden": false
    },
    "nteract": {
     "transient": {
      "deleting": false
     }
    }
   },
   "outputs": [
    {
     "data": {
      "text/plain": [
       "['accuracy_table',\n",
       " 'automl_driver.py',\n",
       " 'azureml-logs/55_azureml-execution-tvmps_aac4c2448272f0d35fdeda99586e18654d96f92d5298773d19a499380b0ed435_d.txt',\n",
       " 'azureml-logs/65_job_prep-tvmps_aac4c2448272f0d35fdeda99586e18654d96f92d5298773d19a499380b0ed435_d.txt',\n",
       " 'azureml-logs/70_driver_log.txt',\n",
       " 'azureml-logs/75_job_post-tvmps_aac4c2448272f0d35fdeda99586e18654d96f92d5298773d19a499380b0ed435_d.txt',\n",
       " 'azureml-logs/process_info.json',\n",
       " 'azureml-logs/process_status.json',\n",
       " 'confusion_matrix',\n",
       " 'logs/azureml/94_azureml.log',\n",
       " 'logs/azureml/azureml_automl.log',\n",
       " 'logs/azureml/job_prep_azureml.log',\n",
       " 'logs/azureml/job_release_azureml.log',\n",
       " 'outputs/conda_env_v_1_0_0.yml',\n",
       " 'outputs/env_dependencies.json',\n",
       " 'outputs/internal_cross_validated_models.pkl',\n",
       " 'outputs/model.pkl',\n",
       " 'outputs/pipeline_graph.json',\n",
       " 'outputs/scoring_file_v_1_0_0.py']"
      ]
     },
     "execution_count": 10,
     "metadata": {},
     "output_type": "execute_result"
    }
   ],
   "source": [
    "best_run.get_file_names()"
   ]
  },
  {
   "cell_type": "markdown",
   "metadata": {},
   "source": [
    "## Model Deployment\n",
    "\n",
    "Remember you have to deploy only one of the two models you trained.. Perform the steps in the rest of this notebook only if you wish to deploy this model.\n",
    "\n",
    "TODO: In the cell below, register the model, create an inference config and deploy the model as a web service."
   ]
  },
  {
   "cell_type": "markdown",
   "metadata": {
    "collapsed": true,
    "gather": {
     "logged": 1598431657736
    },
    "jupyter": {
     "outputs_hidden": false,
     "source_hidden": false
    },
    "nteract": {
     "transient": {
      "deleting": false
     }
    }
   },
   "source": [
    "TODO: In the cell below, send a request to the web service you deployed to test it."
   ]
  },
  {
   "cell_type": "markdown",
   "metadata": {
    "collapsed": true,
    "gather": {
     "logged": 1598432765711
    },
    "jupyter": {
     "outputs_hidden": false,
     "source_hidden": false
    },
    "nteract": {
     "transient": {
      "deleting": false
     }
    }
   },
   "source": [
    "TODO: In the cell below, print the logs of the web service and delete the service"
   ]
  },
  {
   "cell_type": "code",
   "execution_count": null,
   "metadata": {
    "jupyter": {
     "outputs_hidden": false,
     "source_hidden": false
    },
    "nteract": {
     "transient": {
      "deleting": false
     }
    }
   },
   "outputs": [],
   "source": []
  }
 ],
 "metadata": {
  "kernel_info": {
   "name": "python38-azureml"
  },
  "kernelspec": {
   "display_name": "Python 3.8 - AzureML",
   "language": "python",
   "name": "python38-azureml"
  },
  "language_info": {
   "codemirror_mode": {
    "name": "ipython",
    "version": 3
   },
   "file_extension": ".py",
   "mimetype": "text/x-python",
   "name": "python",
   "nbconvert_exporter": "python",
   "pygments_lexer": "ipython3",
   "version": "3.8.1"
  },
  "microsoft": {
   "host": {
    "AzureML": {
     "notebookHasBeenCompleted": true
    }
   }
  },
  "nteract": {
   "version": "nteract-front-end@1.0.0"
  }
 },
 "nbformat": 4,
 "nbformat_minor": 2
}