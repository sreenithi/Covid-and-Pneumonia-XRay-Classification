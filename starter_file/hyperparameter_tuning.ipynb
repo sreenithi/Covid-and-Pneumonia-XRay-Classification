{
 "cells": [
  {
   "cell_type": "markdown",
   "metadata": {},
   "source": [
    "# Hyperparameter Tuning using HyperDrive\n",
    "\n",
    "TODO: Import Dependencies. In the cell below, import all the dependencies that you will need to complete the project."
   ]
  },
  {
   "cell_type": "code",
   "execution_count": 22,
   "metadata": {
    "gather": {
     "logged": 1598531914256
    }
   },
   "outputs": [],
   "source": [
    "from azureml.core import Workspace, Experiment\n",
    "from azureml.core.compute import ComputeTarget, AmlCompute\n",
    "from azureml.core.compute_target import ComputeTargetException\n",
    "from azureml.core import Model\n",
    "\n",
    "from azureml.train.hyperdrive import MedianStoppingPolicy, RandomParameterSampling, HyperDriveConfig, PrimaryMetricGoal\n",
    "from azureml.train.dnn import TensorFlow\n",
    "from azureml.train.hyperdrive.parameter_expressions import uniform, choice\n",
    "from azureml.widgets import RunDetails\n",
    "\n",
    "import matplotlib.pyplot as plt\n",
    "import numpy as np"
   ]
  },
  {
   "cell_type": "markdown",
   "metadata": {},
   "source": [
    "## Dataset\n",
    "\n",
    "TODO: Get data. In the cell below, write code to access the data you will be using in this project. Remember that the dataset needs to be external."
   ]
  },
  {
   "cell_type": "code",
   "execution_count": 2,
   "metadata": {
    "gather": {
     "logged": 1598531917374
    },
    "jupyter": {
     "outputs_hidden": false,
     "source_hidden": false
    },
    "nteract": {
     "transient": {
      "deleting": false
     }
    }
   },
   "outputs": [
    {
     "name": "stdout",
     "output_type": "stream",
     "text": [
      "Found existing cluster, using it!\n"
     ]
    }
   ],
   "source": [
    "ws = Workspace.from_config()\n",
    "experiment_name = 'covid-pneumonia-hyperdrive'\n",
    "\n",
    "experiment=Experiment(ws, experiment_name)\n",
    "\n",
    "compute_name = \"compute-cluster\"\n",
    "vm_size = \"STANDARD_NC6\"\n",
    "\n",
    "try:\n",
    "    compute_cluster = ComputeTarget(workspace=ws, name=compute_name)\n",
    "    print(\"Found existing cluster, using it!\")\n",
    "except ComputeTargetException:\n",
    "    compute_config = AmlCompute.provisioning_configuration(vm_size=vm_size, max_nodes=6)\n",
    "    compute_cluster = ComputeTarget.create(ws, compute_name, compute_config)\n",
    "    compute_cluster.wait_for_completion()"
   ]
  },
  {
   "cell_type": "code",
   "execution_count": 19,
   "metadata": {
    "collapsed": true
   },
   "outputs": [
    {
     "name": "stderr",
     "output_type": "stream",
     "text": [
      "Method upload_directory: This is an experimental method, and may change at any time.<br/>For more information, see https://aka.ms/azuremlexperimental.\n"
     ]
    },
    {
     "name": "stdout",
     "output_type": "stream",
     "text": [
      "Validating arguments.\n",
      "Arguments validated.\n",
      "Uploading file to /\n",
      "Uploading an estimated of 317 files\n",
      "Target already exists. Skipping upload for test/Covid/0100.jpeg\n",
      "Target already exists. Skipping upload for test/Covid/0102.jpeg\n",
      "Target already exists. Skipping upload for test/Covid/0105.png\n",
      "Target already exists. Skipping upload for test/Covid/0106.jpeg\n",
      "Target already exists. Skipping upload for test/Covid/0108.jpeg\n",
      "Target already exists. Skipping upload for test/Covid/0111.jpg\n",
      "Target already exists. Skipping upload for test/Covid/0112.jpg\n",
      "Target already exists. Skipping upload for test/Covid/0113.jpg\n",
      "Target already exists. Skipping upload for test/Covid/0115.jpeg\n",
      "Target already exists. Skipping upload for test/Covid/0118.jpeg\n",
      "Target already exists. Skipping upload for test/Covid/0119.jpeg\n",
      "Target already exists. Skipping upload for test/Covid/0120.jpg\n",
      "Target already exists. Skipping upload for test/Covid/094.png\n",
      "Target already exists. Skipping upload for test/Covid/096.png\n",
      "Target already exists. Skipping upload for test/Covid/098.jpeg\n",
      "Target already exists. Skipping upload for test/Covid/auntminnie-2020_01_31_20_24_2322_2020_01_31_x-ray_coronavirus_US.jpg\n",
      "Target already exists. Skipping upload for test/Covid/auntminnie-a-2020_01_28_23_51_6665_2020_01_28_Vietnam_coronavirus.jpeg\n",
      "Target already exists. Skipping upload for test/Covid/auntminnie-b-2020_01_28_23_51_6665_2020_01_28_Vietnam_coronavirus.jpeg\n",
      "Target already exists. Skipping upload for test/Covid/auntminnie-c-2020_01_28_23_51_6665_2020_01_28_Vietnam_coronavirus.jpeg\n",
      "Target already exists. Skipping upload for test/Covid/auntminnie-d-2020_01_28_23_51_6665_2020_01_28_Vietnam_coronavirus.jpeg\n",
      "Target already exists. Skipping upload for test/Covid/COVID-00003b.jpg\n",
      "Target already exists. Skipping upload for test/Covid/COVID-00012.jpg\n",
      "Target already exists. Skipping upload for test/Covid/COVID-00022.jpg\n",
      "Target already exists. Skipping upload for test/Covid/COVID-00033.jpg\n",
      "Target already exists. Skipping upload for test/Covid/COVID-00037.jpg\n",
      "Target already exists. Skipping upload for test/Covid/radiopaedia-2019-novel-coronavirus-infected-pneumonia.jpg\n",
      "Target already exists. Skipping upload for test/Normal/0101.jpeg\n",
      "Target already exists. Skipping upload for test/Normal/0102.jpeg\n",
      "Target already exists. Skipping upload for test/Normal/0103.jpeg\n",
      "Target already exists. Skipping upload for test/Normal/0105.jpeg\n",
      "Target already exists. Skipping upload for test/Normal/0106.jpeg\n",
      "Target already exists. Skipping upload for test/Normal/0107.jpeg\n",
      "Target already exists. Skipping upload for test/Normal/0108.jpeg\n",
      "Target already exists. Skipping upload for test/Normal/0109.jpeg\n",
      "Target already exists. Skipping upload for test/Normal/0110.jpeg\n",
      "Target already exists. Skipping upload for test/Normal/0111.jpeg\n",
      "Target already exists. Skipping upload for test/Normal/0112.jpeg\n",
      "Target already exists. Skipping upload for test/Normal/0114.jpeg\n",
      "Target already exists. Skipping upload for test/Normal/0115.jpeg\n",
      "Target already exists. Skipping upload for test/Normal/0116.jpeg\n",
      "Target already exists. Skipping upload for test/Normal/0117.jpeg\n",
      "Target already exists. Skipping upload for test/Normal/0118.jpeg\n",
      "Target already exists. Skipping upload for test/Normal/0119.jpeg\n",
      "Target already exists. Skipping upload for test/Normal/0120.jpeg\n",
      "Target already exists. Skipping upload for test/Normal/0121.jpeg\n",
      "Target already exists. Skipping upload for test/Normal/0122.jpeg\n",
      "Target already exists. Skipping upload for test/Viral Pneumonia/0101.jpeg\n",
      "Target already exists. Skipping upload for test/Viral Pneumonia/0102.jpeg\n",
      "Target already exists. Skipping upload for test/Viral Pneumonia/0103.jpeg\n",
      "Target already exists. Skipping upload for test/Viral Pneumonia/0104.jpeg\n",
      "Target already exists. Skipping upload for test/Viral Pneumonia/0105.jpeg\n",
      "Target already exists. Skipping upload for test/Viral Pneumonia/0106.jpeg\n",
      "Target already exists. Skipping upload for test/Viral Pneumonia/0107.jpeg\n",
      "Target already exists. Skipping upload for test/Viral Pneumonia/0108.jpeg\n",
      "Target already exists. Skipping upload for test/Viral Pneumonia/0109.jpeg\n",
      "Target already exists. Skipping upload for test/Viral Pneumonia/0110.jpeg\n",
      "Target already exists. Skipping upload for test/Viral Pneumonia/0111.jpeg\n",
      "Target already exists. Skipping upload for test/Viral Pneumonia/0112.jpeg\n",
      "Target already exists. Skipping upload for test/Viral Pneumonia/0113.jpeg\n",
      "Target already exists. Skipping upload for test/Viral Pneumonia/0114.jpeg\n",
      "Target already exists. Skipping upload for test/Viral Pneumonia/0115.jpeg\n",
      "Target already exists. Skipping upload for test/Viral Pneumonia/0116.jpeg\n",
      "Target already exists. Skipping upload for test/Viral Pneumonia/0117.jpeg\n",
      "Target already exists. Skipping upload for test/Viral Pneumonia/0118.jpeg\n",
      "Target already exists. Skipping upload for test/Viral Pneumonia/0119.jpeg\n",
      "Target already exists. Skipping upload for test/Viral Pneumonia/0120.jpeg\n",
      "Target already exists. Skipping upload for train/Covid/01.jpeg\n",
      "Target already exists. Skipping upload for train/Covid/010.png\n",
      "Target already exists. Skipping upload for train/Covid/012.jpeg\n",
      "Target already exists. Skipping upload for train/Covid/015.jpg\n",
      "Target already exists. Skipping upload for train/Covid/019.png\n",
      "Target already exists. Skipping upload for train/Covid/02.jpeg\n",
      "Target already exists. Skipping upload for train/Covid/020.jpg\n",
      "Target already exists. Skipping upload for train/Covid/021.jpeg\n",
      "Target already exists. Skipping upload for train/Covid/022.jpeg\n",
      "Target already exists. Skipping upload for train/Covid/024.jpeg\n",
      "Target already exists. Skipping upload for train/Covid/025.jpeg\n",
      "Target already exists. Skipping upload for train/Covid/026.jpeg\n",
      "Target already exists. Skipping upload for train/Covid/027.jpeg\n",
      "Target already exists. Skipping upload for train/Covid/03.jpeg\n",
      "Target already exists. Skipping upload for train/Covid/031.jpeg\n",
      "Target already exists. Skipping upload for train/Covid/032.jpeg\n",
      "Target already exists. Skipping upload for train/Covid/033.png\n",
      "Target already exists. Skipping upload for train/Covid/039.jpeg\n",
      "Target already exists. Skipping upload for train/Covid/04.png\n",
      "Target already exists. Skipping upload for train/Covid/040.jpeg\n",
      "Target already exists. Skipping upload for train/Covid/041.jpeg\n",
      "Target already exists. Skipping upload for train/Covid/042.jpeg\n",
      "Target already exists. Skipping upload for train/Covid/043.jpeg\n",
      "Target already exists. Skipping upload for train/Covid/044.jpeg\n",
      "Target already exists. Skipping upload for train/Covid/045.jpeg\n",
      "Target already exists. Skipping upload for train/Covid/046.jpeg\n",
      "Target already exists. Skipping upload for train/Covid/047.jpeg\n",
      "Target already exists. Skipping upload for train/Covid/048.jpeg\n",
      "Target already exists. Skipping upload for train/Covid/049.jpeg\n",
      "Target already exists. Skipping upload for train/Covid/050.jpeg\n",
      "Target already exists. Skipping upload for train/Covid/051.jpeg\n",
      "Target already exists. Skipping upload for train/Covid/052.jpeg\n",
      "Target already exists. Skipping upload for train/Covid/053.jpeg\n",
      "Target already exists. Skipping upload for train/Covid/054.jpeg\n",
      "Target already exists. Skipping upload for train/Covid/055.jpeg\n",
      "Target already exists. Skipping upload for train/Covid/056.jpg\n",
      "Target already exists. Skipping upload for train/Covid/057.jpeg\n",
      "Target already exists. Skipping upload for train/Covid/058.jpeg\n",
      "Target already exists. Skipping upload for train/Covid/059.jpeg\n",
      "Target already exists. Skipping upload for train/Covid/06.jpeg\n",
      "Target already exists. Skipping upload for train/Covid/060.jpeg\n",
      "Target already exists. Skipping upload for train/Covid/061.jpg\n",
      "Target already exists. Skipping upload for train/Covid/062.jpeg\n",
      "Target already exists. Skipping upload for train/Covid/064.jpg\n",
      "Target already exists. Skipping upload for train/Covid/065.jpeg\n",
      "Target already exists. Skipping upload for train/Covid/067.jpg\n",
      "Target already exists. Skipping upload for train/Covid/068.jpg\n",
      "Target already exists. Skipping upload for train/Covid/069.jpg\n",
      "Target already exists. Skipping upload for train/Covid/07.jpg\n",
      "Target already exists. Skipping upload for train/Covid/071.jpg\n",
      "Target already exists. Skipping upload for train/Covid/072.jpeg\n",
      "Target already exists. Skipping upload for train/Covid/073.jpg\n",
      "Target already exists. Skipping upload for train/Covid/074.jpg\n",
      "Target already exists. Skipping upload for train/Covid/076.jpg\n",
      "Target already exists. Skipping upload for train/Covid/078.jpeg\n"
     ]
    },
    {
     "name": "stdout",
     "output_type": "stream",
     "text": [
      "Target already exists. Skipping upload for train/Covid/079.jpeg\n",
      "Target already exists. Skipping upload for train/Covid/08.jpeg\n",
      "Target already exists. Skipping upload for train/Covid/080.jpg\n",
      "Target already exists. Skipping upload for train/Covid/081.jpeg\n",
      "Target already exists. Skipping upload for train/Covid/082.jpg\n",
      "Target already exists. Skipping upload for train/Covid/083.jpeg\n",
      "Target already exists. Skipping upload for train/Covid/084.jpeg\n",
      "Target already exists. Skipping upload for train/Covid/085.jpeg\n",
      "Target already exists. Skipping upload for train/Covid/086.jpg\n",
      "Target already exists. Skipping upload for train/Covid/088.jpeg\n",
      "Target already exists. Skipping upload for train/Covid/089.jpg\n",
      "Target already exists. Skipping upload for train/Covid/09.png\n",
      "Target already exists. Skipping upload for train/Covid/090.jpeg\n",
      "Target already exists. Skipping upload for train/Covid/091.jpg\n",
      "Target already exists. Skipping upload for train/Covid/092.png\n",
      "Target already exists. Skipping upload for train/Covid/COVID-00001.jpg\n",
      "Target already exists. Skipping upload for train/Covid/COVID-00002.jpg\n",
      "Target already exists. Skipping upload for train/Covid/COVID-00003a.jpg\n",
      "Target already exists. Skipping upload for train/Covid/COVID-00003b.jpg\n",
      "Target already exists. Skipping upload for train/Covid/COVID-00004.jpg\n",
      "Target already exists. Skipping upload for train/Covid/COVID-00005.jpg\n",
      "Target already exists. Skipping upload for train/Covid/COVID-00006.jpg\n",
      "Target already exists. Skipping upload for train/Covid/COVID-00007.jpg\n",
      "Target already exists. Skipping upload for train/Covid/COVID-00008.jpg\n",
      "Target already exists. Skipping upload for train/Covid/COVID-00009.jpg\n",
      "Target already exists. Skipping upload for train/Covid/COVID-00010.jpg\n",
      "Target already exists. Skipping upload for train/Covid/COVID-00011.jpg\n",
      "Target already exists. Skipping upload for train/Covid/COVID-00012.jpg\n",
      "Target already exists. Skipping upload for train/Covid/COVID-00013a.jpg\n",
      "Target already exists. Skipping upload for train/Covid/COVID-00013b.jpg\n",
      "Target already exists. Skipping upload for train/Covid/COVID-00014.jpg\n",
      "Target already exists. Skipping upload for train/Covid/COVID-00015a.png\n",
      "Target already exists. Skipping upload for train/Covid/COVID-00015b.png\n",
      "Target already exists. Skipping upload for train/Covid/COVID-00016.jpg\n",
      "Target already exists. Skipping upload for train/Covid/COVID-00017.jpg\n",
      "Target already exists. Skipping upload for train/Covid/COVID-00018.jpg\n",
      "Target already exists. Skipping upload for train/Covid/COVID-00019.jpg\n",
      "Target already exists. Skipping upload for train/Covid/COVID-00020.jpg\n",
      "Target already exists. Skipping upload for train/Covid/COVID-00021.jpg\n",
      "Target already exists. Skipping upload for train/Covid/COVID-00022.jpg\n",
      "Target already exists. Skipping upload for train/Covid/COVID-00023.jpg\n",
      "Target already exists. Skipping upload for train/Covid/COVID-00024.jpg\n",
      "Target already exists. Skipping upload for train/Covid/COVID-00025.jpg\n",
      "Target already exists. Skipping upload for train/Covid/COVID-00026.jpg\n",
      "Target already exists. Skipping upload for train/Covid/COVID-00027.jpg\n",
      "Target already exists. Skipping upload for train/Covid/COVID-00028.jpg\n",
      "Target already exists. Skipping upload for train/Covid/COVID-00029.jpg\n",
      "Target already exists. Skipping upload for train/Covid/COVID-00030.jpg\n",
      "Target already exists. Skipping upload for train/Covid/COVID-00031.jpg\n",
      "Target already exists. Skipping upload for train/Covid/COVID-00032.jpg\n",
      "Target already exists. Skipping upload for train/Covid/COVID-00033.jpg\n",
      "Target already exists. Skipping upload for train/Covid/COVID-00034.jpg\n",
      "Target already exists. Skipping upload for train/Covid/COVID-00035.jpg\n",
      "Target already exists. Skipping upload for train/Covid/COVID-00036.jpg\n",
      "Target already exists. Skipping upload for train/Covid/COVID-00037.jpg\n",
      "Target already exists. Skipping upload for train/Covid/COVID-00038.jpg\n",
      "Target already exists. Skipping upload for train/Normal/01.jpeg\n",
      "Target already exists. Skipping upload for train/Normal/010.jpeg\n",
      "Target already exists. Skipping upload for train/Normal/011.jpeg\n",
      "Target already exists. Skipping upload for train/Normal/012.jpeg\n",
      "Target already exists. Skipping upload for train/Normal/013.jpeg\n",
      "Target already exists. Skipping upload for train/Normal/014.jpeg\n",
      "Target already exists. Skipping upload for train/Normal/015.jpeg\n",
      "Target already exists. Skipping upload for train/Normal/016.jpeg\n",
      "Target already exists. Skipping upload for train/Normal/017.jpeg\n",
      "Target already exists. Skipping upload for train/Normal/018.jpeg\n",
      "Target already exists. Skipping upload for train/Normal/019.jpeg\n",
      "Target already exists. Skipping upload for train/Normal/02.jpeg\n",
      "Target already exists. Skipping upload for train/Normal/020.jpeg\n",
      "Target already exists. Skipping upload for train/Normal/021.jpeg\n",
      "Target already exists. Skipping upload for train/Normal/022.jpeg\n",
      "Target already exists. Skipping upload for train/Normal/023.jpeg\n",
      "Target already exists. Skipping upload for train/Normal/024.jpeg\n",
      "Target already exists. Skipping upload for train/Normal/025.jpeg\n",
      "Target already exists. Skipping upload for train/Normal/03.jpeg\n",
      "Target already exists. Skipping upload for train/Normal/04.jpeg\n",
      "Target already exists. Skipping upload for train/Normal/05.jpeg\n",
      "Target already exists. Skipping upload for train/Normal/050.jpeg\n",
      "Target already exists. Skipping upload for train/Normal/051.jpeg\n",
      "Target already exists. Skipping upload for train/Normal/052.jpeg\n",
      "Target already exists. Skipping upload for train/Normal/053.jpeg\n",
      "Target already exists. Skipping upload for train/Normal/054.jpeg\n",
      "Target already exists. Skipping upload for train/Normal/055.jpeg\n",
      "Target already exists. Skipping upload for train/Normal/056.jpeg\n",
      "Target already exists. Skipping upload for train/Normal/057.jpeg\n",
      "Target already exists. Skipping upload for train/Normal/058.jpeg\n",
      "Target already exists. Skipping upload for train/Normal/059.jpeg\n",
      "Target already exists. Skipping upload for train/Normal/06.jpeg\n",
      "Target already exists. Skipping upload for train/Normal/060.jpeg\n",
      "Target already exists. Skipping upload for train/Normal/061.jpeg\n",
      "Target already exists. Skipping upload for train/Normal/062.jpeg\n",
      "Target already exists. Skipping upload for train/Normal/063.jpeg\n",
      "Target already exists. Skipping upload for train/Normal/064.jpeg\n",
      "Target already exists. Skipping upload for train/Normal/065.jpeg\n",
      "Target already exists. Skipping upload for train/Normal/066.jpeg\n",
      "Target already exists. Skipping upload for train/Normal/067.jpeg\n",
      "Target already exists. Skipping upload for train/Normal/068.jpeg\n",
      "Target already exists. Skipping upload for train/Normal/069.jpeg\n",
      "Target already exists. Skipping upload for train/Normal/07.jpeg\n",
      "Target already exists. Skipping upload for train/Normal/070.jpeg\n",
      "Target already exists. Skipping upload for train/Normal/071.jpeg\n",
      "Target already exists. Skipping upload for train/Normal/072.jpeg\n",
      "Target already exists. Skipping upload for train/Normal/073.jpeg\n",
      "Target already exists. Skipping upload for train/Normal/074.jpeg\n",
      "Target already exists. Skipping upload for train/Normal/075.jpeg\n",
      "Target already exists. Skipping upload for train/Normal/076.jpeg\n",
      "Target already exists. Skipping upload for train/Normal/077.jpeg\n",
      "Target already exists. Skipping upload for train/Normal/079.jpeg\n",
      "Target already exists. Skipping upload for train/Normal/08.jpeg\n",
      "Target already exists. Skipping upload for train/Normal/080.jpeg\n",
      "Target already exists. Skipping upload for train/Normal/081.jpeg\n",
      "Target already exists. Skipping upload for train/Normal/082.jpeg\n",
      "Target already exists. Skipping upload for train/Normal/083.jpeg\n",
      "Target already exists. Skipping upload for train/Normal/084.jpeg\n",
      "Target already exists. Skipping upload for train/Normal/085.jpeg\n",
      "Target already exists. Skipping upload for train/Normal/086.jpeg\n",
      "Target already exists. Skipping upload for train/Normal/087.jpeg\n",
      "Target already exists. Skipping upload for train/Normal/088.jpeg\n",
      "Target already exists. Skipping upload for train/Normal/09.jpeg\n",
      "Target already exists. Skipping upload for train/Normal/091.jpeg\n",
      "Target already exists. Skipping upload for train/Normal/092.jpeg\n",
      "Target already exists. Skipping upload for train/Normal/093.jpeg\n",
      "Target already exists. Skipping upload for train/Normal/094.jpeg\n",
      "Target already exists. Skipping upload for train/Normal/095.jpeg\n",
      "Target already exists. Skipping upload for train/Normal/096.jpeg\n",
      "Target already exists. Skipping upload for train/Normal/097.jpeg\n",
      "Target already exists. Skipping upload for train/Viral Pneumonia/01.jpeg\n"
     ]
    },
    {
     "name": "stdout",
     "output_type": "stream",
     "text": [
      "Target already exists. Skipping upload for train/Viral Pneumonia/010.jpeg\n",
      "Target already exists. Skipping upload for train/Viral Pneumonia/011.jpeg\n",
      "Target already exists. Skipping upload for train/Viral Pneumonia/012.jpeg\n",
      "Target already exists. Skipping upload for train/Viral Pneumonia/013.jpeg\n",
      "Target already exists. Skipping upload for train/Viral Pneumonia/016.jpeg\n",
      "Target already exists. Skipping upload for train/Viral Pneumonia/018.jpeg\n",
      "Target already exists. Skipping upload for train/Viral Pneumonia/019.jpeg\n",
      "Target already exists. Skipping upload for train/Viral Pneumonia/02.jpeg\n",
      "Target already exists. Skipping upload for train/Viral Pneumonia/020.jpeg\n",
      "Target already exists. Skipping upload for train/Viral Pneumonia/021.jpeg\n",
      "Target already exists. Skipping upload for train/Viral Pneumonia/022.jpeg\n",
      "Target already exists. Skipping upload for train/Viral Pneumonia/023.jpeg\n",
      "Target already exists. Skipping upload for train/Viral Pneumonia/024.jpeg\n",
      "Target already exists. Skipping upload for train/Viral Pneumonia/025.jpeg\n",
      "Target already exists. Skipping upload for train/Viral Pneumonia/027.jpeg\n",
      "Target already exists. Skipping upload for train/Viral Pneumonia/03.jpeg\n",
      "Target already exists. Skipping upload for train/Viral Pneumonia/031.jpeg\n",
      "Target already exists. Skipping upload for train/Viral Pneumonia/032.jpeg\n",
      "Target already exists. Skipping upload for train/Viral Pneumonia/033.jpeg\n",
      "Target already exists. Skipping upload for train/Viral Pneumonia/034.jpeg\n",
      "Target already exists. Skipping upload for train/Viral Pneumonia/035.jpeg\n",
      "Target already exists. Skipping upload for train/Viral Pneumonia/036.jpeg\n",
      "Target already exists. Skipping upload for train/Viral Pneumonia/037.jpeg\n",
      "Target already exists. Skipping upload for train/Viral Pneumonia/038.jpeg\n",
      "Target already exists. Skipping upload for train/Viral Pneumonia/04.jpeg\n",
      "Target already exists. Skipping upload for train/Viral Pneumonia/041.jpeg\n",
      "Target already exists. Skipping upload for train/Viral Pneumonia/042.jpeg\n",
      "Target already exists. Skipping upload for train/Viral Pneumonia/043.jpeg\n",
      "Target already exists. Skipping upload for train/Viral Pneumonia/044.jpeg\n",
      "Target already exists. Skipping upload for train/Viral Pneumonia/045.jpeg\n",
      "Target already exists. Skipping upload for train/Viral Pneumonia/046.jpeg\n",
      "Target already exists. Skipping upload for train/Viral Pneumonia/047.jpeg\n",
      "Target already exists. Skipping upload for train/Viral Pneumonia/048.jpeg\n",
      "Target already exists. Skipping upload for train/Viral Pneumonia/05.jpeg\n",
      "Target already exists. Skipping upload for train/Viral Pneumonia/051.jpeg\n",
      "Target already exists. Skipping upload for train/Viral Pneumonia/052.jpeg\n",
      "Target already exists. Skipping upload for train/Viral Pneumonia/053.jpeg\n",
      "Target already exists. Skipping upload for train/Viral Pneumonia/054.jpeg\n",
      "Target already exists. Skipping upload for train/Viral Pneumonia/055.jpeg\n",
      "Target already exists. Skipping upload for train/Viral Pneumonia/056.jpeg\n",
      "Target already exists. Skipping upload for train/Viral Pneumonia/057.jpeg\n",
      "Target already exists. Skipping upload for train/Viral Pneumonia/058.jpeg\n",
      "Target already exists. Skipping upload for train/Viral Pneumonia/06.jpeg\n",
      "Target already exists. Skipping upload for train/Viral Pneumonia/061.jpeg\n",
      "Target already exists. Skipping upload for train/Viral Pneumonia/062.jpeg\n",
      "Target already exists. Skipping upload for train/Viral Pneumonia/063.jpeg\n",
      "Target already exists. Skipping upload for train/Viral Pneumonia/064.jpeg\n",
      "Target already exists. Skipping upload for train/Viral Pneumonia/065.jpeg\n",
      "Target already exists. Skipping upload for train/Viral Pneumonia/066.jpeg\n",
      "Target already exists. Skipping upload for train/Viral Pneumonia/067.jpeg\n",
      "Target already exists. Skipping upload for train/Viral Pneumonia/068.jpeg\n",
      "Target already exists. Skipping upload for train/Viral Pneumonia/07.jpeg\n",
      "Target already exists. Skipping upload for train/Viral Pneumonia/071.jpeg\n",
      "Target already exists. Skipping upload for train/Viral Pneumonia/072.jpeg\n",
      "Target already exists. Skipping upload for train/Viral Pneumonia/073.jpeg\n",
      "Target already exists. Skipping upload for train/Viral Pneumonia/074.jpeg\n",
      "Target already exists. Skipping upload for train/Viral Pneumonia/075.jpeg\n",
      "Target already exists. Skipping upload for train/Viral Pneumonia/076.jpeg\n",
      "Target already exists. Skipping upload for train/Viral Pneumonia/077.jpeg\n",
      "Target already exists. Skipping upload for train/Viral Pneumonia/078.jpeg\n",
      "Target already exists. Skipping upload for train/Viral Pneumonia/08.jpeg\n",
      "Target already exists. Skipping upload for train/Viral Pneumonia/081.jpeg\n",
      "Target already exists. Skipping upload for train/Viral Pneumonia/082.jpeg\n",
      "Target already exists. Skipping upload for train/Viral Pneumonia/083.jpeg\n",
      "Target already exists. Skipping upload for train/Viral Pneumonia/084.jpeg\n",
      "Target already exists. Skipping upload for train/Viral Pneumonia/09.jpeg\n",
      "Target already exists. Skipping upload for train/Viral Pneumonia/094.jpeg\n",
      "Target already exists. Skipping upload for train/Viral Pneumonia/095.jpeg\n",
      "Target already exists. Skipping upload for train/Viral Pneumonia/096.jpeg\n",
      "Uploaded 0 files\n",
      "Creating new dataset\n",
      "type: <class 'azureml.data.file_dataset.FileDataset'>\n"
     ]
    },
    {
     "data": {
      "text/plain": [
       "{\n",
       "  \"source\": [\n",
       "    \"('workspaceblobstore', '')\"\n",
       "  ],\n",
       "  \"definition\": [\n",
       "    \"GetDatastoreFiles\"\n",
       "  ]\n",
       "}"
      ]
     },
     "execution_count": 19,
     "metadata": {},
     "output_type": "execute_result"
    }
   ],
   "source": [
    "from azureml.data.dataset_factory import FileDatasetFactory\n",
    "from tensorflow.keras.preprocessing.image import ImageDataGenerator\n",
    "\n",
    "\n",
    "def register_data():\n",
    "    data = FileDatasetFactory.upload_directory(\"./Covid19-dataset/\",target=ws.get_default_datastore())    \n",
    "    print(\"type:\",type(data))\n",
    "    \n",
    "    data.register(ws, \"covid-pneumonia-dataset\")\n",
    "    #data.download(target_path=\"./downloaded_data\", overwrite=False)\n",
    "\n",
    "    return data\n",
    "        \n",
    "register_data()"
   ]
  },
  {
   "cell_type": "code",
   "execution_count": 30,
   "metadata": {},
   "outputs": [
    {
     "name": "stdout",
     "output_type": "stream",
     "text": [
      "Found 251 images belonging to 3 classes.\n"
     ]
    },
    {
     "data": {
      "image/png": "[encoded data removed]",
      "text/plain": [
       "<Figure size 432x288 with 5 Axes>"
      ]
     },
     "metadata": {
      "needs_background": "light"
     },
     "output_type": "display_data"
    }
   ],
   "source": [
    "# def plot_data(image_generator):\n",
    "    \n",
    "#     batch = next(image_generator)[0]\n",
    "    \n",
    "#     num_images = batch.shape[0]\n",
    "#     cols = min(5,num_images)\n",
    "    \n",
    "#     fig, ax = plt.subplots(nrows=1, ncols=cols)\n",
    "\n",
    "#     for i in range(cols):\n",
    "#         image = batch[i]\n",
    "#         ax[i].imshow(image)\n",
    "#         ax[i].axis('off')\n",
    "        \n",
    "# gen = get_data()\n",
    "# plot_data(gen)"
   ]
  },
  {
   "cell_type": "raw",
   "metadata": {},
   "source": []
  },
  {
   "cell_type": "markdown",
   "metadata": {
    "collapsed": true,
    "gather": {
     "logged": 1598531923519
    },
    "jupyter": {
     "outputs_hidden": false,
     "source_hidden": false
    },
    "nteract": {
     "transient": {
      "deleting": false
     }
    }
   },
   "source": [
    "## Hyperdrive Configuration\n",
    "\n",
    "TODO: Explain the model you are using and the reason for chosing the different hyperparameters, termination policy and config settings."
   ]
  },
  {
   "cell_type": "code",
   "execution_count": null,
   "metadata": {
    "gather": {
     "logged": 1598544893076
    },
    "jupyter": {
     "outputs_hidden": false,
     "source_hidden": false
    },
    "nteract": {
     "transient": {
      "deleting": false
     }
    }
   },
   "outputs": [],
   "source": [
    "# TODO: Create an early termination policy. This is not required if you are using Bayesian sampling.\n",
    "early_termination_policy = MedianStoppingPolicy(evaluation_interval=25, delay_evaluation=10)\n",
    "\n",
    "#TODO: Create the different params that you will be using during training\n",
    "param_sampling = RandomParameterSampling({'filter1': choice([16, 32, 64, 96, 128]),\n",
    "                                          'filter2': choice([16, 32, 64, 96, 128]),\n",
    "                                          'filter3': choice(range(16,129)),\n",
    "                                          'epochs': choice(range(10,61,5)),\n",
    "                                          'dense_units': choice([16,32,64,96,128,192]),\n",
    "                                          'dropout': uniform(0.2, 0.5)})\n",
    "\n",
    "#TODO: Create your estimator and hyperdrive config\n",
    "estimator = Tensorflow(source_directory='./', compute_target=compute_cluster, vm_size=vm_size, entry_script='./main.py')\n",
    "\n",
    "hyperdrive_run_config = HyperDriveConfig(hyperparameter_sampling = param_sampling,\n",
    "                                         estimator = estimator,\n",
    "                                         policy = early_termination_policy,\n",
    "                                         primary_metric_name = 'accuracy',\n",
    "                                         primary_metric_goal = PrimaryMetricGoal.MAXIMIZE,\n",
    "                                         max_total_runs = 50,\n",
    "                                         max_concurrent_runs = 5)"
   ]
  },
  {
   "cell_type": "code",
   "execution_count": null,
   "metadata": {
    "gather": {
     "logged": 1598544897941
    },
    "jupyter": {
     "outputs_hidden": false,
     "source_hidden": false
    },
    "nteract": {
     "transient": {
      "deleting": false
     }
    }
   },
   "outputs": [],
   "source": [
    "#TODO: Submit your experiment\n",
    "hyperdrive_run = experiment.submit(hyperdrive_run_config)"
   ]
  },
  {
   "cell_type": "markdown",
   "metadata": {
    "collapsed": true,
    "gather": {
     "logged": 1598544898497
    },
    "jupyter": {
     "outputs_hidden": false,
     "source_hidden": false
    },
    "nteract": {
     "transient": {
      "deleting": false
     }
    }
   },
   "source": [
    "## Run Details\n",
    "\n",
    "OPTIONAL: Write about the different models trained and their performance. Why do you think some models did better than others?\n",
    "\n",
    "TODO: In the cell below, use the `RunDetails` widget to show the different experiments."
   ]
  },
  {
   "cell_type": "code",
   "execution_count": null,
   "metadata": {
    "gather": {
     "logged": 1598546648408
    },
    "jupyter": {
     "outputs_hidden": false,
     "source_hidden": false
    },
    "nteract": {
     "transient": {
      "deleting": false
     }
    }
   },
   "outputs": [],
   "source": [
    "RunDetails(hyperdrive_run).show()\n",
    "hyperdrive_run.wait_for_completion()"
   ]
  },
  {
   "cell_type": "markdown",
   "metadata": {},
   "source": [
    "## Best Model\n",
    "\n",
    "TODO: In the cell below, get the best model from the hyperdrive experiments and display all the properties of the model."
   ]
  },
  {
   "cell_type": "code",
   "execution_count": null,
   "metadata": {
    "gather": {
     "logged": 1598546650307
    },
    "jupyter": {
     "outputs_hidden": false,
     "source_hidden": false
    },
    "nteract": {
     "transient": {
      "deleting": false
     }
    }
   },
   "outputs": [],
   "source": [
    "best_run = hyperdrive_run.get_best_run_by_primary_metric()\n",
    "best_metrics = best_run.get_metrics()\n",
    "best_parameters = best_run.get_details()['runDefinition']['arguments']\n",
    "\n",
    "print(\"Best Run:\",best_run.id)\n",
    "print(\"Accuracy:\",best_run_metrics['accuracy'])\n",
    "print(\"Parameters:\")\n",
    "for i in range(0,len(best_parameters),2):\n",
    "    print(best_parameters[i],\"-\",best_parameters[i+1])"
   ]
  },
  {
   "cell_type": "code",
   "execution_count": null,
   "metadata": {
    "gather": {
     "logged": 1598546657829
    },
    "jupyter": {
     "outputs_hidden": false,
     "source_hidden": false
    },
    "nteract": {
     "transient": {
      "deleting": false
     }
    }
   },
   "outputs": [],
   "source": [
    "#TODO: Save the best model\n",
    "os.makedirs(\"downloadedModel\", exist_ok=True)\n",
    "best_run.download_file(name = './outputs/model', output_file_path = \"downloadedModel\")"
   ]
  },
  {
   "cell_type": "markdown",
   "metadata": {
    "collapsed": true,
    "jupyter": {
     "outputs_hidden": false,
     "source_hidden": false
    },
    "nteract": {
     "transient": {
      "deleting": false
     }
    }
   },
   "source": [
    "## Model Deployment\n",
    "\n",
    "Remember you have to deploy only one of the two models you trained.. Perform the steps in the rest of this notebook only if you wish to deploy this model.\n",
    "\n",
    "TODO: In the cell below, register the model, create an inference config and deploy the model as a web service."
   ]
  },
  {
   "cell_type": "code",
   "execution_count": null,
   "metadata": {},
   "outputs": [],
   "source": [
    "registered_model = best_run.register_model(model_name='covid-pneumonia-cnn',\n",
    "                                           model_path='./outputs/model',\n",
    "                                           model_framework=Model.Framework.TENSORFLOW,\n",
    "                                           model_framework_version='2.0')"
   ]
  },
  {
   "cell_type": "markdown",
   "metadata": {},
   "source": [
    "TODO: In the cell below, send a request to the web service you deployed to test it."
   ]
  },
  {
   "cell_type": "code",
   "execution_count": null,
   "metadata": {},
   "outputs": [],
   "source": []
  },
  {
   "cell_type": "markdown",
   "metadata": {},
   "source": [
    "TODO: In the cell below, print the logs of the web service and delete the service"
   ]
  },
  {
   "cell_type": "code",
   "execution_count": null,
   "metadata": {},
   "outputs": [],
   "source": []
  }
 ],
 "metadata": {
  "kernel_info": {
   "name": "python3-azureml"
  },
  "kernelspec": {
   "display_name": "Python 3",
   "language": "python",
   "name": "python3"
  },
  "language_info": {
   "codemirror_mode": {
    "name": "ipython",
    "version": 3
   },
   "file_extension": ".py",
   "mimetype": "text/x-python",
   "name": "python",
   "nbconvert_exporter": "python",
   "pygments_lexer": "ipython3",
   "version": "3.6.9"
  },
  "nteract": {
   "version": "nteract-front-end@1.0.0"
  }
 },
 "nbformat": 4,
 "nbformat_minor": 2
}